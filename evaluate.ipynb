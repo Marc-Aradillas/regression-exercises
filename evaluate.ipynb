{
 "cells": [
  {
   "cell_type": "code",
   "execution_count": 1,
   "id": "39fec662-195a-4064-a83e-e5695d2c84a9",
   "metadata": {},
   "outputs": [],
   "source": [
    "# imported libs\n",
    "import pandas as pd\n",
    "import numpy as np\n",
    "\n",
    "import matplotlib.pyplot as plt\n",
    "import seaborn as sns\n",
    "from sklearn.metrics import mean_squared_error, r2_score, explained_variance_score\n",
    "from sklearn.linear_model import LinearRegression\n",
    "from math import sqrt\n",
    "\n",
    "# custom lib\n",
    "\n",
    "import wrangle\n",
    "import prepare"
   ]
  },
  {
   "cell_type": "markdown",
   "id": "47d93d99-cbe7-4b81-8aa2-4db4f7dd27a6",
   "metadata": {},
   "source": [
    "# Exercises\n",
    "\n",
    "## Do you work for this exercise in either a jupyter notebook named evaluate within your regression-exercises repository. By the end of this exercise you will also create a python script named evaluate, so the overall deliverables for this exercise are the python script and jupyter notebook both with the name evaluate within your regression-exercises repo."
   ]
  },
  {
   "cell_type": "markdown",
   "id": "9759ed5f-6419-49fe-bf61-1cf6dcf55f59",
   "metadata": {},
   "source": [
    "1. Load your zillow dataset."
   ]
  },
  {
   "cell_type": "code",
   "execution_count": 2,
   "id": "7b759fc1-6d8b-4800-9981-baddb2011b73",
   "metadata": {},
   "outputs": [
    {
     "data": {
      "text/html": [
       "<div>\n",
       "<style scoped>\n",
       "    .dataframe tbody tr th:only-of-type {\n",
       "        vertical-align: middle;\n",
       "    }\n",
       "\n",
       "    .dataframe tbody tr th {\n",
       "        vertical-align: top;\n",
       "    }\n",
       "\n",
       "    .dataframe thead th {\n",
       "        text-align: right;\n",
       "    }\n",
       "</style>\n",
       "<table border=\"1\" class=\"dataframe\">\n",
       "  <thead>\n",
       "    <tr style=\"text-align: right;\">\n",
       "      <th></th>\n",
       "      <th>bedrooms</th>\n",
       "      <th>bathrooms</th>\n",
       "      <th>area</th>\n",
       "      <th>tax_value</th>\n",
       "      <th>year_built</th>\n",
       "      <th>tax_amount</th>\n",
       "      <th>fips</th>\n",
       "    </tr>\n",
       "  </thead>\n",
       "  <tbody>\n",
       "    <tr>\n",
       "      <th>1001601</th>\n",
       "      <td>3</td>\n",
       "      <td>2.0</td>\n",
       "      <td>1452</td>\n",
       "      <td>241012</td>\n",
       "      <td>1980</td>\n",
       "      <td>2974.81</td>\n",
       "      <td>6037</td>\n",
       "    </tr>\n",
       "    <tr>\n",
       "      <th>611989</th>\n",
       "      <td>3</td>\n",
       "      <td>2.0</td>\n",
       "      <td>1262</td>\n",
       "      <td>235630</td>\n",
       "      <td>1953</td>\n",
       "      <td>3029.22</td>\n",
       "      <td>6037</td>\n",
       "    </tr>\n",
       "    <tr>\n",
       "      <th>658616</th>\n",
       "      <td>3</td>\n",
       "      <td>1.0</td>\n",
       "      <td>1447</td>\n",
       "      <td>435123</td>\n",
       "      <td>1947</td>\n",
       "      <td>5226.67</td>\n",
       "      <td>6037</td>\n",
       "    </tr>\n",
       "    <tr>\n",
       "      <th>835115</th>\n",
       "      <td>3</td>\n",
       "      <td>2.0</td>\n",
       "      <td>1403</td>\n",
       "      <td>268770</td>\n",
       "      <td>1965</td>\n",
       "      <td>2849.62</td>\n",
       "      <td>6111</td>\n",
       "    </tr>\n",
       "    <tr>\n",
       "      <th>242295</th>\n",
       "      <td>3</td>\n",
       "      <td>2.0</td>\n",
       "      <td>1456</td>\n",
       "      <td>365000</td>\n",
       "      <td>1961</td>\n",
       "      <td>4582.48</td>\n",
       "      <td>6037</td>\n",
       "    </tr>\n",
       "  </tbody>\n",
       "</table>\n",
       "</div>"
      ],
      "text/plain": [
       "         bedrooms  bathrooms  area  tax_value  year_built  tax_amount  fips\n",
       "1001601         3        2.0  1452     241012        1980     2974.81  6037\n",
       "611989          3        2.0  1262     235630        1953     3029.22  6037\n",
       "658616          3        1.0  1447     435123        1947     5226.67  6037\n",
       "835115          3        2.0  1403     268770        1965     2849.62  6111\n",
       "242295          3        2.0  1456     365000        1961     4582.48  6037"
      ]
     },
     "execution_count": 2,
     "metadata": {},
     "output_type": "execute_result"
    }
   ],
   "source": [
    "# loaded data and spltted\n",
    "df = wrangle.wrangle_zillow()\n",
    "train, val, test = wrangle.train_val_test(df)\n",
    "train.head()"
   ]
  },
  {
   "cell_type": "markdown",
   "id": "cfa7d2d7-4089-43ab-93a9-d5f5d23bb138",
   "metadata": {},
   "source": [
    "2. Fit a linear regression model (ordinary least squares) and compute yhat, predictions of taxvaluedollarcnt using only calculatedfinishedsqft.\n",
    "\n",
    "- tax_value\n",
    "- area"
   ]
  },
  {
   "cell_type": "code",
   "execution_count": 3,
   "id": "1b0ada55-da5b-47eb-9ca5-ce649e784709",
   "metadata": {},
   "outputs": [],
   "source": [
    "# set model varible to log ref.\n",
    "model = LinearRegression()"
   ]
  },
  {
   "cell_type": "code",
   "execution_count": 4,
   "id": "01c0d1c8-6ab8-408d-a728-d6162be23d0f",
   "metadata": {},
   "outputs": [],
   "source": [
    "# split into subsets for train and val\n",
    "X_train = train[['area']]\n",
    "y_train = train.tax_value\n",
    "\n",
    "X_val = val[['area']]\n",
    "y_val = val.tax_value"
   ]
  },
  {
   "cell_type": "code",
   "execution_count": 5,
   "id": "bde24b97-1db5-453f-8412-f5d55e9fdbc2",
   "metadata": {},
   "outputs": [
    {
     "data": {
      "text/plain": [
       "328010.5"
      ]
     },
     "execution_count": 5,
     "metadata": {},
     "output_type": "execute_result"
    }
   ],
   "source": [
    "# using median\n",
    "y_train.median()"
   ]
  },
  {
   "cell_type": "code",
   "execution_count": 6,
   "id": "0bfae246-21b4-4ca2-ab06-307f318d4a2d",
   "metadata": {},
   "outputs": [
    {
     "data": {
      "text/html": [
       "<div>\n",
       "<style scoped>\n",
       "    .dataframe tbody tr th:only-of-type {\n",
       "        vertical-align: middle;\n",
       "    }\n",
       "\n",
       "    .dataframe tbody tr th {\n",
       "        vertical-align: top;\n",
       "    }\n",
       "\n",
       "    .dataframe thead th {\n",
       "        text-align: right;\n",
       "    }\n",
       "</style>\n",
       "<table border=\"1\" class=\"dataframe\">\n",
       "  <thead>\n",
       "    <tr style=\"text-align: right;\">\n",
       "      <th></th>\n",
       "      <th>y_actual</th>\n",
       "      <th>y_baseline</th>\n",
       "    </tr>\n",
       "  </thead>\n",
       "  <tbody>\n",
       "    <tr>\n",
       "      <th>1001601</th>\n",
       "      <td>241012</td>\n",
       "      <td>328010.5</td>\n",
       "    </tr>\n",
       "    <tr>\n",
       "      <th>611989</th>\n",
       "      <td>235630</td>\n",
       "      <td>328010.5</td>\n",
       "    </tr>\n",
       "    <tr>\n",
       "      <th>658616</th>\n",
       "      <td>435123</td>\n",
       "      <td>328010.5</td>\n",
       "    </tr>\n",
       "    <tr>\n",
       "      <th>835115</th>\n",
       "      <td>268770</td>\n",
       "      <td>328010.5</td>\n",
       "    </tr>\n",
       "    <tr>\n",
       "      <th>242295</th>\n",
       "      <td>365000</td>\n",
       "      <td>328010.5</td>\n",
       "    </tr>\n",
       "  </tbody>\n",
       "</table>\n",
       "</div>"
      ],
      "text/plain": [
       "         y_actual  y_baseline\n",
       "1001601    241012    328010.5\n",
       "611989     235630    328010.5\n",
       "658616     435123    328010.5\n",
       "835115     268770    328010.5\n",
       "242295     365000    328010.5"
      ]
     },
     "execution_count": 6,
     "metadata": {},
     "output_type": "execute_result"
    }
   ],
   "source": [
    "# created a DF to work with\n",
    "preds = pd.DataFrame({'y_actual' : y_train,\n",
    "              'y_baseline': y_train.median()})\n",
    "\n",
    "preds.head()"
   ]
  },
  {
   "cell_type": "code",
   "execution_count": 7,
   "id": "fd9fc5aa-2c67-4d88-899d-03a8219d13f3",
   "metadata": {},
   "outputs": [
    {
     "data": {
      "text/html": [
       "<div>\n",
       "<style scoped>\n",
       "    .dataframe tbody tr th:only-of-type {\n",
       "        vertical-align: middle;\n",
       "    }\n",
       "\n",
       "    .dataframe tbody tr th {\n",
       "        vertical-align: top;\n",
       "    }\n",
       "\n",
       "    .dataframe thead th {\n",
       "        text-align: right;\n",
       "    }\n",
       "</style>\n",
       "<table border=\"1\" class=\"dataframe\">\n",
       "  <thead>\n",
       "    <tr style=\"text-align: right;\">\n",
       "      <th></th>\n",
       "      <th>y_actual</th>\n",
       "      <th>y_baseline</th>\n",
       "      <th>y_baseline_resids</th>\n",
       "    </tr>\n",
       "  </thead>\n",
       "  <tbody>\n",
       "    <tr>\n",
       "      <th>1001601</th>\n",
       "      <td>241012</td>\n",
       "      <td>328010.5</td>\n",
       "      <td>86998.5</td>\n",
       "    </tr>\n",
       "    <tr>\n",
       "      <th>611989</th>\n",
       "      <td>235630</td>\n",
       "      <td>328010.5</td>\n",
       "      <td>92380.5</td>\n",
       "    </tr>\n",
       "    <tr>\n",
       "      <th>658616</th>\n",
       "      <td>435123</td>\n",
       "      <td>328010.5</td>\n",
       "      <td>-107112.5</td>\n",
       "    </tr>\n",
       "    <tr>\n",
       "      <th>835115</th>\n",
       "      <td>268770</td>\n",
       "      <td>328010.5</td>\n",
       "      <td>59240.5</td>\n",
       "    </tr>\n",
       "    <tr>\n",
       "      <th>242295</th>\n",
       "      <td>365000</td>\n",
       "      <td>328010.5</td>\n",
       "      <td>-36989.5</td>\n",
       "    </tr>\n",
       "  </tbody>\n",
       "</table>\n",
       "</div>"
      ],
      "text/plain": [
       "         y_actual  y_baseline  y_baseline_resids\n",
       "1001601    241012    328010.5            86998.5\n",
       "611989     235630    328010.5            92380.5\n",
       "658616     435123    328010.5          -107112.5\n",
       "835115     268770    328010.5            59240.5\n",
       "242295     365000    328010.5           -36989.5"
      ]
     },
     "execution_count": 7,
     "metadata": {},
     "output_type": "execute_result"
    }
   ],
   "source": [
    "# calculating residuals\n",
    "preds['y_baseline_resids'] = preds['y_baseline'] - preds['y_actual']\n",
    "preds.head()"
   ]
  },
  {
   "cell_type": "markdown",
   "id": "4f5cea70-d812-4d6e-bd2c-946a10de3247",
   "metadata": {},
   "source": [
    "Here is some sample code to get you started:  \n",
    "Modify and add to the code above as necessary for it to work with the zillow dataset."
   ]
  },
  {
   "cell_type": "code",
   "execution_count": 8,
   "id": "9b7d99f6-abcf-46e8-ac0e-43c2e048f540",
   "metadata": {},
   "outputs": [],
   "source": [
    "# assuming X and y are already defined\n",
    "model = LinearRegression().fit(X_train, y_train)\n",
    "\n",
    "model.fit(X_train, y_train)\n",
    "\n",
    "preds['y_hat'] = model.predict(X_train)"
   ]
  },
  {
   "cell_type": "code",
   "execution_count": 9,
   "id": "04ce30da-0b86-481d-a244-6f88643bda3d",
   "metadata": {},
   "outputs": [
    {
     "data": {
      "text/html": [
       "<style>#sk-container-id-1 {color: black;background-color: white;}#sk-container-id-1 pre{padding: 0;}#sk-container-id-1 div.sk-toggleable {background-color: white;}#sk-container-id-1 label.sk-toggleable__label {cursor: pointer;display: block;width: 100%;margin-bottom: 0;padding: 0.3em;box-sizing: border-box;text-align: center;}#sk-container-id-1 label.sk-toggleable__label-arrow:before {content: \"▸\";float: left;margin-right: 0.25em;color: #696969;}#sk-container-id-1 label.sk-toggleable__label-arrow:hover:before {color: black;}#sk-container-id-1 div.sk-estimator:hover label.sk-toggleable__label-arrow:before {color: black;}#sk-container-id-1 div.sk-toggleable__content {max-height: 0;max-width: 0;overflow: hidden;text-align: left;background-color: #f0f8ff;}#sk-container-id-1 div.sk-toggleable__content pre {margin: 0.2em;color: black;border-radius: 0.25em;background-color: #f0f8ff;}#sk-container-id-1 input.sk-toggleable__control:checked~div.sk-toggleable__content {max-height: 200px;max-width: 100%;overflow: auto;}#sk-container-id-1 input.sk-toggleable__control:checked~label.sk-toggleable__label-arrow:before {content: \"▾\";}#sk-container-id-1 div.sk-estimator input.sk-toggleable__control:checked~label.sk-toggleable__label {background-color: #d4ebff;}#sk-container-id-1 div.sk-label input.sk-toggleable__control:checked~label.sk-toggleable__label {background-color: #d4ebff;}#sk-container-id-1 input.sk-hidden--visually {border: 0;clip: rect(1px 1px 1px 1px);clip: rect(1px, 1px, 1px, 1px);height: 1px;margin: -1px;overflow: hidden;padding: 0;position: absolute;width: 1px;}#sk-container-id-1 div.sk-estimator {font-family: monospace;background-color: #f0f8ff;border: 1px dotted black;border-radius: 0.25em;box-sizing: border-box;margin-bottom: 0.5em;}#sk-container-id-1 div.sk-estimator:hover {background-color: #d4ebff;}#sk-container-id-1 div.sk-parallel-item::after {content: \"\";width: 100%;border-bottom: 1px solid gray;flex-grow: 1;}#sk-container-id-1 div.sk-label:hover label.sk-toggleable__label {background-color: #d4ebff;}#sk-container-id-1 div.sk-serial::before {content: \"\";position: absolute;border-left: 1px solid gray;box-sizing: border-box;top: 0;bottom: 0;left: 50%;z-index: 0;}#sk-container-id-1 div.sk-serial {display: flex;flex-direction: column;align-items: center;background-color: white;padding-right: 0.2em;padding-left: 0.2em;position: relative;}#sk-container-id-1 div.sk-item {position: relative;z-index: 1;}#sk-container-id-1 div.sk-parallel {display: flex;align-items: stretch;justify-content: center;background-color: white;position: relative;}#sk-container-id-1 div.sk-item::before, #sk-container-id-1 div.sk-parallel-item::before {content: \"\";position: absolute;border-left: 1px solid gray;box-sizing: border-box;top: 0;bottom: 0;left: 50%;z-index: -1;}#sk-container-id-1 div.sk-parallel-item {display: flex;flex-direction: column;z-index: 1;position: relative;background-color: white;}#sk-container-id-1 div.sk-parallel-item:first-child::after {align-self: flex-end;width: 50%;}#sk-container-id-1 div.sk-parallel-item:last-child::after {align-self: flex-start;width: 50%;}#sk-container-id-1 div.sk-parallel-item:only-child::after {width: 0;}#sk-container-id-1 div.sk-dashed-wrapped {border: 1px dashed gray;margin: 0 0.4em 0.5em 0.4em;box-sizing: border-box;padding-bottom: 0.4em;background-color: white;}#sk-container-id-1 div.sk-label label {font-family: monospace;font-weight: bold;display: inline-block;line-height: 1.2em;}#sk-container-id-1 div.sk-label-container {text-align: center;}#sk-container-id-1 div.sk-container {/* jupyter's `normalize.less` sets `[hidden] { display: none; }` but bootstrap.min.css set `[hidden] { display: none !important; }` so we also need the `!important` here to be able to override the default hidden behavior on the sphinx rendered scikit-learn.org. See: https://github.com/scikit-learn/scikit-learn/issues/21755 */display: inline-block !important;position: relative;}#sk-container-id-1 div.sk-text-repr-fallback {display: none;}</style><div id=\"sk-container-id-1\" class=\"sk-top-container\"><div class=\"sk-text-repr-fallback\"><pre>LinearRegression()</pre><b>In a Jupyter environment, please rerun this cell to show the HTML representation or trust the notebook. <br />On GitHub, the HTML representation is unable to render, please try loading this page with nbviewer.org.</b></div><div class=\"sk-container\" hidden><div class=\"sk-item\"><div class=\"sk-estimator sk-toggleable\"><input class=\"sk-toggleable__control sk-hidden--visually\" id=\"sk-estimator-id-1\" type=\"checkbox\" checked><label for=\"sk-estimator-id-1\" class=\"sk-toggleable__label sk-toggleable__label-arrow\">LinearRegression</label><div class=\"sk-toggleable__content\"><pre>LinearRegression()</pre></div></div></div></div></div>"
      ],
      "text/plain": [
       "LinearRegression()"
      ]
     },
     "execution_count": 9,
     "metadata": {},
     "output_type": "execute_result"
    }
   ],
   "source": [
    "model"
   ]
  },
  {
   "cell_type": "code",
   "execution_count": 10,
   "id": "913bef3a-77fc-43e5-bfc6-73554ebf90c1",
   "metadata": {},
   "outputs": [],
   "source": [
    "# y-hat resids calc\n",
    "preds['y_hat_resids'] = preds['y_hat'] - preds['y_actual']"
   ]
  },
  {
   "cell_type": "code",
   "execution_count": 11,
   "id": "f762c510-7c66-4525-80a9-375e9d63e07a",
   "metadata": {},
   "outputs": [
    {
     "data": {
      "image/png": "[encoded data removed]",
      "text/plain": [
       "<Figure size 640x480 with 1 Axes>"
      ]
     },
     "metadata": {},
     "output_type": "display_data"
    }
   ],
   "source": [
    "# baseline \n",
    "sns.scatterplot(data=preds, x='y_actual', y='y_baseline_resids')\n",
    "plt.show()"
   ]
  },
  {
   "cell_type": "markdown",
   "id": "3815b2ae-cfc7-4918-9415-0c0398b5213f",
   "metadata": {},
   "source": [
    "3. Plot the residuals for the linear regression model that you made."
   ]
  },
  {
   "cell_type": "code",
   "execution_count": 12,
   "id": "10831dc1-fe63-4389-80e0-48511d9b53fd",
   "metadata": {},
   "outputs": [
    {
     "data": {
      "image/png": "[encoded data removed]",
      "text/plain": [
       "<Figure size 640x480 with 1 Axes>"
      ]
     },
     "metadata": {},
     "output_type": "display_data"
    }
   ],
   "source": [
    "# calculated and ploted residulas for model\n",
    "sns.scatterplot(data=preds, x='y_actual', y='y_hat_resids')\n",
    "plt.show()"
   ]
  },
  {
   "cell_type": "markdown",
   "id": "f8f67f73-c6d2-4626-a643-3a4e2b23456b",
   "metadata": {},
   "source": [
    "4. Calculate the sum of squared errors, explained sum of squares, total sum of squares, mean squared error, and root mean squared error for your **MODEL**."
   ]
  },
  {
   "cell_type": "markdown",
   "id": "5a457864-ec79-49e2-9712-26b925d489b8",
   "metadata": {},
   "source": [
    "- sum of squared errors"
   ]
  },
  {
   "cell_type": "code",
   "execution_count": 13,
   "id": "24445287-fe94-4e87-ad51-bd7f45d9e287",
   "metadata": {},
   "outputs": [
    {
     "data": {
      "text/html": [
       "<div>\n",
       "<style scoped>\n",
       "    .dataframe tbody tr th:only-of-type {\n",
       "        vertical-align: middle;\n",
       "    }\n",
       "\n",
       "    .dataframe tbody tr th {\n",
       "        vertical-align: top;\n",
       "    }\n",
       "\n",
       "    .dataframe thead th {\n",
       "        text-align: right;\n",
       "    }\n",
       "</style>\n",
       "<table border=\"1\" class=\"dataframe\">\n",
       "  <thead>\n",
       "    <tr style=\"text-align: right;\">\n",
       "      <th></th>\n",
       "      <th>y_actual</th>\n",
       "      <th>y_baseline</th>\n",
       "      <th>y_baseline_resids</th>\n",
       "      <th>y_hat</th>\n",
       "      <th>y_hat_resids</th>\n",
       "      <th>y_hat_resids_sq</th>\n",
       "    </tr>\n",
       "  </thead>\n",
       "  <tbody>\n",
       "    <tr>\n",
       "      <th>1001601</th>\n",
       "      <td>241012</td>\n",
       "      <td>328010.5</td>\n",
       "      <td>86998.5</td>\n",
       "      <td>364907.314578</td>\n",
       "      <td>123895.314578</td>\n",
       "      <td>1.535005e+10</td>\n",
       "    </tr>\n",
       "    <tr>\n",
       "      <th>611989</th>\n",
       "      <td>235630</td>\n",
       "      <td>328010.5</td>\n",
       "      <td>92380.5</td>\n",
       "      <td>320717.233800</td>\n",
       "      <td>85087.233800</td>\n",
       "      <td>7.239837e+09</td>\n",
       "    </tr>\n",
       "    <tr>\n",
       "      <th>658616</th>\n",
       "      <td>435123</td>\n",
       "      <td>328010.5</td>\n",
       "      <td>-107112.5</td>\n",
       "      <td>363744.417715</td>\n",
       "      <td>-71378.582285</td>\n",
       "      <td>5.094902e+09</td>\n",
       "    </tr>\n",
       "    <tr>\n",
       "      <th>835115</th>\n",
       "      <td>268770</td>\n",
       "      <td>328010.5</td>\n",
       "      <td>59240.5</td>\n",
       "      <td>353510.925325</td>\n",
       "      <td>84740.925325</td>\n",
       "      <td>7.181024e+09</td>\n",
       "    </tr>\n",
       "    <tr>\n",
       "      <th>242295</th>\n",
       "      <td>365000</td>\n",
       "      <td>328010.5</td>\n",
       "      <td>-36989.5</td>\n",
       "      <td>365837.632068</td>\n",
       "      <td>837.632068</td>\n",
       "      <td>7.016275e+05</td>\n",
       "    </tr>\n",
       "  </tbody>\n",
       "</table>\n",
       "</div>"
      ],
      "text/plain": [
       "         y_actual  y_baseline  y_baseline_resids          y_hat  \\\n",
       "1001601    241012    328010.5            86998.5  364907.314578   \n",
       "611989     235630    328010.5            92380.5  320717.233800   \n",
       "658616     435123    328010.5          -107112.5  363744.417715   \n",
       "835115     268770    328010.5            59240.5  353510.925325   \n",
       "242295     365000    328010.5           -36989.5  365837.632068   \n",
       "\n",
       "          y_hat_resids  y_hat_resids_sq  \n",
       "1001601  123895.314578     1.535005e+10  \n",
       "611989    85087.233800     7.239837e+09  \n",
       "658616   -71378.582285     5.094902e+09  \n",
       "835115    84740.925325     7.181024e+09  \n",
       "242295      837.632068     7.016275e+05  "
      ]
     },
     "execution_count": 13,
     "metadata": {},
     "output_type": "execute_result"
    }
   ],
   "source": [
    "# calculated sse\n",
    "preds['y_hat_resids_sq'] = preds['y_hat_resids'] ** 2\n",
    "preds.head()"
   ]
  },
  {
   "cell_type": "code",
   "execution_count": 14,
   "id": "90d688fd-6162-4272-a9ab-fc13a2fe5f28",
   "metadata": {},
   "outputs": [
    {
     "data": {
      "text/plain": [
       "5.523021635076628e+17"
      ]
     },
     "execution_count": 14,
     "metadata": {},
     "output_type": "execute_result"
    }
   ],
   "source": [
    "# sse sum for model\n",
    "sse_model = preds.y_hat_resids_sq.sum()\n",
    "sse_model"
   ]
  },
  {
   "cell_type": "markdown",
   "id": "ca1157e8-a92f-47e0-ab37-e270c0441922",
   "metadata": {},
   "source": [
    "- explained of squared errors"
   ]
  },
  {
   "cell_type": "code",
   "execution_count": 15,
   "id": "2b70f827-6217-449d-9d99-70a1cf2a66a9",
   "metadata": {},
   "outputs": [
    {
     "data": {
      "text/html": [
       "<div>\n",
       "<style scoped>\n",
       "    .dataframe tbody tr th:only-of-type {\n",
       "        vertical-align: middle;\n",
       "    }\n",
       "\n",
       "    .dataframe tbody tr th {\n",
       "        vertical-align: top;\n",
       "    }\n",
       "\n",
       "    .dataframe thead th {\n",
       "        text-align: right;\n",
       "    }\n",
       "</style>\n",
       "<table border=\"1\" class=\"dataframe\">\n",
       "  <thead>\n",
       "    <tr style=\"text-align: right;\">\n",
       "      <th></th>\n",
       "      <th>y_actual</th>\n",
       "      <th>y_baseline</th>\n",
       "      <th>y_baseline_resids</th>\n",
       "      <th>y_hat</th>\n",
       "      <th>y_hat_resids</th>\n",
       "      <th>y_hat_resids_sq</th>\n",
       "      <th>y_hat_minus_mean</th>\n",
       "    </tr>\n",
       "  </thead>\n",
       "  <tbody>\n",
       "    <tr>\n",
       "      <th>1001601</th>\n",
       "      <td>241012</td>\n",
       "      <td>328010.5</td>\n",
       "      <td>86998.5</td>\n",
       "      <td>364907.314578</td>\n",
       "      <td>123895.314578</td>\n",
       "      <td>1.535005e+10</td>\n",
       "      <td>-95593.005277</td>\n",
       "    </tr>\n",
       "    <tr>\n",
       "      <th>611989</th>\n",
       "      <td>235630</td>\n",
       "      <td>328010.5</td>\n",
       "      <td>92380.5</td>\n",
       "      <td>320717.233800</td>\n",
       "      <td>85087.233800</td>\n",
       "      <td>7.239837e+09</td>\n",
       "      <td>-139783.086055</td>\n",
       "    </tr>\n",
       "    <tr>\n",
       "      <th>658616</th>\n",
       "      <td>435123</td>\n",
       "      <td>328010.5</td>\n",
       "      <td>-107112.5</td>\n",
       "      <td>363744.417715</td>\n",
       "      <td>-71378.582285</td>\n",
       "      <td>5.094902e+09</td>\n",
       "      <td>-96755.902139</td>\n",
       "    </tr>\n",
       "    <tr>\n",
       "      <th>835115</th>\n",
       "      <td>268770</td>\n",
       "      <td>328010.5</td>\n",
       "      <td>59240.5</td>\n",
       "      <td>353510.925325</td>\n",
       "      <td>84740.925325</td>\n",
       "      <td>7.181024e+09</td>\n",
       "      <td>-106989.394530</td>\n",
       "    </tr>\n",
       "    <tr>\n",
       "      <th>242295</th>\n",
       "      <td>365000</td>\n",
       "      <td>328010.5</td>\n",
       "      <td>-36989.5</td>\n",
       "      <td>365837.632068</td>\n",
       "      <td>837.632068</td>\n",
       "      <td>7.016275e+05</td>\n",
       "      <td>-94662.687787</td>\n",
       "    </tr>\n",
       "  </tbody>\n",
       "</table>\n",
       "</div>"
      ],
      "text/plain": [
       "         y_actual  y_baseline  y_baseline_resids          y_hat  \\\n",
       "1001601    241012    328010.5            86998.5  364907.314578   \n",
       "611989     235630    328010.5            92380.5  320717.233800   \n",
       "658616     435123    328010.5          -107112.5  363744.417715   \n",
       "835115     268770    328010.5            59240.5  353510.925325   \n",
       "242295     365000    328010.5           -36989.5  365837.632068   \n",
       "\n",
       "          y_hat_resids  y_hat_resids_sq  y_hat_minus_mean  \n",
       "1001601  123895.314578     1.535005e+10     -95593.005277  \n",
       "611989    85087.233800     7.239837e+09    -139783.086055  \n",
       "658616   -71378.582285     5.094902e+09     -96755.902139  \n",
       "835115    84740.925325     7.181024e+09    -106989.394530  \n",
       "242295      837.632068     7.016275e+05     -94662.687787  "
      ]
     },
     "execution_count": 15,
     "metadata": {},
     "output_type": "execute_result"
    }
   ],
   "source": [
    "# calculated ess for model\n",
    "preds['y_hat_minus_mean'] = preds['y_hat'] - preds['y_actual'].mean()\n",
    "preds.head()"
   ]
  },
  {
   "cell_type": "code",
   "execution_count": 16,
   "id": "5817fccf-18f0-4bbf-a047-9d2642c79a0a",
   "metadata": {},
   "outputs": [
    {
     "data": {
      "text/plain": [
       "1.400345626838779e+17"
      ]
     },
     "execution_count": 16,
     "metadata": {},
     "output_type": "execute_result"
    }
   ],
   "source": [
    "# ess for model\n",
    "ess_model = sum(preds['y_hat_minus_mean'] ** 2)\n",
    "ess_model"
   ]
  },
  {
   "cell_type": "markdown",
   "id": "389c8a05-34e5-44fa-9a1c-63a34d8d25e0",
   "metadata": {},
   "source": [
    "- total sum of squared errors"
   ]
  },
  {
   "cell_type": "code",
   "execution_count": 17,
   "id": "ee76b934-84dc-4d53-b328-eb0cae2e52c2",
   "metadata": {},
   "outputs": [
    {
     "data": {
      "text/plain": [
       "6.923367261915407e+17"
      ]
     },
     "execution_count": 17,
     "metadata": {},
     "output_type": "execute_result"
    }
   ],
   "source": [
    "# total sum of squares for model\n",
    "tss_model = sse_model + ess_model\n",
    "tss_model"
   ]
  },
  {
   "cell_type": "markdown",
   "id": "a656adc2-c825-4497-b6c2-930d8a99c9cb",
   "metadata": {},
   "source": [
    "- mean squared error"
   ]
  },
  {
   "cell_type": "code",
   "execution_count": 18,
   "id": "f689b3ee-06e0-4425-8546-606d5319d066",
   "metadata": {},
   "outputs": [
    {
     "data": {
      "text/plain": [
       "368652673210.4515"
      ]
     },
     "execution_count": 18,
     "metadata": {},
     "output_type": "execute_result"
    }
   ],
   "source": [
    "# calculating mean squared error for model\n",
    "mse_model = sse_model/len(preds)\n",
    "mse_model"
   ]
  },
  {
   "cell_type": "markdown",
   "id": "be44538a-fa84-4bc0-ae45-e13826ea1006",
   "metadata": {},
   "source": [
    "- root mean squared error"
   ]
  },
  {
   "cell_type": "code",
   "execution_count": 19,
   "id": "5237ebb9-97e7-46f2-abbf-cf6698ed555c",
   "metadata": {},
   "outputs": [
    {
     "data": {
      "text/plain": [
       "607167.7471757302"
      ]
     },
     "execution_count": 19,
     "metadata": {},
     "output_type": "execute_result"
    }
   ],
   "source": [
    "# calculating square root of mean squared error\n",
    "rmse_model = sqrt(mse_model)\n",
    "rmse_model"
   ]
  },
  {
   "cell_type": "markdown",
   "id": "c4e6866c-e2ac-492f-bcdd-7da24768c3e8",
   "metadata": {},
   "source": [
    "* model plotted:"
   ]
  },
  {
   "cell_type": "code",
   "execution_count": 20,
   "id": "3ba08d02-dafc-490e-b02a-da4fae7e8bd0",
   "metadata": {},
   "outputs": [],
   "source": [
    "lm = LinearRegression()\n",
    "\n",
    "lm.fit(X_train, y_train)\n",
    "\n",
    "preds['y_hat'] = lm.predict(X_train)"
   ]
  },
  {
   "cell_type": "code",
   "execution_count": 21,
   "id": "6cd33d29-b1dc-4a07-806d-3ec97bad56c1",
   "metadata": {},
   "outputs": [
    {
     "data": {
      "text/plain": [
       "607167.7471757302"
      ]
     },
     "execution_count": 21,
     "metadata": {},
     "output_type": "execute_result"
    }
   ],
   "source": [
    "rmse_model = sqrt(mean_squared_error(preds['y_actual'], preds['y_hat']))\n",
    "rmse_model"
   ]
  },
  {
   "cell_type": "code",
   "execution_count": 22,
   "id": "a3b64bd0-3551-4ae7-8b64-bac3265b2e9f",
   "metadata": {},
   "outputs": [
    {
     "name": "stdout",
     "output_type": "stream",
     "text": [
      "RMSE of our model : 607168\n"
     ]
    }
   ],
   "source": [
    "print(f'RMSE of our model : {round(rmse_model)}')"
   ]
  },
  {
   "cell_type": "markdown",
   "id": "677a2f82-15cf-4c11-bda1-92a2324087f5",
   "metadata": {},
   "source": [
    "5. Calculate the sum of squared errors, mean squared error, and root mean squared error for the **BASELINE MODEL** (i.e. a model that always predicts the average taxvaluedollarcnt amount)."
   ]
  },
  {
   "cell_type": "markdown",
   "id": "8127475e-a588-4c20-827e-1920c0f1790f",
   "metadata": {},
   "source": [
    "- sum of squared errors"
   ]
  },
  {
   "cell_type": "code",
   "execution_count": 30,
   "id": "4c46d5e1-00a8-4eae-baf1-9fecfadd2b1d",
   "metadata": {},
   "outputs": [
    {
     "data": {
      "text/html": [
       "<div>\n",
       "<style scoped>\n",
       "    .dataframe tbody tr th:only-of-type {\n",
       "        vertical-align: middle;\n",
       "    }\n",
       "\n",
       "    .dataframe tbody tr th {\n",
       "        vertical-align: top;\n",
       "    }\n",
       "\n",
       "    .dataframe thead th {\n",
       "        text-align: right;\n",
       "    }\n",
       "</style>\n",
       "<table border=\"1\" class=\"dataframe\">\n",
       "  <thead>\n",
       "    <tr style=\"text-align: right;\">\n",
       "      <th></th>\n",
       "      <th>y_actual</th>\n",
       "      <th>y_baseline</th>\n",
       "      <th>y_baseline_resids</th>\n",
       "      <th>y_hat</th>\n",
       "      <th>y_hat_resids</th>\n",
       "      <th>y_hat_resids_sq</th>\n",
       "      <th>y_hat_minus_mean</th>\n",
       "      <th>y_baseline_resids_sq</th>\n",
       "      <th>y_baseline_minus_mean</th>\n",
       "    </tr>\n",
       "  </thead>\n",
       "  <tbody>\n",
       "    <tr>\n",
       "      <th>1001601</th>\n",
       "      <td>241012</td>\n",
       "      <td>328010.5</td>\n",
       "      <td>86998.5</td>\n",
       "      <td>364907.314578</td>\n",
       "      <td>123895.314578</td>\n",
       "      <td>1.535005e+10</td>\n",
       "      <td>-95593.005277</td>\n",
       "      <td>7.568739e+09</td>\n",
       "      <td>-132489.819855</td>\n",
       "    </tr>\n",
       "    <tr>\n",
       "      <th>611989</th>\n",
       "      <td>235630</td>\n",
       "      <td>328010.5</td>\n",
       "      <td>92380.5</td>\n",
       "      <td>320717.233800</td>\n",
       "      <td>85087.233800</td>\n",
       "      <td>7.239837e+09</td>\n",
       "      <td>-139783.086055</td>\n",
       "      <td>8.534157e+09</td>\n",
       "      <td>-132489.819855</td>\n",
       "    </tr>\n",
       "    <tr>\n",
       "      <th>658616</th>\n",
       "      <td>435123</td>\n",
       "      <td>328010.5</td>\n",
       "      <td>-107112.5</td>\n",
       "      <td>363744.417715</td>\n",
       "      <td>-71378.582285</td>\n",
       "      <td>5.094902e+09</td>\n",
       "      <td>-96755.902139</td>\n",
       "      <td>1.147309e+10</td>\n",
       "      <td>-132489.819855</td>\n",
       "    </tr>\n",
       "    <tr>\n",
       "      <th>835115</th>\n",
       "      <td>268770</td>\n",
       "      <td>328010.5</td>\n",
       "      <td>59240.5</td>\n",
       "      <td>353510.925325</td>\n",
       "      <td>84740.925325</td>\n",
       "      <td>7.181024e+09</td>\n",
       "      <td>-106989.394530</td>\n",
       "      <td>3.509437e+09</td>\n",
       "      <td>-132489.819855</td>\n",
       "    </tr>\n",
       "    <tr>\n",
       "      <th>242295</th>\n",
       "      <td>365000</td>\n",
       "      <td>328010.5</td>\n",
       "      <td>-36989.5</td>\n",
       "      <td>365837.632068</td>\n",
       "      <td>837.632068</td>\n",
       "      <td>7.016275e+05</td>\n",
       "      <td>-94662.687787</td>\n",
       "      <td>1.368223e+09</td>\n",
       "      <td>-132489.819855</td>\n",
       "    </tr>\n",
       "  </tbody>\n",
       "</table>\n",
       "</div>"
      ],
      "text/plain": [
       "         y_actual  y_baseline  y_baseline_resids          y_hat  \\\n",
       "1001601    241012    328010.5            86998.5  364907.314578   \n",
       "611989     235630    328010.5            92380.5  320717.233800   \n",
       "658616     435123    328010.5          -107112.5  363744.417715   \n",
       "835115     268770    328010.5            59240.5  353510.925325   \n",
       "242295     365000    328010.5           -36989.5  365837.632068   \n",
       "\n",
       "          y_hat_resids  y_hat_resids_sq  y_hat_minus_mean  \\\n",
       "1001601  123895.314578     1.535005e+10     -95593.005277   \n",
       "611989    85087.233800     7.239837e+09    -139783.086055   \n",
       "658616   -71378.582285     5.094902e+09     -96755.902139   \n",
       "835115    84740.925325     7.181024e+09    -106989.394530   \n",
       "242295      837.632068     7.016275e+05     -94662.687787   \n",
       "\n",
       "         y_baseline_resids_sq  y_baseline_minus_mean  \n",
       "1001601          7.568739e+09         -132489.819855  \n",
       "611989           8.534157e+09         -132489.819855  \n",
       "658616           1.147309e+10         -132489.819855  \n",
       "835115           3.509437e+09         -132489.819855  \n",
       "242295           1.368223e+09         -132489.819855  "
      ]
     },
     "execution_count": 30,
     "metadata": {},
     "output_type": "execute_result"
    }
   ],
   "source": [
    "# sse calculated for baseline\n",
    "preds['y_baseline_resids_sq'] = preds['y_baseline_resids'] ** 2\n",
    "preds.head()"
   ]
  },
  {
   "cell_type": "code",
   "execution_count": 31,
   "id": "c10c7601-6377-4afd-a351-bdb34bfce9e5",
   "metadata": {},
   "outputs": [
    {
     "data": {
      "text/plain": [
       "7.186348264170656e+17"
      ]
     },
     "execution_count": 31,
     "metadata": {},
     "output_type": "execute_result"
    }
   ],
   "source": [
    "sse_baseline = preds.y_baseline_resids_sq.sum()\n",
    "sse_baseline"
   ]
  },
  {
   "cell_type": "markdown",
   "id": "799bea01-fc3f-4e2a-ad42-4f66004ffe19",
   "metadata": {},
   "source": [
    "- mean squared error"
   ]
  },
  {
   "cell_type": "code",
   "execution_count": 32,
   "id": "aaab9428-496b-4c21-aece-464e51af2493",
   "metadata": {},
   "outputs": [
    {
     "data": {
      "text/plain": [
       "479677008936.9826"
      ]
     },
     "execution_count": 32,
     "metadata": {},
     "output_type": "execute_result"
    }
   ],
   "source": [
    "mse_baseline = sse_baseline/len(preds)\n",
    "mse_baseline"
   ]
  },
  {
   "cell_type": "markdown",
   "id": "26818deb-ff86-47bb-bf7d-64c20e20baf3",
   "metadata": {},
   "source": [
    "- root mean squared error"
   ]
  },
  {
   "cell_type": "code",
   "execution_count": 33,
   "id": "3fbc39b8-b20e-427f-966d-6b66825a2c55",
   "metadata": {},
   "outputs": [
    {
     "data": {
      "text/plain": [
       "692587.1850799599"
      ]
     },
     "execution_count": 33,
     "metadata": {},
     "output_type": "execute_result"
    }
   ],
   "source": [
    "rmse_baseline = sqrt(mse_baseline)\n",
    "rmse_baseline"
   ]
  },
  {
   "cell_type": "code",
   "execution_count": 34,
   "id": "2d98ddd2-863e-4135-a77c-ad0f868df2d9",
   "metadata": {},
   "outputs": [
    {
     "name": "stdout",
     "output_type": "stream",
     "text": [
      "RMSE of our baseline : 692587\n"
     ]
    }
   ],
   "source": [
    "print(f'RMSE of our baseline : {round(rmse_baseline)}')"
   ]
  },
  {
   "cell_type": "markdown",
   "id": "5612ffb3-bed6-4213-a114-899710b6d016",
   "metadata": {},
   "source": [
    "6. Write python code that compares the sum of squared errors for your model against the sum of squared errors for the baseline model and outputs whether or not your model performs better than the baseline model."
   ]
  },
  {
   "cell_type": "code",
   "execution_count": 38,
   "id": "8039e8d9-9ed2-40a0-9c1b-4ac0f18ccc3c",
   "metadata": {},
   "outputs": [
    {
     "name": "stdout",
     "output_type": "stream",
     "text": [
      "Your model performs better than the baseline model.\n"
     ]
    }
   ],
   "source": [
    "# python code to compare\n",
    "if sse_model < sse_baseline:\n",
    "    print(\"Your model performs better than the baseline model.\")\n",
    "\n",
    "elif sse_model > sse_baseline:\n",
    "    print(\"Your model performs worse than the baseline model.\")\n",
    "\n",
    "else:\n",
    "    print(\"Your model performs equally to the baseline model.\")"
   ]
  },
  {
   "cell_type": "markdown",
   "id": "d14efefd-eca7-4307-ae71-d43a046e4b14",
   "metadata": {},
   "source": [
    "7. What is the amount of variance explained in your model?"
   ]
  },
  {
   "cell_type": "code",
   "execution_count": 39,
   "id": "c120ca13-e52d-440e-ae82-a19296666bae",
   "metadata": {},
   "outputs": [
    {
     "data": {
      "text/plain": [
       "0.20226366359925063"
      ]
     },
     "execution_count": 39,
     "metadata": {},
     "output_type": "execute_result"
    }
   ],
   "source": [
    "r2_score(preds['y_actual'], preds['y_hat'])"
   ]
  },
  {
   "cell_type": "markdown",
   "id": "1c555058-9044-4ef3-8814-d9d5e51ad781",
   "metadata": {},
   "source": [
    "8. Is your model better than the baseline model?"
   ]
  },
  {
   "cell_type": "markdown",
   "id": "d901fa88-598d-4908-9c27-56ddeebd4193",
   "metadata": {},
   "source": [
    "Yes\n",
    "\n",
    "- \"Your model performs better than the baseline model.\""
   ]
  },
  {
   "cell_type": "markdown",
   "id": "929713be-8bec-478e-b2e0-0d38d8e084d1",
   "metadata": {},
   "source": [
    "9. Create a file named evaluate.py that contains the following functions.\n",
    "\n",
    "* plot_residuals(y, yhat): creates a residual plot\n",
    "* regression_errors(y, yhat): returns the following values:\n",
    "    * sum of squared errors (SSE)\n",
    "    * explained sum of squares (ESS)\n",
    "    * total sum of squares (TSS)\n",
    "    * mean squared error (MSE)\n",
    "    * root mean squared error (RMSE)\n",
    "* baseline_mean_errors(y): computes the SSE, MSE, and RMSE for the baseline model\n",
    "* better_than_baseline(y, yhat): returns true if your model performs better than the baseline, otherwise false"
   ]
  },
  {
   "cell_type": "code",
   "execution_count": null,
   "id": "ef879756-77d6-4f64-bf08-4c8aee3a7656",
   "metadata": {},
   "outputs": [],
   "source": [
    "# created residual plot\n",
    "def plot_residual(y, y_hat):\n",
    "\n",
    "# returns values\n",
    "def regression_erros(y, yhat):\n",
    "    # SSE\n",
    "    # ESS\n",
    "    # TSS\n",
    "    # MSE\n",
    "    # RMSE\n",
    "\n",
    "# computes the SSE, MSE, and RMSE for the baseline model\n",
    "def baseline_mean_errors(y):\n",
    "\n",
    "\n",
    "# returns true if your model performs better than the baseline, otherwise false\n",
    "def better_than_baseline(y, y_hat):\n",
    "    "
   ]
  },
  {
   "cell_type": "code",
   "execution_count": 57,
   "id": "e2e9a6ce-c97c-481c-810a-6cf0595bed45",
   "metadata": {},
   "outputs": [
    {
     "data": {
      "image/png": "[encoded data removed]",
      "text/plain": [
       "<Figure size 640x480 with 1 Axes>"
      ]
     },
     "metadata": {},
     "output_type": "display_data"
    },
    {
     "name": "stdout",
     "output_type": "stream",
     "text": [
      "SSE: 9.431402701367052\n",
      "\n",
      "ESS: 5.030077186436414\n",
      "\n",
      "TSS: 3.7064339165635904\n",
      "\n",
      "MSE: 0.18862805402734104\n",
      "\n",
      "RMSE: 0.4343133132052724\n",
      "\n",
      "-------------------------------\n",
      "\n",
      "Baseline SSE: 3.7064339165635904\n",
      "\n",
      "Baseline MSE: 0.0741286783312718\n",
      "\n",
      "Baseline RMSE: 0.27226582292177587\n",
      "\n",
      "_______________________________\n",
      "\n",
      "Is the model better than the baseline? False\n"
     ]
    }
   ],
   "source": [
    "#----------------------------- PLOT RESDIDS FUNCTION ----------------------------\n",
    "\n",
    "# created residual plot\n",
    "def plot_residuals(y, yhat):\n",
    "    \"\"\"\n",
    "    a residual plot.\n",
    "\n",
    "    Parameters:\n",
    "    - y: Actual values\n",
    "    - yhat: Predicted values\n",
    "    \"\"\"\n",
    "    residuals = y - yhat\n",
    "    plt.scatter(yhat, residuals, alpha=0.75)\n",
    "    plt.xlabel(\"Predicted Values\")\n",
    "    plt.ylabel(\"Residuals\")\n",
    "    plt.title(\"Residuals Plot\")\n",
    "    plt.axhline(0, color='darkred', linestyle='dashdot')\n",
    "    plt.show()\n",
    "\n",
    "#----------------------------- REG ERR FUNCTION ----------------------------\n",
    "\n",
    "# returns values\n",
    "def regression_errors(y, yhat):\n",
    "    \"\"\"\n",
    "    Returns various regression error metrics.\n",
    "\n",
    "    Parameters:\n",
    "    - y: Actual values\n",
    "    - yhat: Predicted values\n",
    "\n",
    "    Returns:\n",
    "    - SSE: Sum of Squared Errors\n",
    "    - ESS: Explained Sum of Squares\n",
    "    - TSS: Total Sum of Squares\n",
    "    - MSE: Mean Squared Error\n",
    "    - RMSE: Root Mean Squared Error\n",
    "    \"\"\"\n",
    "    SSE = np.sum((y - yhat) ** 2)\n",
    "    ESS = np.sum((yhat - np.mean(y)) ** 2)\n",
    "    TSS = np.sum((y - np.mean(y)) ** 2)\n",
    "    MSE = SSE / len(y)\n",
    "    RMSE = np.sqrt(MSE)\n",
    "    \n",
    "    return SSE, ESS, TSS, MSE, RMSE\n",
    "\n",
    "\n",
    "#---------------------- BASELINE MEAN ERR FUNCTION -------------------\n",
    "\n",
    "# computes the SSE, MSE, and RMSE for the baseline model\n",
    "def baseline_mean_errors(y):\n",
    "    \"\"\"\n",
    "    Computes the SSE, MSE, and RMSE for the baseline model.\n",
    "\n",
    "    Parameters:\n",
    "    - y: Actual values\n",
    "\n",
    "    Returns:\n",
    "    - SSE: Sum of Squared Errors for the baseline\n",
    "    - MSE: Mean Squared Error for the baseline\n",
    "    - RMSE: Root Mean Squared Error for the baseline\n",
    "    \"\"\"\n",
    "    y_baseline = np.mean(y)\n",
    "    SSE_baseline = np.sum((y - y_baseline) ** 2)\n",
    "    MSE_baseline = SSE_baseline / len(y)\n",
    "    RMSE_baseline = np.sqrt(MSE_baseline)\n",
    "    \n",
    "    return SSE_baseline, MSE_baseline, RMSE_baseline\n",
    "\n",
    "\n",
    "#---------------------- BASELINE MEAN ERR FUNCTION -------------------\n",
    "\n",
    "# returns true if your model performs better than the baseline, otherwise false\n",
    "def better_than_baseline(y, yhat):\n",
    "    \"\"\"\n",
    "    Returns True if the model performs better than the baseline, otherwise False.\n",
    "\n",
    "    Parameters:\n",
    "    - y: Actual values\n",
    "    - yhat: Predicted values\n",
    "\n",
    "    Returns:\n",
    "    - True if model's RMSE < baseline's RMSE, else False\n",
    "    \"\"\"\n",
    "    _, _, _, _, RMSE = regression_errors(y, yhat)\n",
    "    _, _, RMSE_baseline = baseline_mean_errors(y)\n",
    "    \n",
    "    return RMSE < RMSE_baseline\n",
    "\n",
    "# Example usage:\n",
    "\n",
    "if __name__ == \"__main__\":\n",
    "    \n",
    "    # Generate some example data\n",
    "    np.random.seed(0)\n",
    "    y = np.random.rand(50)\n",
    "    yhat = np.random.rand(50)\n",
    "\n",
    "    # Example usage of the functions\n",
    "    plot_residuals(y, yhat)\n",
    "    \n",
    "    SSE, ESS, TSS, MSE, RMSE = regression_errors(y, yhat)\n",
    "    \n",
    "    print(f\"SSE: {SSE}\\n\")\n",
    "    \n",
    "    print(f\"ESS: {ESS}\\n\")\n",
    "    \n",
    "    print(f\"TSS: {TSS}\\n\")\n",
    "    \n",
    "    print(f\"MSE: {MSE}\\n\")\n",
    "    \n",
    "    print(f\"RMSE: {RMSE}\\n\")\n",
    "\n",
    "    print(f\"-------------------------------\\n\")\n",
    "    \n",
    "    SSE_baseline, MSE_baseline, RMSE_baseline = baseline_mean_errors(y)\n",
    "    \n",
    "    print(f\"Baseline SSE: {SSE_baseline}\\n\")\n",
    "    \n",
    "    print(f\"Baseline MSE: {MSE_baseline}\\n\")\n",
    "    \n",
    "    print(f\"Baseline RMSE: {RMSE_baseline}\\n\")\n",
    "\n",
    "    print(f\"_______________________________\\n\")\n",
    "    \n",
    "    print(f\"Is the model better than the baseline? {better_than_baseline(y, yhat)}\")"
   ]
  },
  {
   "cell_type": "markdown",
   "id": "ba54d7fe-1e12-4031-90b9-30369cbda172",
   "metadata": {},
   "source": [
    "# Bonus Exercises"
   ]
  },
  {
   "cell_type": "markdown",
   "id": "9f01bb40-496c-4295-8633-84107fca17a4",
   "metadata": {},
   "source": [
    "1. Load the tips dataset from either pydataset or seaborn. Fit a linear regression model (ordinary least squares) and compute yhat, predictions of tip using total_bill."
   ]
  },
  {
   "cell_type": "code",
   "execution_count": null,
   "id": "e07dd586-9963-425f-b415-dd96b3e02ef6",
   "metadata": {},
   "outputs": [],
   "source": []
  },
  {
   "cell_type": "markdown",
   "id": "73e55d43-cea3-4983-8ea1-076eb525fa8e",
   "metadata": {},
   "source": [
    "2. Load the mpg dataset and fit a model that predicts highway mileage based on engine displacement. Take a look at all the regression evaluation metrics, and determine whether this model is better than the baseline model. Use the functions from your evaluate.py to help accomplish this."
   ]
  },
  {
   "cell_type": "code",
   "execution_count": null,
   "id": "0d7216ee-2d87-4efc-99f6-f5cea90b04f3",
   "metadata": {},
   "outputs": [],
   "source": []
  }
 ],
 "metadata": {
  "kernelspec": {
   "display_name": "Python 3 (ipykernel)",
   "language": "python",
   "name": "python3"
  },
  "language_info": {
   "codemirror_mode": {
    "name": "ipython",
    "version": 3
   },
   "file_extension": ".py",
   "mimetype": "text/x-python",
   "name": "python",
   "nbconvert_exporter": "python",
   "pygments_lexer": "ipython3",
   "version": "3.10.9"
  }
 },
 "nbformat": 4,
 "nbformat_minor": 5
}
