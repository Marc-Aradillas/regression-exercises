{
 "cells": [
  {
   "cell_type": "code",
   "execution_count": 1,
   "id": "39fec662-195a-4064-a83e-e5695d2c84a9",
   "metadata": {},
   "outputs": [],
   "source": [
    "# imported libs\n",
    "import pandas as pd\n",
    "import numpy as np\n",
    "\n",
    "import matplotlib.pyplot as plt\n",
    "import seaborn as sns\n",
    "from sklearn.metrics import mean_squared_error, r2_score, explained_variance_score\n",
    "from sklearn.linear_model import LinearRegression\n",
    "from math import sqrt\n",
    "\n",
    "# custom lib\n",
    "import wrangle\n",
    "import prepare"
   ]
  },
  {
   "cell_type": "markdown",
   "id": "47d93d99-cbe7-4b81-8aa2-4db4f7dd27a6",
   "metadata": {},
   "source": [
    "# Exercises\n",
    "\n",
    "## Do you work for this exercise in either a jupyter notebook named evaluate within your regression-exercises repository. By the end of this exercise you will also create a python script named evaluate, so the overall deliverables for this exercise are the python script and jupyter notebook both with the name evaluate within your regression-exercises repo."
   ]
  },
  {
   "cell_type": "markdown",
   "id": "9759ed5f-6419-49fe-bf61-1cf6dcf55f59",
   "metadata": {},
   "source": [
    "1. Load your zillow dataset."
   ]
  },
  {
   "cell_type": "code",
   "execution_count": 2,
   "id": "7b759fc1-6d8b-4800-9981-baddb2011b73",
   "metadata": {},
   "outputs": [
    {
     "data": {
      "text/html": [
       "<div>\n",
       "<style scoped>\n",
       "    .dataframe tbody tr th:only-of-type {\n",
       "        vertical-align: middle;\n",
       "    }\n",
       "\n",
       "    .dataframe tbody tr th {\n",
       "        vertical-align: top;\n",
       "    }\n",
       "\n",
       "    .dataframe thead th {\n",
       "        text-align: right;\n",
       "    }\n",
       "</style>\n",
       "<table border=\"1\" class=\"dataframe\">\n",
       "  <thead>\n",
       "    <tr style=\"text-align: right;\">\n",
       "      <th></th>\n",
       "      <th>bedrooms</th>\n",
       "      <th>bathrooms</th>\n",
       "      <th>area</th>\n",
       "      <th>tax_value</th>\n",
       "      <th>year_built</th>\n",
       "      <th>tax_amount</th>\n",
       "      <th>fips</th>\n",
       "    </tr>\n",
       "  </thead>\n",
       "  <tbody>\n",
       "    <tr>\n",
       "      <th>1001601</th>\n",
       "      <td>3</td>\n",
       "      <td>2.0</td>\n",
       "      <td>1452</td>\n",
       "      <td>241012</td>\n",
       "      <td>1980</td>\n",
       "      <td>2974.81</td>\n",
       "      <td>6037</td>\n",
       "    </tr>\n",
       "    <tr>\n",
       "      <th>611989</th>\n",
       "      <td>3</td>\n",
       "      <td>2.0</td>\n",
       "      <td>1262</td>\n",
       "      <td>235630</td>\n",
       "      <td>1953</td>\n",
       "      <td>3029.22</td>\n",
       "      <td>6037</td>\n",
       "    </tr>\n",
       "    <tr>\n",
       "      <th>658616</th>\n",
       "      <td>3</td>\n",
       "      <td>1.0</td>\n",
       "      <td>1447</td>\n",
       "      <td>435123</td>\n",
       "      <td>1947</td>\n",
       "      <td>5226.67</td>\n",
       "      <td>6037</td>\n",
       "    </tr>\n",
       "    <tr>\n",
       "      <th>835115</th>\n",
       "      <td>3</td>\n",
       "      <td>2.0</td>\n",
       "      <td>1403</td>\n",
       "      <td>268770</td>\n",
       "      <td>1965</td>\n",
       "      <td>2849.62</td>\n",
       "      <td>6111</td>\n",
       "    </tr>\n",
       "    <tr>\n",
       "      <th>242295</th>\n",
       "      <td>3</td>\n",
       "      <td>2.0</td>\n",
       "      <td>1456</td>\n",
       "      <td>365000</td>\n",
       "      <td>1961</td>\n",
       "      <td>4582.48</td>\n",
       "      <td>6037</td>\n",
       "    </tr>\n",
       "  </tbody>\n",
       "</table>\n",
       "</div>"
      ],
      "text/plain": [
       "         bedrooms  bathrooms  area  tax_value  year_built  tax_amount  fips\n",
       "1001601         3        2.0  1452     241012        1980     2974.81  6037\n",
       "611989          3        2.0  1262     235630        1953     3029.22  6037\n",
       "658616          3        1.0  1447     435123        1947     5226.67  6037\n",
       "835115          3        2.0  1403     268770        1965     2849.62  6111\n",
       "242295          3        2.0  1456     365000        1961     4582.48  6037"
      ]
     },
     "execution_count": 2,
     "metadata": {},
     "output_type": "execute_result"
    }
   ],
   "source": [
    "# loaded data and spltted\n",
    "df = wrangle.wrangle_zillow()\n",
    "train, val, test = wrangle.train_val_test(df)\n",
    "train.head()"
   ]
  },
  {
   "cell_type": "markdown",
   "id": "cfa7d2d7-4089-43ab-93a9-d5f5d23bb138",
   "metadata": {},
   "source": [
    "2. Fit a linear regression model (ordinary least squares) and compute yhat, predictions of taxvaluedollarcnt using only calculatedfinishedsqft.\n",
    "\n",
    "- tax_value\n",
    "- area"
   ]
  },
  {
   "cell_type": "code",
   "execution_count": 3,
   "id": "1b0ada55-da5b-47eb-9ca5-ce649e784709",
   "metadata": {},
   "outputs": [],
   "source": [
    "# set model varible to log ref.\n",
    "model = LinearRegression()"
   ]
  },
  {
   "cell_type": "code",
   "execution_count": 4,
   "id": "01c0d1c8-6ab8-408d-a728-d6162be23d0f",
   "metadata": {},
   "outputs": [],
   "source": [
    "# split into subsets for train and val\n",
    "X_train = train[['area']]\n",
    "y_train = train.tax_value\n",
    "\n",
    "X_val = val[['area']]\n",
    "y_val = val.tax_value"
   ]
  },
  {
   "cell_type": "code",
   "execution_count": 5,
   "id": "bde24b97-1db5-453f-8412-f5d55e9fdbc2",
   "metadata": {},
   "outputs": [
    {
     "data": {
      "text/plain": [
       "328010.5"
      ]
     },
     "execution_count": 5,
     "metadata": {},
     "output_type": "execute_result"
    }
   ],
   "source": [
    "# using median\n",
    "y_train.median()"
   ]
  },
  {
   "cell_type": "code",
   "execution_count": 6,
   "id": "0bfae246-21b4-4ca2-ab06-307f318d4a2d",
   "metadata": {},
   "outputs": [
    {
     "data": {
      "text/html": [
       "<div>\n",
       "<style scoped>\n",
       "    .dataframe tbody tr th:only-of-type {\n",
       "        vertical-align: middle;\n",
       "    }\n",
       "\n",
       "    .dataframe tbody tr th {\n",
       "        vertical-align: top;\n",
       "    }\n",
       "\n",
       "    .dataframe thead th {\n",
       "        text-align: right;\n",
       "    }\n",
       "</style>\n",
       "<table border=\"1\" class=\"dataframe\">\n",
       "  <thead>\n",
       "    <tr style=\"text-align: right;\">\n",
       "      <th></th>\n",
       "      <th>y_actual</th>\n",
       "      <th>y_baseline</th>\n",
       "    </tr>\n",
       "  </thead>\n",
       "  <tbody>\n",
       "    <tr>\n",
       "      <th>1001601</th>\n",
       "      <td>241012</td>\n",
       "      <td>328010.5</td>\n",
       "    </tr>\n",
       "    <tr>\n",
       "      <th>611989</th>\n",
       "      <td>235630</td>\n",
       "      <td>328010.5</td>\n",
       "    </tr>\n",
       "    <tr>\n",
       "      <th>658616</th>\n",
       "      <td>435123</td>\n",
       "      <td>328010.5</td>\n",
       "    </tr>\n",
       "    <tr>\n",
       "      <th>835115</th>\n",
       "      <td>268770</td>\n",
       "      <td>328010.5</td>\n",
       "    </tr>\n",
       "    <tr>\n",
       "      <th>242295</th>\n",
       "      <td>365000</td>\n",
       "      <td>328010.5</td>\n",
       "    </tr>\n",
       "  </tbody>\n",
       "</table>\n",
       "</div>"
      ],
      "text/plain": [
       "         y_actual  y_baseline\n",
       "1001601    241012    328010.5\n",
       "611989     235630    328010.5\n",
       "658616     435123    328010.5\n",
       "835115     268770    328010.5\n",
       "242295     365000    328010.5"
      ]
     },
     "execution_count": 6,
     "metadata": {},
     "output_type": "execute_result"
    }
   ],
   "source": [
    "# created a DF to work with\n",
    "preds = pd.DataFrame({'y_actual' : y_train,\n",
    "              'y_baseline': y_train.median()})\n",
    "\n",
    "preds.head()"
   ]
  },
  {
   "cell_type": "code",
   "execution_count": 7,
   "id": "fd9fc5aa-2c67-4d88-899d-03a8219d13f3",
   "metadata": {},
   "outputs": [
    {
     "data": {
      "text/html": [
       "<div>\n",
       "<style scoped>\n",
       "    .dataframe tbody tr th:only-of-type {\n",
       "        vertical-align: middle;\n",
       "    }\n",
       "\n",
       "    .dataframe tbody tr th {\n",
       "        vertical-align: top;\n",
       "    }\n",
       "\n",
       "    .dataframe thead th {\n",
       "        text-align: right;\n",
       "    }\n",
       "</style>\n",
       "<table border=\"1\" class=\"dataframe\">\n",
       "  <thead>\n",
       "    <tr style=\"text-align: right;\">\n",
       "      <th></th>\n",
       "      <th>y_actual</th>\n",
       "      <th>y_baseline</th>\n",
       "      <th>y_baseline_resids</th>\n",
       "    </tr>\n",
       "  </thead>\n",
       "  <tbody>\n",
       "    <tr>\n",
       "      <th>1001601</th>\n",
       "      <td>241012</td>\n",
       "      <td>328010.5</td>\n",
       "      <td>86998.5</td>\n",
       "    </tr>\n",
       "    <tr>\n",
       "      <th>611989</th>\n",
       "      <td>235630</td>\n",
       "      <td>328010.5</td>\n",
       "      <td>92380.5</td>\n",
       "    </tr>\n",
       "    <tr>\n",
       "      <th>658616</th>\n",
       "      <td>435123</td>\n",
       "      <td>328010.5</td>\n",
       "      <td>-107112.5</td>\n",
       "    </tr>\n",
       "    <tr>\n",
       "      <th>835115</th>\n",
       "      <td>268770</td>\n",
       "      <td>328010.5</td>\n",
       "      <td>59240.5</td>\n",
       "    </tr>\n",
       "    <tr>\n",
       "      <th>242295</th>\n",
       "      <td>365000</td>\n",
       "      <td>328010.5</td>\n",
       "      <td>-36989.5</td>\n",
       "    </tr>\n",
       "  </tbody>\n",
       "</table>\n",
       "</div>"
      ],
      "text/plain": [
       "         y_actual  y_baseline  y_baseline_resids\n",
       "1001601    241012    328010.5            86998.5\n",
       "611989     235630    328010.5            92380.5\n",
       "658616     435123    328010.5          -107112.5\n",
       "835115     268770    328010.5            59240.5\n",
       "242295     365000    328010.5           -36989.5"
      ]
     },
     "execution_count": 7,
     "metadata": {},
     "output_type": "execute_result"
    }
   ],
   "source": [
    "# calculating residuals\n",
    "preds['y_baseline_resids'] = preds['y_baseline'] - preds['y_actual']\n",
    "preds.head()"
   ]
  },
  {
   "cell_type": "markdown",
   "id": "4f5cea70-d812-4d6e-bd2c-946a10de3247",
   "metadata": {},
   "source": [
    "Here is some sample code to get you started:  \n",
    "Modify and add to the code above as necessary for it to work with the zillow dataset."
   ]
  },
  {
   "cell_type": "code",
   "execution_count": 8,
   "id": "9b7d99f6-abcf-46e8-ac0e-43c2e048f540",
   "metadata": {},
   "outputs": [],
   "source": [
    "# assuming X and y are already defined\n",
    "model = LinearRegression().fit(X_train, y_train)\n",
    "\n",
    "model.fit(X_train, y_train)\n",
    "\n",
    "preds['y_hat'] = model.predict(X_train)"
   ]
  },
  {
   "cell_type": "code",
   "execution_count": 9,
   "id": "04ce30da-0b86-481d-a244-6f88643bda3d",
   "metadata": {},
   "outputs": [
    {
     "data": {
      "text/html": [
       "<style>#sk-container-id-1 {color: black;background-color: white;}#sk-container-id-1 pre{padding: 0;}#sk-container-id-1 div.sk-toggleable {background-color: white;}#sk-container-id-1 label.sk-toggleable__label {cursor: pointer;display: block;width: 100%;margin-bottom: 0;padding: 0.3em;box-sizing: border-box;text-align: center;}#sk-container-id-1 label.sk-toggleable__label-arrow:before {content: \"▸\";float: left;margin-right: 0.25em;color: #696969;}#sk-container-id-1 label.sk-toggleable__label-arrow:hover:before {color: black;}#sk-container-id-1 div.sk-estimator:hover label.sk-toggleable__label-arrow:before {color: black;}#sk-container-id-1 div.sk-toggleable__content {max-height: 0;max-width: 0;overflow: hidden;text-align: left;background-color: #f0f8ff;}#sk-container-id-1 div.sk-toggleable__content pre {margin: 0.2em;color: black;border-radius: 0.25em;background-color: #f0f8ff;}#sk-container-id-1 input.sk-toggleable__control:checked~div.sk-toggleable__content {max-height: 200px;max-width: 100%;overflow: auto;}#sk-container-id-1 input.sk-toggleable__control:checked~label.sk-toggleable__label-arrow:before {content: \"▾\";}#sk-container-id-1 div.sk-estimator input.sk-toggleable__control:checked~label.sk-toggleable__label {background-color: #d4ebff;}#sk-container-id-1 div.sk-label input.sk-toggleable__control:checked~label.sk-toggleable__label {background-color: #d4ebff;}#sk-container-id-1 input.sk-hidden--visually {border: 0;clip: rect(1px 1px 1px 1px);clip: rect(1px, 1px, 1px, 1px);height: 1px;margin: -1px;overflow: hidden;padding: 0;position: absolute;width: 1px;}#sk-container-id-1 div.sk-estimator {font-family: monospace;background-color: #f0f8ff;border: 1px dotted black;border-radius: 0.25em;box-sizing: border-box;margin-bottom: 0.5em;}#sk-container-id-1 div.sk-estimator:hover {background-color: #d4ebff;}#sk-container-id-1 div.sk-parallel-item::after {content: \"\";width: 100%;border-bottom: 1px solid gray;flex-grow: 1;}#sk-container-id-1 div.sk-label:hover label.sk-toggleable__label {background-color: #d4ebff;}#sk-container-id-1 div.sk-serial::before {content: \"\";position: absolute;border-left: 1px solid gray;box-sizing: border-box;top: 0;bottom: 0;left: 50%;z-index: 0;}#sk-container-id-1 div.sk-serial {display: flex;flex-direction: column;align-items: center;background-color: white;padding-right: 0.2em;padding-left: 0.2em;position: relative;}#sk-container-id-1 div.sk-item {position: relative;z-index: 1;}#sk-container-id-1 div.sk-parallel {display: flex;align-items: stretch;justify-content: center;background-color: white;position: relative;}#sk-container-id-1 div.sk-item::before, #sk-container-id-1 div.sk-parallel-item::before {content: \"\";position: absolute;border-left: 1px solid gray;box-sizing: border-box;top: 0;bottom: 0;left: 50%;z-index: -1;}#sk-container-id-1 div.sk-parallel-item {display: flex;flex-direction: column;z-index: 1;position: relative;background-color: white;}#sk-container-id-1 div.sk-parallel-item:first-child::after {align-self: flex-end;width: 50%;}#sk-container-id-1 div.sk-parallel-item:last-child::after {align-self: flex-start;width: 50%;}#sk-container-id-1 div.sk-parallel-item:only-child::after {width: 0;}#sk-container-id-1 div.sk-dashed-wrapped {border: 1px dashed gray;margin: 0 0.4em 0.5em 0.4em;box-sizing: border-box;padding-bottom: 0.4em;background-color: white;}#sk-container-id-1 div.sk-label label {font-family: monospace;font-weight: bold;display: inline-block;line-height: 1.2em;}#sk-container-id-1 div.sk-label-container {text-align: center;}#sk-container-id-1 div.sk-container {/* jupyter's `normalize.less` sets `[hidden] { display: none; }` but bootstrap.min.css set `[hidden] { display: none !important; }` so we also need the `!important` here to be able to override the default hidden behavior on the sphinx rendered scikit-learn.org. See: https://github.com/scikit-learn/scikit-learn/issues/21755 */display: inline-block !important;position: relative;}#sk-container-id-1 div.sk-text-repr-fallback {display: none;}</style><div id=\"sk-container-id-1\" class=\"sk-top-container\"><div class=\"sk-text-repr-fallback\"><pre>LinearRegression()</pre><b>In a Jupyter environment, please rerun this cell to show the HTML representation or trust the notebook. <br />On GitHub, the HTML representation is unable to render, please try loading this page with nbviewer.org.</b></div><div class=\"sk-container\" hidden><div class=\"sk-item\"><div class=\"sk-estimator sk-toggleable\"><input class=\"sk-toggleable__control sk-hidden--visually\" id=\"sk-estimator-id-1\" type=\"checkbox\" checked><label for=\"sk-estimator-id-1\" class=\"sk-toggleable__label sk-toggleable__label-arrow\">LinearRegression</label><div class=\"sk-toggleable__content\"><pre>LinearRegression()</pre></div></div></div></div></div>"
      ],
      "text/plain": [
       "LinearRegression()"
      ]
     },
     "execution_count": 9,
     "metadata": {},
     "output_type": "execute_result"
    }
   ],
   "source": [
    "model"
   ]
  },
  {
   "cell_type": "code",
   "execution_count": 10,
   "id": "913bef3a-77fc-43e5-bfc6-73554ebf90c1",
   "metadata": {},
   "outputs": [],
   "source": [
    "# y-hat resids calc\n",
    "preds['y_hat_resids'] = preds['y_hat'] - preds['y_actual']"
   ]
  },
  {
   "cell_type": "code",
   "execution_count": 11,
   "id": "f762c510-7c66-4525-80a9-375e9d63e07a",
   "metadata": {},
   "outputs": [
    {
     "data": {
      "image/png": "[encoded data removed]",
      "text/plain": [
       "<Figure size 640x480 with 1 Axes>"
      ]
     },
     "metadata": {},
     "output_type": "display_data"
    }
   ],
   "source": [
    "# baseline \n",
    "sns.scatterplot(data=preds, x='y_actual', y='y_baseline_resids')\n",
    "plt.show()"
   ]
  },
  {
   "cell_type": "markdown",
   "id": "3815b2ae-cfc7-4918-9415-0c0398b5213f",
   "metadata": {},
   "source": [
    "3. Plot the residuals for the linear regression model that you made."
   ]
  },
  {
   "cell_type": "code",
   "execution_count": 12,
   "id": "10831dc1-fe63-4389-80e0-48511d9b53fd",
   "metadata": {},
   "outputs": [
    {
     "data": {
      "image/png": "[encoded data removed]",
      "text/plain": [
       "<Figure size 640x480 with 1 Axes>"
      ]
     },
     "metadata": {},
     "output_type": "display_data"
    }
   ],
   "source": [
    "# calculated and ploted residulas for model\n",
    "sns.scatterplot(data=preds, x='y_actual', y='y_hat_resids')\n",
    "plt.show()"
   ]
  },
  {
   "cell_type": "markdown",
   "id": "f8f67f73-c6d2-4626-a643-3a4e2b23456b",
   "metadata": {},
   "source": [
    "4. Calculate the sum of squared errors, explained sum of squares, total sum of squares, mean squared error, and root mean squared error for your **MODEL**."
   ]
  },
  {
   "cell_type": "markdown",
   "id": "5a457864-ec79-49e2-9712-26b925d489b8",
   "metadata": {},
   "source": [
    "- sum of squared errors"
   ]
  },
  {
   "cell_type": "code",
   "execution_count": 13,
   "id": "24445287-fe94-4e87-ad51-bd7f45d9e287",
   "metadata": {},
   "outputs": [
    {
     "data": {
      "text/html": [
       "<div>\n",
       "<style scoped>\n",
       "    .dataframe tbody tr th:only-of-type {\n",
       "        vertical-align: middle;\n",
       "    }\n",
       "\n",
       "    .dataframe tbody tr th {\n",
       "        vertical-align: top;\n",
       "    }\n",
       "\n",
       "    .dataframe thead th {\n",
       "        text-align: right;\n",
       "    }\n",
       "</style>\n",
       "<table border=\"1\" class=\"dataframe\">\n",
       "  <thead>\n",
       "    <tr style=\"text-align: right;\">\n",
       "      <th></th>\n",
       "      <th>y_actual</th>\n",
       "      <th>y_baseline</th>\n",
       "      <th>y_baseline_resids</th>\n",
       "      <th>y_hat</th>\n",
       "      <th>y_hat_resids</th>\n",
       "      <th>y_hat_resids_sq</th>\n",
       "    </tr>\n",
       "  </thead>\n",
       "  <tbody>\n",
       "    <tr>\n",
       "      <th>1001601</th>\n",
       "      <td>241012</td>\n",
       "      <td>328010.5</td>\n",
       "      <td>86998.5</td>\n",
       "      <td>364907.314578</td>\n",
       "      <td>123895.314578</td>\n",
       "      <td>1.535005e+10</td>\n",
       "    </tr>\n",
       "    <tr>\n",
       "      <th>611989</th>\n",
       "      <td>235630</td>\n",
       "      <td>328010.5</td>\n",
       "      <td>92380.5</td>\n",
       "      <td>320717.233800</td>\n",
       "      <td>85087.233800</td>\n",
       "      <td>7.239837e+09</td>\n",
       "    </tr>\n",
       "    <tr>\n",
       "      <th>658616</th>\n",
       "      <td>435123</td>\n",
       "      <td>328010.5</td>\n",
       "      <td>-107112.5</td>\n",
       "      <td>363744.417715</td>\n",
       "      <td>-71378.582285</td>\n",
       "      <td>5.094902e+09</td>\n",
       "    </tr>\n",
       "    <tr>\n",
       "      <th>835115</th>\n",
       "      <td>268770</td>\n",
       "      <td>328010.5</td>\n",
       "      <td>59240.5</td>\n",
       "      <td>353510.925325</td>\n",
       "      <td>84740.925325</td>\n",
       "      <td>7.181024e+09</td>\n",
       "    </tr>\n",
       "    <tr>\n",
       "      <th>242295</th>\n",
       "      <td>365000</td>\n",
       "      <td>328010.5</td>\n",
       "      <td>-36989.5</td>\n",
       "      <td>365837.632068</td>\n",
       "      <td>837.632068</td>\n",
       "      <td>7.016275e+05</td>\n",
       "    </tr>\n",
       "  </tbody>\n",
       "</table>\n",
       "</div>"
      ],
      "text/plain": [
       "         y_actual  y_baseline  y_baseline_resids          y_hat  \\\n",
       "1001601    241012    328010.5            86998.5  364907.314578   \n",
       "611989     235630    328010.5            92380.5  320717.233800   \n",
       "658616     435123    328010.5          -107112.5  363744.417715   \n",
       "835115     268770    328010.5            59240.5  353510.925325   \n",
       "242295     365000    328010.5           -36989.5  365837.632068   \n",
       "\n",
       "          y_hat_resids  y_hat_resids_sq  \n",
       "1001601  123895.314578     1.535005e+10  \n",
       "611989    85087.233800     7.239837e+09  \n",
       "658616   -71378.582285     5.094902e+09  \n",
       "835115    84740.925325     7.181024e+09  \n",
       "242295      837.632068     7.016275e+05  "
      ]
     },
     "execution_count": 13,
     "metadata": {},
     "output_type": "execute_result"
    }
   ],
   "source": [
    "# calculated sse\n",
    "preds['y_hat_resids_sq'] = preds['y_hat_resids'] ** 2\n",
    "preds.head()"
   ]
  },
  {
   "cell_type": "code",
   "execution_count": 14,
   "id": "90d688fd-6162-4272-a9ab-fc13a2fe5f28",
   "metadata": {},
   "outputs": [
    {
     "data": {
      "text/plain": [
       "5.523021635076628e+17"
      ]
     },
     "execution_count": 14,
     "metadata": {},
     "output_type": "execute_result"
    }
   ],
   "source": [
    "# sse sum for model\n",
    "sse_model = preds.y_hat_resids_sq.sum()\n",
    "sse_model"
   ]
  },
  {
   "cell_type": "markdown",
   "id": "ca1157e8-a92f-47e0-ab37-e270c0441922",
   "metadata": {},
   "source": [
    "- explained of squared errors"
   ]
  },
  {
   "cell_type": "code",
   "execution_count": 15,
   "id": "2b70f827-6217-449d-9d99-70a1cf2a66a9",
   "metadata": {},
   "outputs": [
    {
     "data": {
      "text/html": [
       "<div>\n",
       "<style scoped>\n",
       "    .dataframe tbody tr th:only-of-type {\n",
       "        vertical-align: middle;\n",
       "    }\n",
       "\n",
       "    .dataframe tbody tr th {\n",
       "        vertical-align: top;\n",
       "    }\n",
       "\n",
       "    .dataframe thead th {\n",
       "        text-align: right;\n",
       "    }\n",
       "</style>\n",
       "<table border=\"1\" class=\"dataframe\">\n",
       "  <thead>\n",
       "    <tr style=\"text-align: right;\">\n",
       "      <th></th>\n",
       "      <th>y_actual</th>\n",
       "      <th>y_baseline</th>\n",
       "      <th>y_baseline_resids</th>\n",
       "      <th>y_hat</th>\n",
       "      <th>y_hat_resids</th>\n",
       "      <th>y_hat_resids_sq</th>\n",
       "      <th>y_hat_minus_mean</th>\n",
       "    </tr>\n",
       "  </thead>\n",
       "  <tbody>\n",
       "    <tr>\n",
       "      <th>1001601</th>\n",
       "      <td>241012</td>\n",
       "      <td>328010.5</td>\n",
       "      <td>86998.5</td>\n",
       "      <td>364907.314578</td>\n",
       "      <td>123895.314578</td>\n",
       "      <td>1.535005e+10</td>\n",
       "      <td>-95593.005277</td>\n",
       "    </tr>\n",
       "    <tr>\n",
       "      <th>611989</th>\n",
       "      <td>235630</td>\n",
       "      <td>328010.5</td>\n",
       "      <td>92380.5</td>\n",
       "      <td>320717.233800</td>\n",
       "      <td>85087.233800</td>\n",
       "      <td>7.239837e+09</td>\n",
       "      <td>-139783.086055</td>\n",
       "    </tr>\n",
       "    <tr>\n",
       "      <th>658616</th>\n",
       "      <td>435123</td>\n",
       "      <td>328010.5</td>\n",
       "      <td>-107112.5</td>\n",
       "      <td>363744.417715</td>\n",
       "      <td>-71378.582285</td>\n",
       "      <td>5.094902e+09</td>\n",
       "      <td>-96755.902139</td>\n",
       "    </tr>\n",
       "    <tr>\n",
       "      <th>835115</th>\n",
       "      <td>268770</td>\n",
       "      <td>328010.5</td>\n",
       "      <td>59240.5</td>\n",
       "      <td>353510.925325</td>\n",
       "      <td>84740.925325</td>\n",
       "      <td>7.181024e+09</td>\n",
       "      <td>-106989.394530</td>\n",
       "    </tr>\n",
       "    <tr>\n",
       "      <th>242295</th>\n",
       "      <td>365000</td>\n",
       "      <td>328010.5</td>\n",
       "      <td>-36989.5</td>\n",
       "      <td>365837.632068</td>\n",
       "      <td>837.632068</td>\n",
       "      <td>7.016275e+05</td>\n",
       "      <td>-94662.687787</td>\n",
       "    </tr>\n",
       "  </tbody>\n",
       "</table>\n",
       "</div>"
      ],
      "text/plain": [
       "         y_actual  y_baseline  y_baseline_resids          y_hat  \\\n",
       "1001601    241012    328010.5            86998.5  364907.314578   \n",
       "611989     235630    328010.5            92380.5  320717.233800   \n",
       "658616     435123    328010.5          -107112.5  363744.417715   \n",
       "835115     268770    328010.5            59240.5  353510.925325   \n",
       "242295     365000    328010.5           -36989.5  365837.632068   \n",
       "\n",
       "          y_hat_resids  y_hat_resids_sq  y_hat_minus_mean  \n",
       "1001601  123895.314578     1.535005e+10     -95593.005277  \n",
       "611989    85087.233800     7.239837e+09    -139783.086055  \n",
       "658616   -71378.582285     5.094902e+09     -96755.902139  \n",
       "835115    84740.925325     7.181024e+09    -106989.394530  \n",
       "242295      837.632068     7.016275e+05     -94662.687787  "
      ]
     },
     "execution_count": 15,
     "metadata": {},
     "output_type": "execute_result"
    }
   ],
   "source": [
    "# calculated ess for model\n",
    "preds['y_hat_minus_mean'] = preds['y_hat'] - preds['y_actual'].mean()\n",
    "preds.head()"
   ]
  },
  {
   "cell_type": "code",
   "execution_count": 16,
   "id": "5817fccf-18f0-4bbf-a047-9d2642c79a0a",
   "metadata": {},
   "outputs": [
    {
     "data": {
      "text/plain": [
       "1.400345626838779e+17"
      ]
     },
     "execution_count": 16,
     "metadata": {},
     "output_type": "execute_result"
    }
   ],
   "source": [
    "# ess for model\n",
    "ess_model = sum(preds['y_hat_minus_mean'] ** 2)\n",
    "ess_model"
   ]
  },
  {
   "cell_type": "markdown",
   "id": "389c8a05-34e5-44fa-9a1c-63a34d8d25e0",
   "metadata": {},
   "source": [
    "- total sum of squared errors"
   ]
  },
  {
   "cell_type": "code",
   "execution_count": 17,
   "id": "ee76b934-84dc-4d53-b328-eb0cae2e52c2",
   "metadata": {},
   "outputs": [
    {
     "data": {
      "text/plain": [
       "6.923367261915407e+17"
      ]
     },
     "execution_count": 17,
     "metadata": {},
     "output_type": "execute_result"
    }
   ],
   "source": [
    "# total sum of squares for model\n",
    "tss_model = sse_model + ess_model\n",
    "tss_model"
   ]
  },
  {
   "cell_type": "markdown",
   "id": "a656adc2-c825-4497-b6c2-930d8a99c9cb",
   "metadata": {},
   "source": [
    "- mean squared error"
   ]
  },
  {
   "cell_type": "code",
   "execution_count": 18,
   "id": "f689b3ee-06e0-4425-8546-606d5319d066",
   "metadata": {},
   "outputs": [
    {
     "data": {
      "text/plain": [
       "368652673210.4515"
      ]
     },
     "execution_count": 18,
     "metadata": {},
     "output_type": "execute_result"
    }
   ],
   "source": [
    "# calculating mean squared error for model\n",
    "mse_model = sse_model/len(preds)\n",
    "mse_model"
   ]
  },
  {
   "cell_type": "markdown",
   "id": "be44538a-fa84-4bc0-ae45-e13826ea1006",
   "metadata": {},
   "source": [
    "- root mean squared error"
   ]
  },
  {
   "cell_type": "code",
   "execution_count": 19,
   "id": "5237ebb9-97e7-46f2-abbf-cf6698ed555c",
   "metadata": {},
   "outputs": [
    {
     "data": {
      "text/plain": [
       "607167.7471757302"
      ]
     },
     "execution_count": 19,
     "metadata": {},
     "output_type": "execute_result"
    }
   ],
   "source": [
    "# calculating square root of mean squared error\n",
    "rmse_model = sqrt(mse_model)\n",
    "rmse_model"
   ]
  },
  {
   "cell_type": "markdown",
   "id": "c4e6866c-e2ac-492f-bcdd-7da24768c3e8",
   "metadata": {},
   "source": [
    "* model plotted:"
   ]
  },
  {
   "cell_type": "code",
   "execution_count": 20,
   "id": "3ba08d02-dafc-490e-b02a-da4fae7e8bd0",
   "metadata": {},
   "outputs": [],
   "source": [
    "lm = LinearRegression()\n",
    "\n",
    "lm.fit(X_train, y_train)\n",
    "\n",
    "preds['y_hat'] = lm.predict(X_train)"
   ]
  },
  {
   "cell_type": "code",
   "execution_count": 21,
   "id": "6cd33d29-b1dc-4a07-806d-3ec97bad56c1",
   "metadata": {},
   "outputs": [
    {
     "data": {
      "text/plain": [
       "607167.7471757302"
      ]
     },
     "execution_count": 21,
     "metadata": {},
     "output_type": "execute_result"
    }
   ],
   "source": [
    "rmse_model = sqrt(mean_squared_error(preds['y_actual'], preds['y_hat']))\n",
    "rmse_model"
   ]
  },
  {
   "cell_type": "code",
   "execution_count": 22,
   "id": "a3b64bd0-3551-4ae7-8b64-bac3265b2e9f",
   "metadata": {},
   "outputs": [
    {
     "name": "stdout",
     "output_type": "stream",
     "text": [
      "RMSE of our model : 607168\n"
     ]
    }
   ],
   "source": [
    "print(f'RMSE of our model : {round(rmse_model)}')"
   ]
  },
  {
   "cell_type": "markdown",
   "id": "677a2f82-15cf-4c11-bda1-92a2324087f5",
   "metadata": {},
   "source": [
    "5. Calculate the sum of squared errors, mean squared error, and root mean squared error for the **BASELINE MODEL** (i.e. a model that always predicts the average taxvaluedollarcnt amount)."
   ]
  },
  {
   "cell_type": "markdown",
   "id": "8127475e-a588-4c20-827e-1920c0f1790f",
   "metadata": {},
   "source": [
    "- sum of squared errors"
   ]
  },
  {
   "cell_type": "code",
   "execution_count": 23,
   "id": "4c46d5e1-00a8-4eae-baf1-9fecfadd2b1d",
   "metadata": {},
   "outputs": [
    {
     "data": {
      "text/html": [
       "<div>\n",
       "<style scoped>\n",
       "    .dataframe tbody tr th:only-of-type {\n",
       "        vertical-align: middle;\n",
       "    }\n",
       "\n",
       "    .dataframe tbody tr th {\n",
       "        vertical-align: top;\n",
       "    }\n",
       "\n",
       "    .dataframe thead th {\n",
       "        text-align: right;\n",
       "    }\n",
       "</style>\n",
       "<table border=\"1\" class=\"dataframe\">\n",
       "  <thead>\n",
       "    <tr style=\"text-align: right;\">\n",
       "      <th></th>\n",
       "      <th>y_actual</th>\n",
       "      <th>y_baseline</th>\n",
       "      <th>y_baseline_resids</th>\n",
       "      <th>y_hat</th>\n",
       "      <th>y_hat_resids</th>\n",
       "      <th>y_hat_resids_sq</th>\n",
       "      <th>y_hat_minus_mean</th>\n",
       "      <th>y_baseline_resids_sq</th>\n",
       "    </tr>\n",
       "  </thead>\n",
       "  <tbody>\n",
       "    <tr>\n",
       "      <th>1001601</th>\n",
       "      <td>241012</td>\n",
       "      <td>328010.5</td>\n",
       "      <td>86998.5</td>\n",
       "      <td>364907.314578</td>\n",
       "      <td>123895.314578</td>\n",
       "      <td>1.535005e+10</td>\n",
       "      <td>-95593.005277</td>\n",
       "      <td>7.568739e+09</td>\n",
       "    </tr>\n",
       "    <tr>\n",
       "      <th>611989</th>\n",
       "      <td>235630</td>\n",
       "      <td>328010.5</td>\n",
       "      <td>92380.5</td>\n",
       "      <td>320717.233800</td>\n",
       "      <td>85087.233800</td>\n",
       "      <td>7.239837e+09</td>\n",
       "      <td>-139783.086055</td>\n",
       "      <td>8.534157e+09</td>\n",
       "    </tr>\n",
       "    <tr>\n",
       "      <th>658616</th>\n",
       "      <td>435123</td>\n",
       "      <td>328010.5</td>\n",
       "      <td>-107112.5</td>\n",
       "      <td>363744.417715</td>\n",
       "      <td>-71378.582285</td>\n",
       "      <td>5.094902e+09</td>\n",
       "      <td>-96755.902139</td>\n",
       "      <td>1.147309e+10</td>\n",
       "    </tr>\n",
       "    <tr>\n",
       "      <th>835115</th>\n",
       "      <td>268770</td>\n",
       "      <td>328010.5</td>\n",
       "      <td>59240.5</td>\n",
       "      <td>353510.925325</td>\n",
       "      <td>84740.925325</td>\n",
       "      <td>7.181024e+09</td>\n",
       "      <td>-106989.394530</td>\n",
       "      <td>3.509437e+09</td>\n",
       "    </tr>\n",
       "    <tr>\n",
       "      <th>242295</th>\n",
       "      <td>365000</td>\n",
       "      <td>328010.5</td>\n",
       "      <td>-36989.5</td>\n",
       "      <td>365837.632068</td>\n",
       "      <td>837.632068</td>\n",
       "      <td>7.016275e+05</td>\n",
       "      <td>-94662.687787</td>\n",
       "      <td>1.368223e+09</td>\n",
       "    </tr>\n",
       "  </tbody>\n",
       "</table>\n",
       "</div>"
      ],
      "text/plain": [
       "         y_actual  y_baseline  y_baseline_resids          y_hat  \\\n",
       "1001601    241012    328010.5            86998.5  364907.314578   \n",
       "611989     235630    328010.5            92380.5  320717.233800   \n",
       "658616     435123    328010.5          -107112.5  363744.417715   \n",
       "835115     268770    328010.5            59240.5  353510.925325   \n",
       "242295     365000    328010.5           -36989.5  365837.632068   \n",
       "\n",
       "          y_hat_resids  y_hat_resids_sq  y_hat_minus_mean  \\\n",
       "1001601  123895.314578     1.535005e+10     -95593.005277   \n",
       "611989    85087.233800     7.239837e+09    -139783.086055   \n",
       "658616   -71378.582285     5.094902e+09     -96755.902139   \n",
       "835115    84740.925325     7.181024e+09    -106989.394530   \n",
       "242295      837.632068     7.016275e+05     -94662.687787   \n",
       "\n",
       "         y_baseline_resids_sq  \n",
       "1001601          7.568739e+09  \n",
       "611989           8.534157e+09  \n",
       "658616           1.147309e+10  \n",
       "835115           3.509437e+09  \n",
       "242295           1.368223e+09  "
      ]
     },
     "execution_count": 23,
     "metadata": {},
     "output_type": "execute_result"
    }
   ],
   "source": [
    "# sse calculated for baseline\n",
    "preds['y_baseline_resids_sq'] = preds['y_baseline_resids'] ** 2\n",
    "preds.head()"
   ]
  },
  {
   "cell_type": "code",
   "execution_count": 24,
   "id": "c10c7601-6377-4afd-a351-bdb34bfce9e5",
   "metadata": {},
   "outputs": [
    {
     "data": {
      "text/plain": [
       "7.186348264170656e+17"
      ]
     },
     "execution_count": 24,
     "metadata": {},
     "output_type": "execute_result"
    }
   ],
   "source": [
    "sse_baseline = preds.y_baseline_resids_sq.sum()\n",
    "sse_baseline"
   ]
  },
  {
   "cell_type": "markdown",
   "id": "799bea01-fc3f-4e2a-ad42-4f66004ffe19",
   "metadata": {},
   "source": [
    "- mean squared error"
   ]
  },
  {
   "cell_type": "code",
   "execution_count": 25,
   "id": "aaab9428-496b-4c21-aece-464e51af2493",
   "metadata": {},
   "outputs": [
    {
     "data": {
      "text/plain": [
       "479677008936.9826"
      ]
     },
     "execution_count": 25,
     "metadata": {},
     "output_type": "execute_result"
    }
   ],
   "source": [
    "mse_baseline = sse_baseline/len(preds)\n",
    "mse_baseline"
   ]
  },
  {
   "cell_type": "markdown",
   "id": "26818deb-ff86-47bb-bf7d-64c20e20baf3",
   "metadata": {},
   "source": [
    "- root mean squared error"
   ]
  },
  {
   "cell_type": "code",
   "execution_count": 26,
   "id": "3fbc39b8-b20e-427f-966d-6b66825a2c55",
   "metadata": {},
   "outputs": [
    {
     "data": {
      "text/plain": [
       "692587.1850799599"
      ]
     },
     "execution_count": 26,
     "metadata": {},
     "output_type": "execute_result"
    }
   ],
   "source": [
    "rmse_baseline = sqrt(mse_baseline)\n",
    "rmse_baseline"
   ]
  },
  {
   "cell_type": "code",
   "execution_count": 27,
   "id": "2d98ddd2-863e-4135-a77c-ad0f868df2d9",
   "metadata": {},
   "outputs": [
    {
     "name": "stdout",
     "output_type": "stream",
     "text": [
      "RMSE of our baseline : 692587\n"
     ]
    }
   ],
   "source": [
    "print(f'RMSE of our baseline : {round(rmse_baseline)}')"
   ]
  },
  {
   "cell_type": "markdown",
   "id": "5612ffb3-bed6-4213-a114-899710b6d016",
   "metadata": {},
   "source": [
    "6. Write python code that compares the sum of squared errors for your model against the sum of squared errors for the baseline model and outputs whether or not your model performs better than the baseline model."
   ]
  },
  {
   "cell_type": "code",
   "execution_count": 28,
   "id": "8039e8d9-9ed2-40a0-9c1b-4ac0f18ccc3c",
   "metadata": {},
   "outputs": [
    {
     "name": "stdout",
     "output_type": "stream",
     "text": [
      "Your model performs better than the baseline model.\n"
     ]
    }
   ],
   "source": [
    "# python code to compare\n",
    "if sse_model < sse_baseline:\n",
    "    print(\"Your model performs better than the baseline model.\")\n",
    "\n",
    "elif sse_model > sse_baseline:\n",
    "    print(\"Your model performs worse than the baseline model.\")\n",
    "\n",
    "else:\n",
    "    print(\"Your model performs equally to the baseline model.\")"
   ]
  },
  {
   "cell_type": "markdown",
   "id": "d14efefd-eca7-4307-ae71-d43a046e4b14",
   "metadata": {},
   "source": [
    "7. What is the amount of variance explained in your model?"
   ]
  },
  {
   "cell_type": "code",
   "execution_count": 29,
   "id": "c120ca13-e52d-440e-ae82-a19296666bae",
   "metadata": {},
   "outputs": [
    {
     "data": {
      "text/plain": [
       "0.20226366359925063"
      ]
     },
     "execution_count": 29,
     "metadata": {},
     "output_type": "execute_result"
    }
   ],
   "source": [
    "r2_score(preds['y_actual'], preds['y_hat'])"
   ]
  },
  {
   "cell_type": "markdown",
   "id": "1c555058-9044-4ef3-8814-d9d5e51ad781",
   "metadata": {},
   "source": [
    "8. Is your model better than the baseline model?"
   ]
  },
  {
   "cell_type": "markdown",
   "id": "d901fa88-598d-4908-9c27-56ddeebd4193",
   "metadata": {},
   "source": [
    "Yes\n",
    "\n",
    "- \"Your model performs better than the baseline model.\""
   ]
  },
  {
   "cell_type": "markdown",
   "id": "929713be-8bec-478e-b2e0-0d38d8e084d1",
   "metadata": {},
   "source": [
    "9. Create a file named evaluate.py that contains the following functions.\n",
    "\n",
    "* plot_residuals(y, yhat): creates a residual plot\n",
    "* regression_errors(y, yhat): returns the following values:\n",
    "    * sum of squared errors (SSE)\n",
    "    * explained sum of squares (ESS)\n",
    "    * total sum of squares (TSS)\n",
    "    * mean squared error (MSE)\n",
    "    * root mean squared error (RMSE)\n",
    "* baseline_mean_errors(y): computes the SSE, MSE, and RMSE for the baseline model\n",
    "* better_than_baseline(y, yhat): returns true if your model performs better than the baseline, otherwise false"
   ]
  },
  {
   "cell_type": "code",
   "execution_count": 30,
   "id": "ef879756-77d6-4f64-bf08-4c8aee3a7656",
   "metadata": {},
   "outputs": [
    {
     "data": {
      "text/plain": [
       "'\\n# created residual plot\\ndef plot_residual(y, y_hat):\\n\\n# returns values\\ndef regression_errors(y, yhat):\\n    # SSE\\n    # ESS\\n    # TSS\\n    # MSE\\n    # RMSE\\n\\n# computes the SSE, MSE, and RMSE for the baseline model\\ndef baseline_mean_errors(y):\\n\\n\\n# returns true if your model performs better than the baseline, otherwise false\\ndef better_than_baseline(y, y_hat):\\n'"
      ]
     },
     "execution_count": 30,
     "metadata": {},
     "output_type": "execute_result"
    }
   ],
   "source": [
    "'''\n",
    "# created residual plot\n",
    "def plot_residual(y, y_hat):\n",
    "\n",
    "# returns values\n",
    "def regression_errors(y, yhat):\n",
    "    # SSE\n",
    "    # ESS\n",
    "    # TSS\n",
    "    # MSE\n",
    "    # RMSE\n",
    "\n",
    "# computes the SSE, MSE, and RMSE for the baseline model\n",
    "def baseline_mean_errors(y):\n",
    "\n",
    "\n",
    "# returns true if your model performs better than the baseline, otherwise false\n",
    "def better_than_baseline(y, y_hat):\n",
    "'''"
   ]
  },
  {
   "cell_type": "code",
   "execution_count": 31,
   "id": "dae70d4a-f7ff-4e3e-88c1-d12182bd9b87",
   "metadata": {},
   "outputs": [],
   "source": [
    "import evaluate"
   ]
  },
  {
   "cell_type": "markdown",
   "id": "6de820a2-4dd6-4d53-99dc-666c222e09e4",
   "metadata": {},
   "source": [
    "- using created functions on exercise variables"
   ]
  },
  {
   "cell_type": "code",
   "execution_count": 32,
   "id": "17938d97-bc52-4d33-8f16-1d2a8702e166",
   "metadata": {},
   "outputs": [
    {
     "data": {
      "image/png": "[encoded data removed]",
      "text/plain": [
       "<Figure size 640x480 with 1 Axes>"
      ]
     },
     "metadata": {},
     "output_type": "display_data"
    }
   ],
   "source": [
    "evaluate.plot_residuals(preds.y_actual, preds.y_hat) "
   ]
  },
  {
   "cell_type": "code",
   "execution_count": 33,
   "id": "208d65a4-b9ce-4615-8262-9666e83f1a8d",
   "metadata": {},
   "outputs": [
    {
     "data": {
      "text/plain": [
       "(5.523021635076628e+17,\n",
       " 1.4003456268385971e+17,\n",
       " 6.923367261914584e+17,\n",
       " 368652673210.4515,\n",
       " 607167.7471757302)"
      ]
     },
     "execution_count": 33,
     "metadata": {},
     "output_type": "execute_result"
    }
   ],
   "source": [
    "evaluate.regression_errors(preds.y_actual, preds.y_hat)"
   ]
  },
  {
   "cell_type": "code",
   "execution_count": 34,
   "id": "7e1ee90c-f3e4-4fe6-a516-37614dd4afd0",
   "metadata": {},
   "outputs": [
    {
     "data": {
      "text/plain": [
       "(6.923367261914584e+17, 462123456571.81616, 679796.6288323414)"
      ]
     },
     "execution_count": 34,
     "metadata": {},
     "output_type": "execute_result"
    }
   ],
   "source": [
    "evaluate.baseline_mean_errors(preds.y_actual)"
   ]
  },
  {
   "cell_type": "code",
   "execution_count": 35,
   "id": "a27c376a-4e92-41c1-92e0-93a93283338c",
   "metadata": {},
   "outputs": [
    {
     "data": {
      "text/plain": [
       "True"
      ]
     },
     "execution_count": 35,
     "metadata": {},
     "output_type": "execute_result"
    }
   ],
   "source": [
    "evaluate.better_than_baseline(preds.y_actual, preds.y_hat)"
   ]
  },
  {
   "cell_type": "code",
   "execution_count": 36,
   "id": "41066777-99d3-4bbc-a639-f1845523fd91",
   "metadata": {},
   "outputs": [
    {
     "data": {
      "image/png": "[encoded data removed]",
      "text/plain": [
       "<Figure size 640x480 with 1 Axes>"
      ]
     },
     "metadata": {},
     "output_type": "display_data"
    },
    {
     "name": "stdout",
     "output_type": "stream",
     "text": [
      "\n",
      "-------------------------------------\n",
      "\n",
      "SSE: 5.523021635076628e+17\n",
      "\n",
      "ESS: 1.4003456268385971e+17\n",
      "\n",
      "TSS: 6.923367261914584e+17\n",
      "\n",
      "MSE: 368652673210.4515\n",
      "\n",
      "RMSE: 607167.7471757302\n",
      "\n",
      "\n",
      "-------------------------------------\n",
      "Baseline SSE: 6.923367261914584e+17\n",
      "\n",
      "Baseline MSE: 462123456571.81616\n",
      "\n",
      "Baseline RMSE: 679796.6288323414\n",
      "\n",
      "\n",
      "-------------------------------------\n",
      "\n",
      "Is the model better than the baseline? True\n"
     ]
    }
   ],
   "source": [
    "evaluate.plot_residuals(preds.y_actual, preds.y_hat)\n",
    "\n",
    "print(f\"\\n-------------------------------------\")\n",
    "\n",
    "\n",
    "SSE, ESS, TSS, MSE, RMSE = evaluate.regression_errors(preds.y_actual, preds.y_hat)\n",
    "\n",
    "print(f\"\\nSSE: {SSE}\\n\")\n",
    "\n",
    "print(f\"ESS: {ESS}\\n\")\n",
    "\n",
    "print(f\"TSS: {TSS}\\n\")\n",
    "\n",
    "print(f\"MSE: {MSE}\\n\")\n",
    "\n",
    "print(f\"RMSE: {RMSE}\\n\")\n",
    "\n",
    "print(f\"\\n-------------------------------------\")\n",
    "\n",
    "SSE_baseline, MSE_baseline, RMSE_baseline = evaluate.baseline_mean_errors(preds.y_actual)\n",
    "\n",
    "print(f\"Baseline SSE: {SSE_baseline}\\n\")\n",
    "\n",
    "print(f\"Baseline MSE: {MSE_baseline}\\n\")\n",
    "\n",
    "print(f\"Baseline RMSE: {RMSE_baseline}\\n\")\n",
    "\n",
    "print(f\"\\n-------------------------------------\")\n",
    "\n",
    "print(f\"\\nIs the model better than the baseline? {evaluate.better_than_baseline(preds.y_actual, preds.y_hat)}\")"
   ]
  },
  {
   "cell_type": "markdown",
   "id": "ba54d7fe-1e12-4031-90b9-30369cbda172",
   "metadata": {},
   "source": [
    "# Bonus Exercises"
   ]
  },
  {
   "cell_type": "code",
   "execution_count": 64,
   "id": "8ce38235-de8d-438e-923c-0ff8a76ec4b9",
   "metadata": {},
   "outputs": [],
   "source": [
    "def prepare_data(train, val, X_col, y_col):\n",
    "    # Split the data into subsets for train and validation\n",
    "    X_train = train[[X_col]]\n",
    "    y_train = train[y_col]\n",
    "\n",
    "    X_val = val[[X_col]]\n",
    "    y_val = val[y_col]\n",
    "\n",
    "    return X_train, y_train, X_val, y_val\n",
    "\n",
    "def create_baseline_predictions(y_train):\n",
    "    # Calculate the baseline prediction using median\n",
    "    y_baseline = y_train.median()\n",
    "    preds = pd.DataFrame({'y_actual': y_train, 'y_baseline': y_baseline})\n",
    "    return preds\n",
    "\n",
    "def train_linear_regression_model(X_train, y_train):\n",
    "    # Train a linear regression model\n",
    "    model = LinearRegression()\n",
    "    model.fit(X_train, y_train)\n",
    "    return model\n",
    "\n",
    "def predict_with_model(model, X_train):\n",
    "    # Make predictions using the trained model\n",
    "    y_hat = model.predict(X_train)\n",
    "    return y_hat\n",
    "\n",
    "# Usage example\n",
    "# train_data =  # Your training data\n",
    "# val_data =  # Your validation data\n",
    "# X_column = 'total_bill'  # Your feature column name\n",
    "# y_column = 'tip'  # Your target column name\n",
    "\n",
    "# X_train, y_train, X_val, y_val = prepare_data(train_data, val_data, X_column, y_column)\n",
    "# baseline_preds = create_baseline_predictions(y_train)\n",
    "# trained_model = train_linear_regression_model(X_train, y_train)\n",
    "# model_preds = predict_with_model(trained_model, X_train)\n"
   ]
  },
  {
   "cell_type": "markdown",
   "id": "9f01bb40-496c-4295-8633-84107fca17a4",
   "metadata": {},
   "source": [
    "1. Load the tips dataset from either pydataset or seaborn. Fit a linear regression model (ordinary least squares) and compute yhat, predictions of tip using total_bill."
   ]
  },
  {
   "cell_type": "code",
   "execution_count": 38,
   "id": "e07dd586-9963-425f-b415-dd96b3e02ef6",
   "metadata": {},
   "outputs": [],
   "source": [
    "from pydataset import data"
   ]
  },
  {
   "cell_type": "code",
   "execution_count": 39,
   "id": "697e7dfa-77b5-4ed5-9693-d8d0f2ba2d4c",
   "metadata": {},
   "outputs": [],
   "source": [
    "df = data('tips')"
   ]
  },
  {
   "cell_type": "code",
   "execution_count": 40,
   "id": "5f8cba1a-0bcd-4c99-9fb9-760ade149125",
   "metadata": {},
   "outputs": [
    {
     "data": {
      "text/html": [
       "<div>\n",
       "<style scoped>\n",
       "    .dataframe tbody tr th:only-of-type {\n",
       "        vertical-align: middle;\n",
       "    }\n",
       "\n",
       "    .dataframe tbody tr th {\n",
       "        vertical-align: top;\n",
       "    }\n",
       "\n",
       "    .dataframe thead th {\n",
       "        text-align: right;\n",
       "    }\n",
       "</style>\n",
       "<table border=\"1\" class=\"dataframe\">\n",
       "  <thead>\n",
       "    <tr style=\"text-align: right;\">\n",
       "      <th></th>\n",
       "      <th>total_bill</th>\n",
       "      <th>tip</th>\n",
       "      <th>sex</th>\n",
       "      <th>smoker</th>\n",
       "      <th>day</th>\n",
       "      <th>time</th>\n",
       "      <th>size</th>\n",
       "    </tr>\n",
       "  </thead>\n",
       "  <tbody>\n",
       "    <tr>\n",
       "      <th>235</th>\n",
       "      <td>15.53</td>\n",
       "      <td>3.00</td>\n",
       "      <td>Male</td>\n",
       "      <td>Yes</td>\n",
       "      <td>Sat</td>\n",
       "      <td>Dinner</td>\n",
       "      <td>2</td>\n",
       "    </tr>\n",
       "    <tr>\n",
       "      <th>228</th>\n",
       "      <td>20.45</td>\n",
       "      <td>3.00</td>\n",
       "      <td>Male</td>\n",
       "      <td>No</td>\n",
       "      <td>Sat</td>\n",
       "      <td>Dinner</td>\n",
       "      <td>4</td>\n",
       "    </tr>\n",
       "    <tr>\n",
       "      <th>181</th>\n",
       "      <td>34.65</td>\n",
       "      <td>3.68</td>\n",
       "      <td>Male</td>\n",
       "      <td>Yes</td>\n",
       "      <td>Sun</td>\n",
       "      <td>Dinner</td>\n",
       "      <td>4</td>\n",
       "    </tr>\n",
       "    <tr>\n",
       "      <th>6</th>\n",
       "      <td>25.29</td>\n",
       "      <td>4.71</td>\n",
       "      <td>Male</td>\n",
       "      <td>No</td>\n",
       "      <td>Sun</td>\n",
       "      <td>Dinner</td>\n",
       "      <td>4</td>\n",
       "    </tr>\n",
       "    <tr>\n",
       "      <th>57</th>\n",
       "      <td>38.01</td>\n",
       "      <td>3.00</td>\n",
       "      <td>Male</td>\n",
       "      <td>Yes</td>\n",
       "      <td>Sat</td>\n",
       "      <td>Dinner</td>\n",
       "      <td>4</td>\n",
       "    </tr>\n",
       "  </tbody>\n",
       "</table>\n",
       "</div>"
      ],
      "text/plain": [
       "     total_bill   tip   sex smoker  day    time  size\n",
       "235       15.53  3.00  Male    Yes  Sat  Dinner     2\n",
       "228       20.45  3.00  Male     No  Sat  Dinner     4\n",
       "181       34.65  3.68  Male    Yes  Sun  Dinner     4\n",
       "6         25.29  4.71  Male     No  Sun  Dinner     4\n",
       "57        38.01  3.00  Male    Yes  Sat  Dinner     4"
      ]
     },
     "execution_count": 40,
     "metadata": {},
     "output_type": "execute_result"
    }
   ],
   "source": [
    "train, val, test = wrangle.train_val_test(df)\n",
    "train.head()"
   ]
  },
  {
   "cell_type": "code",
   "execution_count": 41,
   "id": "1b9958c8-16f9-49ab-9ea4-305a7a51b67b",
   "metadata": {},
   "outputs": [],
   "source": [
    "# set model varible to log ref.\n",
    "model = LinearRegression()\n",
    "\n",
    "# split into subsets for train and val\n",
    "X_train = train[['total_bill']]\n",
    "y_train = train.tip\n",
    "\n",
    "X_val = val[['total_bill']]\n",
    "y_val = val.tip\n",
    "\n",
    "# using median\n",
    "y_train.median()\n",
    "\n",
    "# created a DF to work with\n",
    "preds = pd.DataFrame({'y_actual' : y_train,\n",
    "              'y_baseline': y_train.median()})\n",
    "\n",
    "preds.head()\n",
    "\n",
    "# assuming X and y are already defined\n",
    "model = LinearRegression().fit(X_train, y_train)\n",
    "\n",
    "model.fit(X_train, y_train)\n",
    "\n",
    "preds['y_hatt'] = model.predict(X_train)"
   ]
  },
  {
   "cell_type": "code",
   "execution_count": 42,
   "id": "c0e2582d-76d5-416a-84b4-4996965e082c",
   "metadata": {},
   "outputs": [
    {
     "data": {
      "image/png": "[encoded data removed]",
      "text/plain": [
       "<Figure size 640x480 with 1 Axes>"
      ]
     },
     "metadata": {},
     "output_type": "display_data"
    }
   ],
   "source": [
    "# y-hat resids calc\n",
    "preds['y_hatt_resids'] = preds['y_hatt'] - preds['y_actual']\n",
    "\n",
    "# baseline \n",
    "sns.scatterplot(data=preds, x='y_actual', y='y_hatt_resids')\n",
    "plt.axhline(0, color='darkred', linestyle='dashdot')\n",
    "plt.show()"
   ]
  },
  {
   "cell_type": "code",
   "execution_count": 43,
   "id": "f3565922-7d74-4d55-a495-c08d48bc5d84",
   "metadata": {},
   "outputs": [
    {
     "data": {
      "image/png": "[encoded data removed]",
      "text/plain": [
       "<Figure size 640x480 with 1 Axes>"
      ]
     },
     "metadata": {},
     "output_type": "display_data"
    }
   ],
   "source": [
    "evaluate.plot_residuals(preds.y_actual, preds.y_hatt) "
   ]
  },
  {
   "cell_type": "code",
   "execution_count": 44,
   "id": "c5a787c9-7757-4085-9dfa-869cb084397e",
   "metadata": {},
   "outputs": [
    {
     "data": {
      "text/plain": [
       "(197.6653328504776,\n",
       " 165.3936765612871,\n",
       " 363.0590094117647,\n",
       " 1.162737252061633,\n",
       " 1.0783029500384542)"
      ]
     },
     "execution_count": 44,
     "metadata": {},
     "output_type": "execute_result"
    }
   ],
   "source": [
    "evaluate.regression_errors(preds.y_actual, preds.y_hatt)"
   ]
  },
  {
   "cell_type": "code",
   "execution_count": 45,
   "id": "fa31043c-1f94-44a3-8dcd-fab0ef6b8935",
   "metadata": {},
   "outputs": [
    {
     "data": {
      "text/plain": [
       "(363.0590094117647, 2.13564123183391, 1.4613833281633912)"
      ]
     },
     "execution_count": 45,
     "metadata": {},
     "output_type": "execute_result"
    }
   ],
   "source": [
    "evaluate.baseline_mean_errors(preds.y_actual)"
   ]
  },
  {
   "cell_type": "code",
   "execution_count": 46,
   "id": "4079519f-1668-434d-ace5-b7f3221a301e",
   "metadata": {},
   "outputs": [
    {
     "data": {
      "text/plain": [
       "True"
      ]
     },
     "execution_count": 46,
     "metadata": {},
     "output_type": "execute_result"
    }
   ],
   "source": [
    "evaluate.better_than_baseline(preds.y_actual, preds.y_hatt)"
   ]
  },
  {
   "cell_type": "code",
   "execution_count": 47,
   "id": "5394c327-1ee0-4f49-8965-69c29fbb2911",
   "metadata": {},
   "outputs": [],
   "source": [
    "train_data =  train\n",
    "val_data =  val\n",
    "X_column = 'total_bill'  # Your feature column name\n",
    "y_column = 'tip'  # Your target column name\n",
    "\n",
    "X_train, y_train, X_val, y_val = prepare_data(train_data, val_data, X_column, y_column)\n",
    "baseline_preds = create_baseline_predictions(y_train)\n",
    "trained_model = train_linear_regression_model(X_train, y_train)\n",
    "model_preds = predict_with_model(trained_model, X_train)"
   ]
  },
  {
   "cell_type": "code",
   "execution_count": null,
   "id": "5a31aec0-d080-4ea9-aaa5-142f46703cbd",
   "metadata": {},
   "outputs": [],
   "source": []
  },
  {
   "cell_type": "markdown",
   "id": "73e55d43-cea3-4983-8ea1-076eb525fa8e",
   "metadata": {},
   "source": [
    "2. Load the mpg dataset and fit a model that predicts highway mileage based on engine displacement. Take a look at all the regression evaluation metrics, and determine whether this model is better than the baseline model. Use the functions from your evaluate.py to help accomplish this."
   ]
  },
  {
   "cell_type": "code",
   "execution_count": 48,
   "id": "0d7216ee-2d87-4efc-99f6-f5cea90b04f3",
   "metadata": {},
   "outputs": [
    {
     "data": {
      "text/html": [
       "<div>\n",
       "<style scoped>\n",
       "    .dataframe tbody tr th:only-of-type {\n",
       "        vertical-align: middle;\n",
       "    }\n",
       "\n",
       "    .dataframe tbody tr th {\n",
       "        vertical-align: top;\n",
       "    }\n",
       "\n",
       "    .dataframe thead th {\n",
       "        text-align: right;\n",
       "    }\n",
       "</style>\n",
       "<table border=\"1\" class=\"dataframe\">\n",
       "  <thead>\n",
       "    <tr style=\"text-align: right;\">\n",
       "      <th></th>\n",
       "      <th>manufacturer</th>\n",
       "      <th>model</th>\n",
       "      <th>displ</th>\n",
       "      <th>year</th>\n",
       "      <th>cyl</th>\n",
       "      <th>trans</th>\n",
       "      <th>drv</th>\n",
       "      <th>cty</th>\n",
       "      <th>hwy</th>\n",
       "      <th>fl</th>\n",
       "      <th>class</th>\n",
       "    </tr>\n",
       "  </thead>\n",
       "  <tbody>\n",
       "    <tr>\n",
       "      <th>127</th>\n",
       "      <td>jeep</td>\n",
       "      <td>grand cherokee 4wd</td>\n",
       "      <td>4.7</td>\n",
       "      <td>2008</td>\n",
       "      <td>8</td>\n",
       "      <td>auto(l5)</td>\n",
       "      <td>4</td>\n",
       "      <td>9</td>\n",
       "      <td>12</td>\n",
       "      <td>e</td>\n",
       "      <td>suv</td>\n",
       "    </tr>\n",
       "    <tr>\n",
       "      <th>80</th>\n",
       "      <td>ford</td>\n",
       "      <td>explorer 4wd</td>\n",
       "      <td>4.0</td>\n",
       "      <td>1999</td>\n",
       "      <td>6</td>\n",
       "      <td>auto(l5)</td>\n",
       "      <td>4</td>\n",
       "      <td>14</td>\n",
       "      <td>17</td>\n",
       "      <td>r</td>\n",
       "      <td>suv</td>\n",
       "    </tr>\n",
       "    <tr>\n",
       "      <th>6</th>\n",
       "      <td>audi</td>\n",
       "      <td>a4</td>\n",
       "      <td>2.8</td>\n",
       "      <td>1999</td>\n",
       "      <td>6</td>\n",
       "      <td>manual(m5)</td>\n",
       "      <td>f</td>\n",
       "      <td>18</td>\n",
       "      <td>26</td>\n",
       "      <td>p</td>\n",
       "      <td>compact</td>\n",
       "    </tr>\n",
       "    <tr>\n",
       "      <th>57</th>\n",
       "      <td>dodge</td>\n",
       "      <td>dakota pickup 4wd</td>\n",
       "      <td>5.2</td>\n",
       "      <td>1999</td>\n",
       "      <td>8</td>\n",
       "      <td>auto(l4)</td>\n",
       "      <td>4</td>\n",
       "      <td>11</td>\n",
       "      <td>15</td>\n",
       "      <td>r</td>\n",
       "      <td>pickup</td>\n",
       "    </tr>\n",
       "    <tr>\n",
       "      <th>121</th>\n",
       "      <td>hyundai</td>\n",
       "      <td>tiburon</td>\n",
       "      <td>2.7</td>\n",
       "      <td>2008</td>\n",
       "      <td>6</td>\n",
       "      <td>manual(m6)</td>\n",
       "      <td>f</td>\n",
       "      <td>16</td>\n",
       "      <td>24</td>\n",
       "      <td>r</td>\n",
       "      <td>subcompact</td>\n",
       "    </tr>\n",
       "  </tbody>\n",
       "</table>\n",
       "</div>"
      ],
      "text/plain": [
       "    manufacturer               model  displ  year  cyl       trans drv  cty  \\\n",
       "127         jeep  grand cherokee 4wd    4.7  2008    8    auto(l5)   4    9   \n",
       "80          ford        explorer 4wd    4.0  1999    6    auto(l5)   4   14   \n",
       "6           audi                  a4    2.8  1999    6  manual(m5)   f   18   \n",
       "57         dodge   dakota pickup 4wd    5.2  1999    8    auto(l4)   4   11   \n",
       "121      hyundai             tiburon    2.7  2008    6  manual(m6)   f   16   \n",
       "\n",
       "     hwy fl       class  \n",
       "127   12  e         suv  \n",
       "80    17  r         suv  \n",
       "6     26  p     compact  \n",
       "57    15  r      pickup  \n",
       "121   24  r  subcompact  "
      ]
     },
     "execution_count": 48,
     "metadata": {},
     "output_type": "execute_result"
    }
   ],
   "source": [
    "df = data('mpg')\n",
    "train, val, test = wrangle.train_val_test(df)\n",
    "train.head()"
   ]
  },
  {
   "cell_type": "code",
   "execution_count": 49,
   "id": "c76ce26f-0904-4580-868c-3b470f498fe5",
   "metadata": {},
   "outputs": [
    {
     "data": {
      "text/plain": [
       "['manufacturer',\n",
       " 'model',\n",
       " 'displ',\n",
       " 'year',\n",
       " 'cyl',\n",
       " 'trans',\n",
       " 'drv',\n",
       " 'cty',\n",
       " 'hwy',\n",
       " 'fl',\n",
       " 'class']"
      ]
     },
     "execution_count": 49,
     "metadata": {},
     "output_type": "execute_result"
    }
   ],
   "source": [
    "train.columns.to_list()"
   ]
  },
  {
   "cell_type": "code",
   "execution_count": 50,
   "id": "0f771713-48a3-403d-89e8-a9d368b32481",
   "metadata": {},
   "outputs": [],
   "source": [
    "#rename\n",
    "train.rename(columns={'displ': 'displacement'}, inplace=True)\n",
    "val.rename(columns={'displ': 'displacement'}, inplace=True)"
   ]
  },
  {
   "cell_type": "code",
   "execution_count": 51,
   "id": "f1009deb-47eb-4a59-8bfb-906784f49604",
   "metadata": {},
   "outputs": [],
   "source": [
    "#prep x and y subets\n",
    "X_train, y_train, X_val, y_val = prepare_data(train, val, 'displacement', 'hwy')"
   ]
  },
  {
   "cell_type": "code",
   "execution_count": 52,
   "id": "9bdc7470-1de7-4032-ba74-ec631cb899d6",
   "metadata": {},
   "outputs": [
    {
     "data": {
      "text/html": [
       "<div>\n",
       "<style scoped>\n",
       "    .dataframe tbody tr th:only-of-type {\n",
       "        vertical-align: middle;\n",
       "    }\n",
       "\n",
       "    .dataframe tbody tr th {\n",
       "        vertical-align: top;\n",
       "    }\n",
       "\n",
       "    .dataframe thead th {\n",
       "        text-align: right;\n",
       "    }\n",
       "</style>\n",
       "<table border=\"1\" class=\"dataframe\">\n",
       "  <thead>\n",
       "    <tr style=\"text-align: right;\">\n",
       "      <th></th>\n",
       "      <th>y_actual</th>\n",
       "      <th>y_baseline</th>\n",
       "    </tr>\n",
       "  </thead>\n",
       "  <tbody>\n",
       "    <tr>\n",
       "      <th>127</th>\n",
       "      <td>12</td>\n",
       "      <td>24.0</td>\n",
       "    </tr>\n",
       "    <tr>\n",
       "      <th>80</th>\n",
       "      <td>17</td>\n",
       "      <td>24.0</td>\n",
       "    </tr>\n",
       "    <tr>\n",
       "      <th>6</th>\n",
       "      <td>26</td>\n",
       "      <td>24.0</td>\n",
       "    </tr>\n",
       "    <tr>\n",
       "      <th>57</th>\n",
       "      <td>15</td>\n",
       "      <td>24.0</td>\n",
       "    </tr>\n",
       "    <tr>\n",
       "      <th>121</th>\n",
       "      <td>24</td>\n",
       "      <td>24.0</td>\n",
       "    </tr>\n",
       "  </tbody>\n",
       "</table>\n",
       "</div>"
      ],
      "text/plain": [
       "     y_actual  y_baseline\n",
       "127        12        24.0\n",
       "80         17        24.0\n",
       "6          26        24.0\n",
       "57         15        24.0\n",
       "121        24        24.0"
      ]
     },
     "execution_count": 52,
     "metadata": {},
     "output_type": "execute_result"
    }
   ],
   "source": [
    "#baseline predictions\n",
    "preds = create_baseline_predictions(y_train)\n",
    "preds.head()"
   ]
  },
  {
   "cell_type": "code",
   "execution_count": 53,
   "id": "ed6f1511-17b2-4e60-9a40-b17ea8c0248b",
   "metadata": {},
   "outputs": [
    {
     "data": {
      "text/html": [
       "<style>#sk-container-id-2 {color: black;background-color: white;}#sk-container-id-2 pre{padding: 0;}#sk-container-id-2 div.sk-toggleable {background-color: white;}#sk-container-id-2 label.sk-toggleable__label {cursor: pointer;display: block;width: 100%;margin-bottom: 0;padding: 0.3em;box-sizing: border-box;text-align: center;}#sk-container-id-2 label.sk-toggleable__label-arrow:before {content: \"▸\";float: left;margin-right: 0.25em;color: #696969;}#sk-container-id-2 label.sk-toggleable__label-arrow:hover:before {color: black;}#sk-container-id-2 div.sk-estimator:hover label.sk-toggleable__label-arrow:before {color: black;}#sk-container-id-2 div.sk-toggleable__content {max-height: 0;max-width: 0;overflow: hidden;text-align: left;background-color: #f0f8ff;}#sk-container-id-2 div.sk-toggleable__content pre {margin: 0.2em;color: black;border-radius: 0.25em;background-color: #f0f8ff;}#sk-container-id-2 input.sk-toggleable__control:checked~div.sk-toggleable__content {max-height: 200px;max-width: 100%;overflow: auto;}#sk-container-id-2 input.sk-toggleable__control:checked~label.sk-toggleable__label-arrow:before {content: \"▾\";}#sk-container-id-2 div.sk-estimator input.sk-toggleable__control:checked~label.sk-toggleable__label {background-color: #d4ebff;}#sk-container-id-2 div.sk-label input.sk-toggleable__control:checked~label.sk-toggleable__label {background-color: #d4ebff;}#sk-container-id-2 input.sk-hidden--visually {border: 0;clip: rect(1px 1px 1px 1px);clip: rect(1px, 1px, 1px, 1px);height: 1px;margin: -1px;overflow: hidden;padding: 0;position: absolute;width: 1px;}#sk-container-id-2 div.sk-estimator {font-family: monospace;background-color: #f0f8ff;border: 1px dotted black;border-radius: 0.25em;box-sizing: border-box;margin-bottom: 0.5em;}#sk-container-id-2 div.sk-estimator:hover {background-color: #d4ebff;}#sk-container-id-2 div.sk-parallel-item::after {content: \"\";width: 100%;border-bottom: 1px solid gray;flex-grow: 1;}#sk-container-id-2 div.sk-label:hover label.sk-toggleable__label {background-color: #d4ebff;}#sk-container-id-2 div.sk-serial::before {content: \"\";position: absolute;border-left: 1px solid gray;box-sizing: border-box;top: 0;bottom: 0;left: 50%;z-index: 0;}#sk-container-id-2 div.sk-serial {display: flex;flex-direction: column;align-items: center;background-color: white;padding-right: 0.2em;padding-left: 0.2em;position: relative;}#sk-container-id-2 div.sk-item {position: relative;z-index: 1;}#sk-container-id-2 div.sk-parallel {display: flex;align-items: stretch;justify-content: center;background-color: white;position: relative;}#sk-container-id-2 div.sk-item::before, #sk-container-id-2 div.sk-parallel-item::before {content: \"\";position: absolute;border-left: 1px solid gray;box-sizing: border-box;top: 0;bottom: 0;left: 50%;z-index: -1;}#sk-container-id-2 div.sk-parallel-item {display: flex;flex-direction: column;z-index: 1;position: relative;background-color: white;}#sk-container-id-2 div.sk-parallel-item:first-child::after {align-self: flex-end;width: 50%;}#sk-container-id-2 div.sk-parallel-item:last-child::after {align-self: flex-start;width: 50%;}#sk-container-id-2 div.sk-parallel-item:only-child::after {width: 0;}#sk-container-id-2 div.sk-dashed-wrapped {border: 1px dashed gray;margin: 0 0.4em 0.5em 0.4em;box-sizing: border-box;padding-bottom: 0.4em;background-color: white;}#sk-container-id-2 div.sk-label label {font-family: monospace;font-weight: bold;display: inline-block;line-height: 1.2em;}#sk-container-id-2 div.sk-label-container {text-align: center;}#sk-container-id-2 div.sk-container {/* jupyter's `normalize.less` sets `[hidden] { display: none; }` but bootstrap.min.css set `[hidden] { display: none !important; }` so we also need the `!important` here to be able to override the default hidden behavior on the sphinx rendered scikit-learn.org. See: https://github.com/scikit-learn/scikit-learn/issues/21755 */display: inline-block !important;position: relative;}#sk-container-id-2 div.sk-text-repr-fallback {display: none;}</style><div id=\"sk-container-id-2\" class=\"sk-top-container\"><div class=\"sk-text-repr-fallback\"><pre>LinearRegression()</pre><b>In a Jupyter environment, please rerun this cell to show the HTML representation or trust the notebook. <br />On GitHub, the HTML representation is unable to render, please try loading this page with nbviewer.org.</b></div><div class=\"sk-container\" hidden><div class=\"sk-item\"><div class=\"sk-estimator sk-toggleable\"><input class=\"sk-toggleable__control sk-hidden--visually\" id=\"sk-estimator-id-2\" type=\"checkbox\" checked><label for=\"sk-estimator-id-2\" class=\"sk-toggleable__label sk-toggleable__label-arrow\">LinearRegression</label><div class=\"sk-toggleable__content\"><pre>LinearRegression()</pre></div></div></div></div></div>"
      ],
      "text/plain": [
       "LinearRegression()"
      ]
     },
     "execution_count": 53,
     "metadata": {},
     "output_type": "execute_result"
    }
   ],
   "source": [
    "trained_model = train_linear_regression_model(X_train, y_train)\n",
    "trained_model"
   ]
  },
  {
   "cell_type": "code",
   "execution_count": 54,
   "id": "bb0ec828-1fa9-44ab-826d-09770243ed90",
   "metadata": {},
   "outputs": [
    {
     "data": {
      "text/plain": [
       "array([18.90571861, 21.41342141, 25.7123405 , 17.11450232, 26.07058376,\n",
       "       27.14531353, 21.41342141, 18.90571861, 16.3980158 , 18.90571861,\n",
       "       21.41342141, 12.45733997, 25.7123405 , 23.2046377 , 16.75625906,\n",
       "       23.92112421, 19.26396186, 26.07058376, 28.57828657, 21.77166467,\n",
       "       24.99585399, 23.2046377 , 16.3980158 , 23.92112421, 30.0112596 ,\n",
       "       27.14531353, 21.41342141, 21.41342141, 13.53206974, 15.68152929,\n",
       "       23.92112421, 27.86180005, 29.29477308, 28.57828657, 21.41342141,\n",
       "       22.12990793, 30.0112596 , 28.57828657, 17.83098883, 26.78707028,\n",
       "       22.12990793, 19.26396186, 27.86180005, 24.63761073, 16.3980158 ,\n",
       "       22.84639444, 16.3980158 , 17.11450232, 14.24855626, 28.57828657,\n",
       "       28.57828657, 19.98044838, 27.14531353, 25.7123405 , 29.29477308,\n",
       "       27.14531353, 24.63761073, 10.66612368, 26.78707028, 25.7123405 ,\n",
       "       24.99585399, 27.14531353, 27.14531353, 15.32328603, 15.32328603,\n",
       "       28.57828657, 23.56288096, 17.11450232, 18.90571861, 18.90571861,\n",
       "       22.12990793, 23.92112421, 23.92112421, 22.48815118, 15.32328603,\n",
       "       26.07058376, 29.29477308, 19.26396186, 23.92112421, 29.29477308,\n",
       "       21.41342141, 19.26396186, 23.56288096, 23.92112421, 23.2046377 ,\n",
       "       26.78707028, 28.57828657, 29.29477308, 18.90571861, 19.26396186,\n",
       "       25.7123405 , 25.7123405 , 28.57828657, 22.48815118, 26.78707028,\n",
       "       21.41342141, 24.63761073, 29.29477308, 27.14531353, 22.12990793,\n",
       "       20.6969349 , 28.57828657, 28.93652982, 16.3980158 , 29.29477308,\n",
       "       24.63761073, 18.90571861, 26.07058376, 20.6969349 , 20.6969349 ,\n",
       "       27.86180005, 15.32328603, 23.56288096, 16.3980158 , 24.99585399,\n",
       "       28.93652982, 14.60679951, 18.90571861, 28.57828657, 21.77166467,\n",
       "       29.29477308, 26.07058376, 29.29477308, 27.14531353, 28.57828657,\n",
       "       21.41342141, 26.78707028, 18.90571861, 22.48815118, 16.3980158 ,\n",
       "       15.32328603, 21.77166467, 26.78707028, 26.78707028, 27.86180005,\n",
       "       24.99585399, 13.890313  , 27.14531353, 22.12990793, 25.7123405 ,\n",
       "       29.29477308, 18.90571861, 23.2046377 , 21.41342141, 23.92112421,\n",
       "       30.0112596 , 30.0112596 , 28.57828657, 19.26396186, 26.07058376,\n",
       "       19.26396186, 28.57828657, 28.57828657, 26.07058376, 22.84639444,\n",
       "       16.75625906, 27.14531353, 17.11450232, 29.29477308, 24.63761073,\n",
       "       21.41342141, 27.86180005, 30.0112596 ])"
      ]
     },
     "execution_count": 54,
     "metadata": {},
     "output_type": "execute_result"
    }
   ],
   "source": [
    "model_preds = predict_with_model(trained_model, X_train)\n",
    "model_preds"
   ]
  },
  {
   "cell_type": "code",
   "execution_count": 55,
   "id": "c3d4adb0-de87-4e6f-8b2f-1f4ae7440680",
   "metadata": {},
   "outputs": [
    {
     "data": {
      "text/plain": [
       "(163,)"
      ]
     },
     "execution_count": 55,
     "metadata": {},
     "output_type": "execute_result"
    }
   ],
   "source": [
    "model_preds.shape"
   ]
  },
  {
   "cell_type": "code",
   "execution_count": 56,
   "id": "50ca3502-7238-4249-97bf-d40190d60cf1",
   "metadata": {},
   "outputs": [
    {
     "data": {
      "text/plain": [
       "163"
      ]
     },
     "execution_count": 56,
     "metadata": {},
     "output_type": "execute_result"
    }
   ],
   "source": [
    "X_train.shape[0]"
   ]
  },
  {
   "cell_type": "code",
   "execution_count": 57,
   "id": "2c0971fe-a652-44ff-8ee8-fa5766ad71c5",
   "metadata": {},
   "outputs": [
    {
     "data": {
      "text/plain": [
       "163"
      ]
     },
     "execution_count": 57,
     "metadata": {},
     "output_type": "execute_result"
    }
   ],
   "source": [
    "preds.shape[0]"
   ]
  },
  {
   "cell_type": "code",
   "execution_count": 58,
   "id": "c532aa49-17d2-4054-b2a5-96df2eba4fc2",
   "metadata": {},
   "outputs": [],
   "source": [
    "# assuming X and y are already defined\n",
    "model = LinearRegression().fit(X_train, y_train)\n",
    "\n",
    "model.fit(X_train, y_train)\n",
    "\n",
    "preds['y_hat'] = model.predict(X_train)"
   ]
  },
  {
   "cell_type": "code",
   "execution_count": 59,
   "id": "438d51eb-c42b-4794-9ed9-bc85855c9b34",
   "metadata": {},
   "outputs": [
    {
     "data": {
      "image/png": "[encoded data removed]",
      "text/plain": [
       "<Figure size 640x480 with 1 Axes>"
      ]
     },
     "metadata": {},
     "output_type": "display_data"
    }
   ],
   "source": [
    "# calculating residuals\n",
    "preds['y_baseline_resids'] = preds['y_baseline'] - preds['y_actual']\n",
    "preds.head()\n",
    "\n",
    "# baseline \n",
    "sns.scatterplot(data=preds, x='y_actual', y='y_baseline_resids')\n",
    "plt.show()"
   ]
  },
  {
   "cell_type": "code",
   "execution_count": 60,
   "id": "7e02ca36-8c9b-4d05-9dd4-8e56d14c5bae",
   "metadata": {},
   "outputs": [
    {
     "data": {
      "image/png": "[encoded data removed]",
      "text/plain": [
       "<Figure size 640x480 with 1 Axes>"
      ]
     },
     "metadata": {},
     "output_type": "display_data"
    }
   ],
   "source": [
    "evaluate.plot_residuals(preds.y_actual, preds.y_hat) "
   ]
  },
  {
   "cell_type": "code",
   "execution_count": 61,
   "id": "2af78350-35cd-48ac-bda8-0867aadef02c",
   "metadata": {},
   "outputs": [
    {
     "data": {
      "text/plain": [
       "(2427.3560487839795,\n",
       " 3519.7114358786002,\n",
       " 5947.067484662577,\n",
       " 14.891754900515211,\n",
       " 3.8589836616025224)"
      ]
     },
     "execution_count": 61,
     "metadata": {},
     "output_type": "execute_result"
    }
   ],
   "source": [
    "evaluate.regression_errors(preds.y_actual, preds.y_hat)"
   ]
  },
  {
   "cell_type": "code",
   "execution_count": 62,
   "id": "49ea0ef2-41d8-4406-a62c-bd5578c3ae8c",
   "metadata": {},
   "outputs": [
    {
     "data": {
      "text/plain": [
       "(5947.067484662577, 36.485076593021944, 6.040287790579348)"
      ]
     },
     "execution_count": 62,
     "metadata": {},
     "output_type": "execute_result"
    }
   ],
   "source": [
    "evaluate.baseline_mean_errors(preds.y_actual)"
   ]
  },
  {
   "cell_type": "code",
   "execution_count": 63,
   "id": "4f6cf690-448a-44c0-8c4c-024e79b4815c",
   "metadata": {},
   "outputs": [
    {
     "data": {
      "text/plain": [
       "True"
      ]
     },
     "execution_count": 63,
     "metadata": {},
     "output_type": "execute_result"
    }
   ],
   "source": [
    "evaluate.better_than_baseline(preds.y_actual, preds.y_hat)"
   ]
  }
 ],
 "metadata": {
  "kernelspec": {
   "display_name": "Python 3 (ipykernel)",
   "language": "python",
   "name": "python3"
  },
  "language_info": {
   "codemirror_mode": {
    "name": "ipython",
    "version": 3
   },
   "file_extension": ".py",
   "mimetype": "text/x-python",
   "name": "python",
   "nbconvert_exporter": "python",
   "pygments_lexer": "ipython3",
   "version": "3.10.9"
  }
 },
 "nbformat": 4,
 "nbformat_minor": 5
}
