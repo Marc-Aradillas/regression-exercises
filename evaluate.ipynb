{
 "cells": [
  {
   "cell_type": "code",
   "execution_count": 1,
   "id": "39fec662-195a-4064-a83e-e5695d2c84a9",
   "metadata": {},
   "outputs": [],
   "source": [
    "import pandas as pd\n",
    "import numpy as np\n",
    "\n",
    "import matplotlib.pyplot as plt\n",
    "import seaborn as sns\n",
    "\n",
    "from adam_wrangle import train_val_test\n",
    "from scipy import stats\n",
    "from sklearn.metrics import mean_squared_error, r2_score, explained_variance_score\n",
    "from sklearn.linear_model import LinearRegression\n",
    "from math import sqrt"
   ]
  },
  {
   "cell_type": "markdown",
   "id": "47d93d99-cbe7-4b81-8aa2-4db4f7dd27a6",
   "metadata": {},
   "source": [
    "# Exercises\n",
    "\n",
    "## Do you work for this exercise in either a jupyter notebook named evaluate within your regression-exercises repository. By the end of this exercise you will also create a python script named evaluate, so the overall deliverables for this exercise are the python script and jupyter notebook both with the name evaluate within your regression-exercises repo."
   ]
  },
  {
   "cell_type": "markdown",
   "id": "979a7b6f-7305-4ab4-9197-e8cbab56e0b5",
   "metadata": {},
   "source": [
    "Do you work for this exercise in either a jupyter notebook named evaluate within your regression-exercises repository. By the end of this exercise you will also create a python script named evaluate, so the overall deliverables for this exercise are the python script and jupyter notebook both with the name evaluate within your regression-exercises repo.\n",
    "\n",
    "Load your zillow dataset.\n",
    "\n",
    "Fit a linear regression model (ordinary least squares) and compute yhat, predictions of taxvaluedollarcnt using only calculatedfinishedsqft.\n",
    "\n",
    "Here is some sample code to get you started:\n",
    "\n",
    "\n",
    "from sklearn.linear_model import LinearRegression\n",
    "\n",
    "# assuming X and y are already defined\n",
    "model = LinearRegression().fit(X, y)\n",
    "predictions = model.predict(X)\n",
    "Modify and add to the code above as necessary for it to work with the zillow dataset.\n",
    "\n",
    "Plot the residuals for the linear regression model that you made.\n",
    "\n",
    "Calculate the sum of squared errors, explained sum of squares, total sum of squares, mean squared error, and root mean squared error for your model.\n",
    "\n",
    "Calculate the sum of squared errors, mean squared error, and root mean squared error for the baseline model (i.e. a model that always predicts the average taxvaluedollarcnt amount).\n",
    "\n",
    "Write python code that compares the sum of squared errors for your model against the sum of squared errors for the baseline model and outputs whether or not your model performs better than the baseline model.\n",
    "\n",
    "What is the amount of variance explained in your model?\n",
    "\n",
    "Is your model better than the baseline model?\n",
    "\n",
    "Create a file named evaluate.py that contains the following functions.\n",
    "\n",
    "plot_residuals(y, yhat): creates a residual plot\n",
    "regression_errors(y, yhat): returns the following values:\n",
    "sum of squared errors (SSE)\n",
    "explained sum of squares (ESS)\n",
    "total sum of squares (TSS)\n",
    "mean squared error (MSE)\n",
    "root mean squared error (RMSE)\n",
    "baseline_mean_errors(y): computes the SSE, MSE, and RMSE for the baseline model\n",
    "better_than_baseline(y, yhat): returns true if your model performs better than the baseline, otherwise false\n",
    "Bonus Exercises\n",
    "Load the tips dataset from either pydataset or seaborn. Fit a linear regression model (ordinary least squares) and compute yhat, predictions of tip using total_bill.\n",
    "\n",
    "Load the mpg dataset and fit a model that predicts highway mileage based on engine displacement. Take a look at all the regression evaluation metrics, and determine whether this model is better than the baseline model. Use the functions from your evaluate.py to help accomplish this."
   ]
  }
 ],
 "metadata": {
  "kernelspec": {
   "display_name": "Python 3 (ipykernel)",
   "language": "python",
   "name": "python3"
  },
  "language_info": {
   "codemirror_mode": {
    "name": "ipython",
    "version": 3
   },
   "file_extension": ".py",
   "mimetype": "text/x-python",
   "name": "python",
   "nbconvert_exporter": "python",
   "pygments_lexer": "ipython3",
   "version": "3.10.9"
  }
 },
 "nbformat": 4,
 "nbformat_minor": 5
}
