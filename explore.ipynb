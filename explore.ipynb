{
 "cells": [
  {
   "cell_type": "code",
   "execution_count": 1,
   "id": "1b9e7c16-86bb-401d-8a10-4e5d00ae47a5",
   "metadata": {},
   "outputs": [],
   "source": [
    "import pandas as pd\n",
    "import numpy as np\n",
    "import seaborn as sns\n",
    "import matplotlib.pyplot as plt\n",
    "\n",
    "from scipy import stats\n",
    "\n",
    "# custom imports\n",
    "import wrangle\n",
    "import prepare"
   ]
  },
  {
   "cell_type": "markdown",
   "id": "17589791-03e0-454a-9d9c-1a30cd90f7a8",
   "metadata": {},
   "source": [
    "# Exercises\n",
    "\n",
    "- Our Zillow scenario continues:"
   ]
  },
  {
   "cell_type": "markdown",
   "id": "c6a608ae-9b66-4667-b5bc-d78a45a584eb",
   "metadata": {},
   "source": [
    "<div class=\"alert alert-success\" role=\"alert\">\n",
    "\n",
    "### As a Codeup data science graduate, you want to show off your skills to the Zillow data science team in hopes of getting an interview for a position you saw pop up on LinkedIn. You thought it might look impressive to build an end-to-end project in which you use some of their Kaggle data to predict property values using some of their available features; who knows, you might even do some feature engineering to blow them away. Your goal is to predict the values of single unit properties using the observations from 2017.\n",
    "</div>"
   ]
  },
  {
   "cell_type": "markdown",
   "id": "6c3f736f-d0c1-4219-aab1-d9f3ebf761a3",
   "metadata": {},
   "source": [
    "- In these exercises, you will run through the stages of exploration as you continue to work toward the above goal."
   ]
  },
  {
   "cell_type": "markdown",
   "id": "96b862a8-64bd-4ee6-8f27-abb9ed22afc3",
   "metadata": {},
   "source": [
    "## 1. As with encoded vs. unencoded data, we recommend exploring un-scaled data in your EDA process."
   ]
  },
  {
   "cell_type": "code",
   "execution_count": 2,
   "id": "5e52bc71-5cd1-4986-8740-0ee1e560685a",
   "metadata": {},
   "outputs": [
    {
     "data": {
      "text/html": [
       "<div>\n",
       "<style scoped>\n",
       "    .dataframe tbody tr th:only-of-type {\n",
       "        vertical-align: middle;\n",
       "    }\n",
       "\n",
       "    .dataframe tbody tr th {\n",
       "        vertical-align: top;\n",
       "    }\n",
       "\n",
       "    .dataframe thead th {\n",
       "        text-align: right;\n",
       "    }\n",
       "</style>\n",
       "<table border=\"1\" class=\"dataframe\">\n",
       "  <thead>\n",
       "    <tr style=\"text-align: right;\">\n",
       "      <th></th>\n",
       "      <th>bedrooms</th>\n",
       "      <th>bathrooms</th>\n",
       "      <th>area</th>\n",
       "      <th>tax_value</th>\n",
       "      <th>year_built</th>\n",
       "      <th>tax_amount</th>\n",
       "      <th>fips</th>\n",
       "    </tr>\n",
       "  </thead>\n",
       "  <tbody>\n",
       "    <tr>\n",
       "      <th>0</th>\n",
       "      <td>4</td>\n",
       "      <td>2.0</td>\n",
       "      <td>3633</td>\n",
       "      <td>296425</td>\n",
       "      <td>2005</td>\n",
       "      <td>6941.39</td>\n",
       "      <td>6037</td>\n",
       "    </tr>\n",
       "    <tr>\n",
       "      <th>1</th>\n",
       "      <td>3</td>\n",
       "      <td>4.0</td>\n",
       "      <td>1620</td>\n",
       "      <td>847770</td>\n",
       "      <td>2011</td>\n",
       "      <td>10244.94</td>\n",
       "      <td>6037</td>\n",
       "    </tr>\n",
       "    <tr>\n",
       "      <th>2</th>\n",
       "      <td>3</td>\n",
       "      <td>2.0</td>\n",
       "      <td>2077</td>\n",
       "      <td>646760</td>\n",
       "      <td>1926</td>\n",
       "      <td>7924.68</td>\n",
       "      <td>6037</td>\n",
       "    </tr>\n",
       "    <tr>\n",
       "      <th>3</th>\n",
       "      <td>0</td>\n",
       "      <td>0.0</td>\n",
       "      <td>1200</td>\n",
       "      <td>5328</td>\n",
       "      <td>1972</td>\n",
       "      <td>91.60</td>\n",
       "      <td>6037</td>\n",
       "    </tr>\n",
       "    <tr>\n",
       "      <th>4</th>\n",
       "      <td>0</td>\n",
       "      <td>0.0</td>\n",
       "      <td>171</td>\n",
       "      <td>6920</td>\n",
       "      <td>1973</td>\n",
       "      <td>255.17</td>\n",
       "      <td>6037</td>\n",
       "    </tr>\n",
       "  </tbody>\n",
       "</table>\n",
       "</div>"
      ],
      "text/plain": [
       "   bedrooms  bathrooms  area  tax_value  year_built  tax_amount  fips\n",
       "0         4        2.0  3633     296425        2005     6941.39  6037\n",
       "1         3        4.0  1620     847770        2011    10244.94  6037\n",
       "2         3        2.0  2077     646760        1926     7924.68  6037\n",
       "3         0        0.0  1200       5328        1972       91.60  6037\n",
       "4         0        0.0   171       6920        1973      255.17  6037"
      ]
     },
     "execution_count": 2,
     "metadata": {},
     "output_type": "execute_result"
    }
   ],
   "source": [
    "df = wrangle.wrangle_zillow()\n",
    "df.head()"
   ]
  },
  {
   "cell_type": "code",
   "execution_count": 3,
   "id": "045fd40a-6272-4436-af53-8e4b62704ad0",
   "metadata": {},
   "outputs": [
    {
     "data": {
      "text/plain": [
       "((1498164, 7), (321035, 7), (321036, 7))"
      ]
     },
     "execution_count": 3,
     "metadata": {},
     "output_type": "execute_result"
    }
   ],
   "source": [
    "train, val, test = prepare.train_val_test(df)\n",
    "train.shape, val.shape, test.shape"
   ]
  },
  {
   "cell_type": "code",
   "execution_count": 4,
   "id": "6888ffe8-eab4-4159-b361-deac709e3f77",
   "metadata": {},
   "outputs": [
    {
     "name": "stdout",
     "output_type": "stream",
     "text": [
      "<class 'pandas.core.frame.DataFrame'>\n",
      "Int64Index: 1498164 entries, 1001601 to 1692743\n",
      "Data columns (total 7 columns):\n",
      " #   Column      Non-Null Count    Dtype  \n",
      "---  ------      --------------    -----  \n",
      " 0   bedrooms    1498164 non-null  int64  \n",
      " 1   bathrooms   1498164 non-null  float64\n",
      " 2   area        1498164 non-null  int64  \n",
      " 3   tax_value   1498164 non-null  int64  \n",
      " 4   year_built  1498164 non-null  int64  \n",
      " 5   tax_amount  1498164 non-null  float64\n",
      " 6   fips        1498164 non-null  int64  \n",
      "dtypes: float64(2), int64(5)\n",
      "memory usage: 91.4 MB\n"
     ]
    }
   ],
   "source": [
    "train.info()"
   ]
  },
  {
   "cell_type": "markdown",
   "id": "435b994b-d451-479d-8d53-aa81de7a7436",
   "metadata": {},
   "source": [
    "## 2. Make sure to perform a train, validate, test split before and use only your train dataset to explore the relationships between independent variables with other independent variables or independent variables with your target variable."
   ]
  },
  {
   "cell_type": "code",
   "execution_count": null,
   "id": "2421a7ab-57dd-48aa-a503-ac13f2ff3f03",
   "metadata": {},
   "outputs": [
    {
     "data": {
      "image/png": "[encoded data removed]",
      "text/plain": [
       "<Figure size 640x480 with 1 Axes>"
      ]
     },
     "metadata": {},
     "output_type": "display_data"
    },
    {
     "data": {
      "image/png": "[encoded data removed]",
      "text/plain": [
       "<Figure size 640x480 with 1 Axes>"
      ]
     },
     "metadata": {},
     "output_type": "display_data"
    }
   ],
   "source": [
    "for col in train.columns[train.dtypes != 'object']:\n",
    "\n",
    "    plt.figure()\n",
    "    sns.histplot(data = train, x = col)\n",
    "    plt.title(f'Distribution of {col}')\n",
    "    plt.show()"
   ]
  },
  {
   "cell_type": "code",
   "execution_count": null,
   "id": "8a35c3a6-d978-4513-888a-05ef75dbc32f",
   "metadata": {},
   "outputs": [],
   "source": [
    "for col in train.columns[train.dtypes == 'object']:\n",
    "\n",
    "    plt.figure()\n",
    "    sns.countplot(data = train, x = col)\n",
    "    plt.title(f'Count of {col}')\n",
    "    plt.show()"
   ]
  },
  {
   "cell_type": "markdown",
   "id": "bdb8ad7a-6eda-4b1b-9c92-6fa41500a2bc",
   "metadata": {},
   "source": [
    "## 3. Write a function named plot_variable_pairs that accepts a dataframe as input and plots all of the pairwise relationships along with the regression line for each pair."
   ]
  },
  {
   "cell_type": "code",
   "execution_count": null,
   "id": "a50b07ee-8782-45a3-9e53-b82ad99a7e60",
   "metadata": {},
   "outputs": [],
   "source": [
    "train.head()"
   ]
  },
  {
   "cell_type": "code",
   "execution_count": null,
   "id": "3a5f8f67-d76d-4a51-9d71-7c7e6b2f4974",
   "metadata": {},
   "outputs": [],
   "source": [
    "train = train.sample(100)"
   ]
  },
  {
   "cell_type": "code",
   "execution_count": null,
   "id": "43787bc2-1b41-4b1d-b558-7df40a6f00b2",
   "metadata": {},
   "outputs": [],
   "source": [
    "def plot_variable_pairs(df):\n",
    "  \"\"\"\n",
    "  This function plots all of the pairwise relationships along with the regression line for each pair.\n",
    "\n",
    "  Args:\n",
    "    df: The dataframe containing the data.\n",
    "\n",
    "  Returns:\n",
    "    None.\n",
    "  \"\"\"\n",
    "\n",
    "  for i in range(len(df.columns)):\n",
    "    for j in range(i + 1, len(df.columns)):\n",
    "      plt.figure()\n",
    "      plt.scatter(df[df.columns[i]], df[df.columns[j]])\n",
    "      plt.bar(df[df.columns[i]], df[df.columns[j]].mean(), color='green')\n",
    "      plt.title('Scatter plot of {} vs {}'.format(df.columns[i], df.columns[j]))\n",
    "      plt.show()"
   ]
  },
  {
   "cell_type": "markdown",
   "id": "a293fde7-7ae6-410e-a461-9109120c2121",
   "metadata": {},
   "source": [
    "## 4. Write a function named plot_categorical_and_continuous_vars that accepts your dataframe and the name of the columns that hold the continuous and categorical features and outputs 3 different plots for visualizing a categorical variable and a continuous variable."
   ]
  },
  {
   "cell_type": "code",
   "execution_count": null,
   "id": "ae922a48-a80b-4a4e-a39b-7b3f966ffeeb",
   "metadata": {},
   "outputs": [],
   "source": [
    "def plot_categorical_and_continuous_vars(df, continuous_var, categorical_var):\n",
    "    \"\"\"\n",
    "    This function outputs three different plots for visualizing a categorical variable and a continuous variable.\n",
    "\n",
    "    Args:\n",
    "        df (pd.DataFrame): The dataframe containing the data.\n",
    "        continuous_var (str): The name of the column that holds the continuous feature.\n",
    "        categorical_var (str): The name of the column that holds the categorical feature.\n",
    "\n",
    "    Returns:\n",
    "        None.\n",
    "    \"\"\"\n",
    "\n",
    "    # Create subplots with 1 row and 3 columns\n",
    "    fig, axes = plt.subplots(1, 3, figsize=(12, 4))\n",
    "\n",
    "    # Box plot of the continuous variable for each category of the categorical variable\n",
    "    sns.boxplot(x=categorical_var, y=continuous_var, data=df, ax=axes[0])\n",
    "    axes[0].set_title('Box plot of {} for each category of {}'.format(continuous_var, categorical_var))\n",
    "\n",
    "    # Violin plot of the continuous variable for each category of the categorical variable\n",
    "    sns.violinplot(x=categorical_var, y=continuous_var, data=df, ax=axes[1])\n",
    "    axes[1].set_title('Violin plot of {} for each category of {}'.format(continuous_var, categorical_var))\n",
    "\n",
    "    # Histogram of the continuous variable for each category of the categorical variable\n",
    "    for cat in df[categorical_var].unique():\n",
    "        sns.histplot(df[df[categorical_var] == cat][continuous_var], ax=axes[2], label=cat, kde=True)\n",
    "    axes[2].set_title('Histogram of {} for each category of {}'.format(continuous_var, categorical_var))\n",
    "    axes[2].legend(title=categorical_var)\n",
    "\n",
    "    plt.tight_layout()\n",
    "    plt.show()"
   ]
  },
  {
   "cell_type": "markdown",
   "id": "547e0e52-329e-4851-b95e-c8f4242e97bf",
   "metadata": {},
   "source": [
    "**3 Categorical values:**\n",
    "\n",
    "bedrooms, bathrooms, fips"
   ]
  },
  {
   "cell_type": "markdown",
   "id": "592c3485-55dd-4802-9c59-ff27b97d5762",
   "metadata": {},
   "source": [
    "\n",
    "**4 Continuous Values:**\n",
    "\n",
    "area, tax_value, year_built, tax_amount"
   ]
  },
  {
   "cell_type": "markdown",
   "id": "999b1d8f-b6f6-427d-883a-ef70d438a7c7",
   "metadata": {},
   "source": [
    "## 5. Save the functions you have written to create visualizations in your explore.py file. Rewrite your notebook code so that you are using the functions imported from this file."
   ]
  },
  {
   "cell_type": "code",
   "execution_count": null,
   "id": "09c02ff7-f4b4-4d20-b2f4-66ebf067708d",
   "metadata": {},
   "outputs": [],
   "source": [
    "# reimported my libs per step 5\n",
    "import pandas as pd\n",
    "import numpy as np\n",
    "import seaborn as sns\n",
    "import matplotlib.pyplot as plt\n",
    "\n",
    "from scipy import stats\n",
    "\n",
    "# custom imports *added explore.py containing my functions above?\n",
    "import wrangle\n",
    "import prepare\n",
    "import explore"
   ]
  },
  {
   "cell_type": "markdown",
   "id": "dfebc7c2-d9b6-4142-8a2b-903412caeabe",
   "metadata": {},
   "source": [
    "## 6. Use the functions you created above to explore your Zillow train dataset in your explore.ipynb notebook."
   ]
  },
  {
   "cell_type": "code",
   "execution_count": null,
   "id": "52540b50-ba0c-4c57-b938-c593462f7882",
   "metadata": {},
   "outputs": [],
   "source": []
  },
  {
   "cell_type": "code",
   "execution_count": null,
   "id": "83eebfa7-f595-4196-931d-35ec2858f852",
   "metadata": {},
   "outputs": [],
   "source": [
    "explore.plot_variable_pairs(train)"
   ]
  },
  {
   "cell_type": "code",
   "execution_count": null,
   "id": "8079a559-a4fd-4774-889d-6b7202e719ec",
   "metadata": {},
   "outputs": [],
   "source": [
    "plot_categorical_and_continuous_vars(train, 'area', 'bedrooms')"
   ]
  },
  {
   "cell_type": "markdown",
   "id": "242c8864-1a06-4873-a21f-862019d65e8b",
   "metadata": {},
   "source": [
    "## 7. Come up with some initial hypotheses based on your goal of predicting property value."
   ]
  },
  {
   "cell_type": "code",
   "execution_count": null,
   "id": "0d82ecc6-9880-4822-94ad-5f5095721d5e",
   "metadata": {},
   "outputs": [],
   "source": []
  },
  {
   "cell_type": "markdown",
   "id": "95e71a1e-e840-4650-a4af-c1738daf272e",
   "metadata": {},
   "source": [
    "## 8. Visualize all combinations of variables in some way."
   ]
  },
  {
   "cell_type": "code",
   "execution_count": null,
   "id": "2a97b80f-ec38-42d1-8af3-ab071dbffad9",
   "metadata": {},
   "outputs": [],
   "source": []
  },
  {
   "cell_type": "markdown",
   "id": "a6c5bf87-b6e3-44d4-b461-3d40faa934c2",
   "metadata": {},
   "source": [
    "## 9. Run the appropriate statistical tests where needed."
   ]
  },
  {
   "cell_type": "code",
   "execution_count": null,
   "id": "1bc7e067-7934-4f15-8bff-071884d4de7a",
   "metadata": {},
   "outputs": [],
   "source": []
  },
  {
   "cell_type": "markdown",
   "id": "8209b201-802f-4fdf-93b2-731e1e7b7024",
   "metadata": {},
   "source": [
    "## 10. What independent variables are correlated with the dependent variable, home value?"
   ]
  },
  {
   "cell_type": "code",
   "execution_count": null,
   "id": "c991b523-2881-4665-a432-30a2a8b0f96a",
   "metadata": {},
   "outputs": [],
   "source": []
  },
  {
   "cell_type": "markdown",
   "id": "70460d15-7311-4a47-b759-90816c7db370",
   "metadata": {},
   "source": [
    "## 11. Which independent variables are correlated with other independent variables (bedrooms, bathrooms, year built, square feet)?"
   ]
  },
  {
   "cell_type": "code",
   "execution_count": null,
   "id": "86ad8fe4-a343-4801-a807-f417ceb713cf",
   "metadata": {},
   "outputs": [],
   "source": []
  },
  {
   "cell_type": "markdown",
   "id": "2e74e653-5684-4036-8360-c66f9e861501",
   "metadata": {},
   "source": [
    "## 12. Make sure to document your takeaways from visualizations and statistical tests as well as the decisions you make throughout your process."
   ]
  },
  {
   "cell_type": "code",
   "execution_count": null,
   "id": "fce8fa00-4fc5-4bf6-af41-2b59203fa3ad",
   "metadata": {},
   "outputs": [],
   "source": []
  },
  {
   "cell_type": "markdown",
   "id": "99784bde-6301-4684-9216-e22bb7965a91",
   "metadata": {},
   "source": [
    "## 13. Explore your dataset with any other visualizations you think will be helpful."
   ]
  },
  {
   "cell_type": "code",
   "execution_count": null,
   "id": "fb68e86d-c194-4c7e-885e-5a098d65bd24",
   "metadata": {},
   "outputs": [],
   "source": []
  },
  {
   "cell_type": "markdown",
   "id": "295971d5-fc66-4bd1-925f-3af5e612a882",
   "metadata": {},
   "source": [
    "# Bonus Exercise"
   ]
  },
  {
   "cell_type": "markdown",
   "id": "90596089-900d-4085-9fe1-4cb91a2e21d4",
   "metadata": {},
   "source": [
    "## 14. In a seperate notebook called explore_mall, use the functions you have developed in this exercise with the mall_customers dataset in the Codeup database server. You will need to write a sql query to acquire your data. Make spending_score your target variable."
   ]
  },
  {
   "cell_type": "code",
   "execution_count": null,
   "id": "77512f77-8924-49e5-9f5d-8a097e408066",
   "metadata": {},
   "outputs": [],
   "source": []
  },
  {
   "cell_type": "code",
   "execution_count": null,
   "id": "fce48594-0c93-4cbb-9b84-4c1d66e27cec",
   "metadata": {},
   "outputs": [],
   "source": []
  },
  {
   "cell_type": "code",
   "execution_count": null,
   "id": "ea104769-9f99-4b2b-8596-ed54122df49c",
   "metadata": {},
   "outputs": [],
   "source": []
  }
 ],
 "metadata": {
  "kernelspec": {
   "display_name": "Python 3 (ipykernel)",
   "language": "python",
   "name": "python3"
  },
  "language_info": {
   "codemirror_mode": {
    "name": "ipython",
    "version": 3
   },
   "file_extension": ".py",
   "mimetype": "text/x-python",
   "name": "python",
   "nbconvert_exporter": "python",
   "pygments_lexer": "ipython3",
   "version": "3.10.9"
  }
 },
 "nbformat": 4,
 "nbformat_minor": 5
}
