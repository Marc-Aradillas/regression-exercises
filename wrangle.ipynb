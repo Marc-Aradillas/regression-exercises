{
 "cells": [
  {
   "cell_type": "markdown",
   "id": "5ed95090-07da-4aa0-9b49-25e2f5e9ed87",
   "metadata": {
    "jp-MarkdownHeadingCollapsed": true
   },
   "source": [
    "# Acquisition and Prep Excercises"
   ]
  },
  {
   "cell_type": "markdown",
   "id": "8a8ec021-14f2-4bdf-8c2e-f9b4b0cea7d4",
   "metadata": {},
   "source": [
    "## Exercises I\n",
    "\n",
    "- Let's review the steps we take at the beginning of each new module.\n",
    "\n",
    "1. Create a new repository named regression-exercises in your GitHub; all of your Regression work will be housed here.\n",
    "\n",
    "# ✔️\n",
    "\n",
    "2. Clone this repository within your local codeup-data-science directory.\n",
    "\n",
    "# ✔️\n",
    "\n",
    "3. Create a .gitignore and make sure your list of 'files to ignore' includes your env.py file.\n",
    "\n",
    "# ✔️\n",
    "\n",
    "4. Create a README.md file that outlines the contents and purpose of your repository.\n",
    "\n",
    "# ✔️\n",
    "\n",
    "5. Add, commit, and push these two files.\n",
    "\n",
    "# ✔️\n",
    "\n",
    "6. Now you can add your env.py file to this repository to access the Codeup database server.\n",
    "\n",
    "# ✔️\n",
    "\n",
    "7. For these exercises, you will create wrangle.ipynb and wrangle.py files to hold necessary functions.\n",
    "\n",
    "# ✔️\n",
    "\n",
    "8. As always, add, commit, and push your work often.\n",
    "\n",
    "# ✔️"
   ]
  },
  {
   "cell_type": "markdown",
   "id": "190efad5-72c6-4f13-a395-6676e0cdf931",
   "metadata": {},
   "source": [
    "## Exercises II\n",
    "\n",
    "- Let's set up an example scenario as perspective for our regression exercises using the Zillow dataset.\n",
    "\n",
    "### As a Codeup data science graduate, you want to show off your skills to the Zillow data science team in hopes of getting an interview for a position you saw pop up on LinkedIn. You thought it might look impressive to build an end-to-end project in which you use some of their Kaggle data to predict property values using some of their available features; who knows, you might even do some feature engineering to blow them away. Your goal is to predict the values of single unit properties using the obervations from 2017."
   ]
  },
  {
   "cell_type": "markdown",
   "id": "967b605f-37f3-4dc7-b84b-6d661e7132e6",
   "metadata": {},
   "source": [
    "- In these exercises, you will complete the first step toward the above goal: acquire and prepare the necessary Zillow data from the zillow database in the Codeup database server.\n",
    "\n",
    "### 1. Acquire *bedroomcnt*, *bathroomcnt*, *calculatedfinishedsquarefeet*, *taxvaluedollarcnt*, *yearbuilt*, *taxamount*, and *fips* from the *zillow* database for all 'Single Family Residential' properties."
   ]
  },
  {
   "cell_type": "markdown",
   "id": "4b5764d4-7e36-4e5e-bb78-d97649386775",
   "metadata": {},
   "source": [
    "- query used below"
   ]
  },
  {
   "cell_type": "code",
   "execution_count": 1,
   "id": "0de307aa-f2a3-4101-b721-d1f24975376c",
   "metadata": {},
   "outputs": [],
   "source": [
    "# SELECT \n",
    "#     bedroomcnt,\n",
    "#     bathroomcnt,\n",
    "#     calculatedfinishedsquarefeet,\n",
    "#     taxvaluedollarcnt,\n",
    "#     yearbuilt,\n",
    "#     taxamount,\n",
    "#     fips\n",
    "# FROM \n",
    "#     properties\n",
    "# WHERE \n",
    "#     propertylandusetypeid = 261; -- 'Single Family Residential'"
   ]
  },
  {
   "cell_type": "markdown",
   "id": "a6f07f56-26b6-4d3a-843c-a21e64c155cb",
   "metadata": {},
   "source": [
    "### 2. Using your acquired Zillow data, walk through the summarization and cleaning steps in your *wrangle.ipynb* file like we did above. You may handle the missing values however you feel is appropriate and meaningful; remember to document your process and decisions using markdown and code commenting where helpful."
   ]
  },
  {
   "cell_type": "code",
   "execution_count": 2,
   "id": "30626590-c724-485c-81c7-07be9ca95575",
   "metadata": {},
   "outputs": [],
   "source": [
    "# imported libs"
   ]
  },
  {
   "cell_type": "code",
   "execution_count": 3,
   "id": "27da02a2-5525-4c47-a672-f166d5e1c0e0",
   "metadata": {},
   "outputs": [],
   "source": [
    "import numpy as np\n",
    "import pandas as pd\n",
    "import matplotlib.pyplot as plt\n",
    "import seaborn as sns\n",
    "\n",
    "from env import get_connection\n",
    "import os"
   ]
  },
  {
   "cell_type": "code",
   "execution_count": 4,
   "id": "61d60036-9d18-4349-b8af-3b495d59d744",
   "metadata": {},
   "outputs": [],
   "source": [
    "# created query to retrieve data sked for form the question"
   ]
  },
  {
   "cell_type": "code",
   "execution_count": 5,
   "id": "7518019d-669c-4f29-80c6-c02cb6a3fa84",
   "metadata": {},
   "outputs": [],
   "source": [
    "query = '''\n",
    "        SELECT \n",
    "            bedroomcnt,\n",
    "            bathroomcnt,\n",
    "            calculatedfinishedsquarefeet,\n",
    "            taxvaluedollarcnt,\n",
    "            yearbuilt,\n",
    "            taxamount,\n",
    "            fips\n",
    "        FROM \n",
    "            properties_2017\n",
    "        WHERE \n",
    "            propertylandusetypeid = 261; -- 'Single Family Residential'\n",
    "        '''"
   ]
  },
  {
   "cell_type": "code",
   "execution_count": 6,
   "id": "4d6f648f-0114-4b62-b1fc-3d17ff804c76",
   "metadata": {},
   "outputs": [],
   "source": [
    "# using the instructor method of cleaning data;\n",
    "\n",
    "# Going through data and identifying what correct datatypes should represent each \n",
    "# feature and scan each observation for any null or other values that make no sense.\n"
   ]
  },
  {
   "cell_type": "code",
   "execution_count": 7,
   "id": "d2416ab2-c233-4e19-93ee-c820ae5efe01",
   "metadata": {},
   "outputs": [],
   "source": [
    "url = get_connection('zillow')"
   ]
  },
  {
   "cell_type": "code",
   "execution_count": 8,
   "id": "3f494c24-55d1-43c4-9f3f-6f7c9257ea94",
   "metadata": {},
   "outputs": [],
   "source": [
    "df = pd.read_sql(query, url)"
   ]
  },
  {
   "cell_type": "code",
   "execution_count": 9,
   "id": "6d95bfbe-ac6f-4970-8f5d-ceda2ecbced4",
   "metadata": {},
   "outputs": [],
   "source": [
    "# Looking over the first 5 observations of the data; i have identified discrepancies"
   ]
  },
  {
   "cell_type": "code",
   "execution_count": 10,
   "id": "bd72c155-09f0-4a44-a44c-367eed5a4672",
   "metadata": {},
   "outputs": [
    {
     "data": {
      "text/html": [
       "<div>\n",
       "<style scoped>\n",
       "    .dataframe tbody tr th:only-of-type {\n",
       "        vertical-align: middle;\n",
       "    }\n",
       "\n",
       "    .dataframe tbody tr th {\n",
       "        vertical-align: top;\n",
       "    }\n",
       "\n",
       "    .dataframe thead th {\n",
       "        text-align: right;\n",
       "    }\n",
       "</style>\n",
       "<table border=\"1\" class=\"dataframe\">\n",
       "  <thead>\n",
       "    <tr style=\"text-align: right;\">\n",
       "      <th></th>\n",
       "      <th>bedroomcnt</th>\n",
       "      <th>bathroomcnt</th>\n",
       "      <th>calculatedfinishedsquarefeet</th>\n",
       "      <th>taxvaluedollarcnt</th>\n",
       "      <th>yearbuilt</th>\n",
       "      <th>taxamount</th>\n",
       "      <th>fips</th>\n",
       "    </tr>\n",
       "  </thead>\n",
       "  <tbody>\n",
       "    <tr>\n",
       "      <th>0</th>\n",
       "      <td>0.0</td>\n",
       "      <td>0.0</td>\n",
       "      <td>NaN</td>\n",
       "      <td>27516.0</td>\n",
       "      <td>NaN</td>\n",
       "      <td>NaN</td>\n",
       "      <td>6037.0</td>\n",
       "    </tr>\n",
       "    <tr>\n",
       "      <th>1</th>\n",
       "      <td>0.0</td>\n",
       "      <td>0.0</td>\n",
       "      <td>NaN</td>\n",
       "      <td>10.0</td>\n",
       "      <td>NaN</td>\n",
       "      <td>NaN</td>\n",
       "      <td>6037.0</td>\n",
       "    </tr>\n",
       "    <tr>\n",
       "      <th>2</th>\n",
       "      <td>0.0</td>\n",
       "      <td>0.0</td>\n",
       "      <td>NaN</td>\n",
       "      <td>10.0</td>\n",
       "      <td>NaN</td>\n",
       "      <td>NaN</td>\n",
       "      <td>6037.0</td>\n",
       "    </tr>\n",
       "    <tr>\n",
       "      <th>3</th>\n",
       "      <td>0.0</td>\n",
       "      <td>0.0</td>\n",
       "      <td>NaN</td>\n",
       "      <td>2108.0</td>\n",
       "      <td>NaN</td>\n",
       "      <td>174.21</td>\n",
       "      <td>6037.0</td>\n",
       "    </tr>\n",
       "    <tr>\n",
       "      <th>4</th>\n",
       "      <td>4.0</td>\n",
       "      <td>2.0</td>\n",
       "      <td>3633.0</td>\n",
       "      <td>296425.0</td>\n",
       "      <td>2005.0</td>\n",
       "      <td>6941.39</td>\n",
       "      <td>6037.0</td>\n",
       "    </tr>\n",
       "  </tbody>\n",
       "</table>\n",
       "</div>"
      ],
      "text/plain": [
       "   bedroomcnt  bathroomcnt  calculatedfinishedsquarefeet  taxvaluedollarcnt  \\\n",
       "0         0.0          0.0                           NaN            27516.0   \n",
       "1         0.0          0.0                           NaN               10.0   \n",
       "2         0.0          0.0                           NaN               10.0   \n",
       "3         0.0          0.0                           NaN             2108.0   \n",
       "4         4.0          2.0                        3633.0           296425.0   \n",
       "\n",
       "   yearbuilt  taxamount    fips  \n",
       "0        NaN        NaN  6037.0  \n",
       "1        NaN        NaN  6037.0  \n",
       "2        NaN        NaN  6037.0  \n",
       "3        NaN     174.21  6037.0  \n",
       "4     2005.0    6941.39  6037.0  "
      ]
     },
     "execution_count": 10,
     "metadata": {},
     "output_type": "execute_result"
    }
   ],
   "source": [
    "df.head()"
   ]
  },
  {
   "cell_type": "code",
   "execution_count": 11,
   "id": "4b9fcac6-3cd6-48e7-b2f9-ddff8f546d93",
   "metadata": {},
   "outputs": [],
   "source": [
    "# Looking at the data types and any helpful information to aid in cleaning"
   ]
  },
  {
   "cell_type": "code",
   "execution_count": 12,
   "id": "aad57001-55e8-47b3-8184-8a56ac2ca9a1",
   "metadata": {},
   "outputs": [
    {
     "name": "stdout",
     "output_type": "stream",
     "text": [
      "<class 'pandas.core.frame.DataFrame'>\n",
      "RangeIndex: 2152863 entries, 0 to 2152862\n",
      "Data columns (total 7 columns):\n",
      " #   Column                        Dtype  \n",
      "---  ------                        -----  \n",
      " 0   bedroomcnt                    float64\n",
      " 1   bathroomcnt                   float64\n",
      " 2   calculatedfinishedsquarefeet  float64\n",
      " 3   taxvaluedollarcnt             float64\n",
      " 4   yearbuilt                     float64\n",
      " 5   taxamount                     float64\n",
      " 6   fips                          float64\n",
      "dtypes: float64(7)\n",
      "memory usage: 115.0 MB\n"
     ]
    }
   ],
   "source": [
    "df.info()"
   ]
  },
  {
   "cell_type": "code",
   "execution_count": 13,
   "id": "0f4c611c-c161-4930-8e90-30c40af97bf4",
   "metadata": {},
   "outputs": [],
   "source": [
    "# quick look at stat summary"
   ]
  },
  {
   "cell_type": "code",
   "execution_count": 14,
   "id": "0053ac85-d6b1-4955-a3df-f8676aace819",
   "metadata": {},
   "outputs": [
    {
     "data": {
      "text/html": [
       "<div>\n",
       "<style scoped>\n",
       "    .dataframe tbody tr th:only-of-type {\n",
       "        vertical-align: middle;\n",
       "    }\n",
       "\n",
       "    .dataframe tbody tr th {\n",
       "        vertical-align: top;\n",
       "    }\n",
       "\n",
       "    .dataframe thead th {\n",
       "        text-align: right;\n",
       "    }\n",
       "</style>\n",
       "<table border=\"1\" class=\"dataframe\">\n",
       "  <thead>\n",
       "    <tr style=\"text-align: right;\">\n",
       "      <th></th>\n",
       "      <th>bedroomcnt</th>\n",
       "      <th>bathroomcnt</th>\n",
       "      <th>calculatedfinishedsquarefeet</th>\n",
       "      <th>taxvaluedollarcnt</th>\n",
       "      <th>yearbuilt</th>\n",
       "      <th>taxamount</th>\n",
       "      <th>fips</th>\n",
       "    </tr>\n",
       "  </thead>\n",
       "  <tbody>\n",
       "    <tr>\n",
       "      <th>count</th>\n",
       "      <td>2.152852e+06</td>\n",
       "      <td>2.152852e+06</td>\n",
       "      <td>2.144379e+06</td>\n",
       "      <td>2.152370e+06</td>\n",
       "      <td>2.143526e+06</td>\n",
       "      <td>2.148421e+06</td>\n",
       "      <td>2.152863e+06</td>\n",
       "    </tr>\n",
       "    <tr>\n",
       "      <th>mean</th>\n",
       "      <td>3.287196e+00</td>\n",
       "      <td>2.230688e+00</td>\n",
       "      <td>1.862855e+03</td>\n",
       "      <td>4.618962e+05</td>\n",
       "      <td>1.960950e+03</td>\n",
       "      <td>5.634866e+03</td>\n",
       "      <td>6.048377e+03</td>\n",
       "    </tr>\n",
       "    <tr>\n",
       "      <th>std</th>\n",
       "      <td>9.547544e-01</td>\n",
       "      <td>9.992796e-01</td>\n",
       "      <td>1.222125e+03</td>\n",
       "      <td>6.996760e+05</td>\n",
       "      <td>2.216220e+01</td>\n",
       "      <td>8.178910e+03</td>\n",
       "      <td>2.043329e+01</td>\n",
       "    </tr>\n",
       "    <tr>\n",
       "      <th>min</th>\n",
       "      <td>0.000000e+00</td>\n",
       "      <td>0.000000e+00</td>\n",
       "      <td>1.000000e+00</td>\n",
       "      <td>1.000000e+00</td>\n",
       "      <td>1.801000e+03</td>\n",
       "      <td>1.850000e+00</td>\n",
       "      <td>6.037000e+03</td>\n",
       "    </tr>\n",
       "    <tr>\n",
       "      <th>25%</th>\n",
       "      <td>3.000000e+00</td>\n",
       "      <td>2.000000e+00</td>\n",
       "      <td>1.257000e+03</td>\n",
       "      <td>1.881702e+05</td>\n",
       "      <td>1.949000e+03</td>\n",
       "      <td>2.534980e+03</td>\n",
       "      <td>6.037000e+03</td>\n",
       "    </tr>\n",
       "    <tr>\n",
       "      <th>50%</th>\n",
       "      <td>3.000000e+00</td>\n",
       "      <td>2.000000e+00</td>\n",
       "      <td>1.623000e+03</td>\n",
       "      <td>3.276710e+05</td>\n",
       "      <td>1.958000e+03</td>\n",
       "      <td>4.108950e+03</td>\n",
       "      <td>6.037000e+03</td>\n",
       "    </tr>\n",
       "    <tr>\n",
       "      <th>75%</th>\n",
       "      <td>4.000000e+00</td>\n",
       "      <td>3.000000e+00</td>\n",
       "      <td>2.208000e+03</td>\n",
       "      <td>5.345270e+05</td>\n",
       "      <td>1.976000e+03</td>\n",
       "      <td>6.414320e+03</td>\n",
       "      <td>6.059000e+03</td>\n",
       "    </tr>\n",
       "    <tr>\n",
       "      <th>max</th>\n",
       "      <td>2.500000e+01</td>\n",
       "      <td>3.200000e+01</td>\n",
       "      <td>9.525760e+05</td>\n",
       "      <td>9.842891e+07</td>\n",
       "      <td>2.016000e+03</td>\n",
       "      <td>1.337756e+06</td>\n",
       "      <td>6.111000e+03</td>\n",
       "    </tr>\n",
       "  </tbody>\n",
       "</table>\n",
       "</div>"
      ],
      "text/plain": [
       "         bedroomcnt   bathroomcnt  calculatedfinishedsquarefeet  \\\n",
       "count  2.152852e+06  2.152852e+06                  2.144379e+06   \n",
       "mean   3.287196e+00  2.230688e+00                  1.862855e+03   \n",
       "std    9.547544e-01  9.992796e-01                  1.222125e+03   \n",
       "min    0.000000e+00  0.000000e+00                  1.000000e+00   \n",
       "25%    3.000000e+00  2.000000e+00                  1.257000e+03   \n",
       "50%    3.000000e+00  2.000000e+00                  1.623000e+03   \n",
       "75%    4.000000e+00  3.000000e+00                  2.208000e+03   \n",
       "max    2.500000e+01  3.200000e+01                  9.525760e+05   \n",
       "\n",
       "       taxvaluedollarcnt     yearbuilt     taxamount          fips  \n",
       "count       2.152370e+06  2.143526e+06  2.148421e+06  2.152863e+06  \n",
       "mean        4.618962e+05  1.960950e+03  5.634866e+03  6.048377e+03  \n",
       "std         6.996760e+05  2.216220e+01  8.178910e+03  2.043329e+01  \n",
       "min         1.000000e+00  1.801000e+03  1.850000e+00  6.037000e+03  \n",
       "25%         1.881702e+05  1.949000e+03  2.534980e+03  6.037000e+03  \n",
       "50%         3.276710e+05  1.958000e+03  4.108950e+03  6.037000e+03  \n",
       "75%         5.345270e+05  1.976000e+03  6.414320e+03  6.059000e+03  \n",
       "max         9.842891e+07  2.016000e+03  1.337756e+06  6.111000e+03  "
      ]
     },
     "execution_count": 14,
     "metadata": {},
     "output_type": "execute_result"
    }
   ],
   "source": [
    "df.describe()"
   ]
  },
  {
   "cell_type": "code",
   "execution_count": 15,
   "id": "2c5d55b8-8563-4344-8cdb-be074283039c",
   "metadata": {},
   "outputs": [],
   "source": [
    "# quick look at the shape of the dataset"
   ]
  },
  {
   "cell_type": "code",
   "execution_count": 16,
   "id": "fb6fdb5a-82a0-48ac-ba94-22814de40bed",
   "metadata": {},
   "outputs": [
    {
     "data": {
      "text/plain": [
       "(2152863, 7)"
      ]
     },
     "execution_count": 16,
     "metadata": {},
     "output_type": "execute_result"
    }
   ],
   "source": [
    "df.shape"
   ]
  },
  {
   "cell_type": "code",
   "execution_count": 17,
   "id": "0ed7eb61-a887-4ec6-b630-5b13823dddf5",
   "metadata": {},
   "outputs": [],
   "source": [
    "# Checking for null vallues"
   ]
  },
  {
   "cell_type": "code",
   "execution_count": 18,
   "id": "44513dd4-6934-40b0-9709-69502cce34db",
   "metadata": {},
   "outputs": [
    {
     "data": {
      "text/plain": [
       "bedroomcnt                        11\n",
       "bathroomcnt                       11\n",
       "calculatedfinishedsquarefeet    8484\n",
       "taxvaluedollarcnt                493\n",
       "yearbuilt                       9337\n",
       "taxamount                       4442\n",
       "fips                               0\n",
       "dtype: int64"
      ]
     },
     "execution_count": 18,
     "metadata": {},
     "output_type": "execute_result"
    }
   ],
   "source": [
    "df.isna().sum()"
   ]
  },
  {
   "cell_type": "code",
   "execution_count": 19,
   "id": "1516eef8-f6d5-407d-93dd-2075876e39ad",
   "metadata": {},
   "outputs": [],
   "source": [
    "# Decided to drop all null values in the dataset"
   ]
  },
  {
   "cell_type": "code",
   "execution_count": 20,
   "id": "dcdca86b-4ea2-4360-a575-09231a68183b",
   "metadata": {},
   "outputs": [],
   "source": [
    "df = df.dropna()"
   ]
  },
  {
   "cell_type": "code",
   "execution_count": 21,
   "id": "cd5020a4-555a-410f-82b2-3d9a44af6aea",
   "metadata": {},
   "outputs": [],
   "source": [
    "# checked to see if there were still any nulls in the data"
   ]
  },
  {
   "cell_type": "code",
   "execution_count": 22,
   "id": "b4a15168-9a96-4269-bca3-94084777c700",
   "metadata": {},
   "outputs": [
    {
     "data": {
      "text/plain": [
       "bedroomcnt                      0\n",
       "bathroomcnt                     0\n",
       "calculatedfinishedsquarefeet    0\n",
       "taxvaluedollarcnt               0\n",
       "yearbuilt                       0\n",
       "taxamount                       0\n",
       "fips                            0\n",
       "dtype: int64"
      ]
     },
     "execution_count": 22,
     "metadata": {},
     "output_type": "execute_result"
    }
   ],
   "source": [
    "df.isna().sum()"
   ]
  },
  {
   "cell_type": "code",
   "execution_count": 23,
   "id": "cd5d4505-b294-4704-a29c-3a0a7ba52f0e",
   "metadata": {},
   "outputs": [],
   "source": [
    "# converted to integer from float point value because fips is a code number fore residential data"
   ]
  },
  {
   "cell_type": "code",
   "execution_count": 24,
   "id": "38048c49-c5d6-4194-810f-9e0a85e03f56",
   "metadata": {},
   "outputs": [
    {
     "data": {
      "text/plain": [
       "4          6037\n",
       "6          6037\n",
       "7          6037\n",
       "11         6037\n",
       "14         6037\n",
       "           ... \n",
       "2152856    6037\n",
       "2152858    6059\n",
       "2152859    6059\n",
       "2152861    6059\n",
       "2152862    6037\n",
       "Name: fips, Length: 2140235, dtype: int64"
      ]
     },
     "execution_count": 24,
     "metadata": {},
     "output_type": "execute_result"
    }
   ],
   "source": [
    "df.fips = df.fips.astype('int')\n",
    "df.fips"
   ]
  },
  {
   "cell_type": "code",
   "execution_count": 25,
   "id": "991a3531-dfb6-4880-9bb0-99af0d9a8f1a",
   "metadata": {},
   "outputs": [],
   "source": [
    "# year should be an int not a float."
   ]
  },
  {
   "cell_type": "code",
   "execution_count": 26,
   "id": "fd6d8de1-3b26-4986-8aa8-6a2996988934",
   "metadata": {},
   "outputs": [
    {
     "data": {
      "text/plain": [
       "4          2005\n",
       "6          2011\n",
       "7          1926\n",
       "11         1972\n",
       "14         1973\n",
       "           ... \n",
       "2152856    2015\n",
       "2152858    2015\n",
       "2152859    2014\n",
       "2152861    2015\n",
       "2152862    2014\n",
       "Name: yearbuilt, Length: 2140235, dtype: int64"
      ]
     },
     "execution_count": 26,
     "metadata": {},
     "output_type": "execute_result"
    }
   ],
   "source": [
    "df.yearbuilt = df.yearbuilt.astype('int')\n",
    "df.yearbuilt"
   ]
  },
  {
   "cell_type": "code",
   "execution_count": 27,
   "id": "d7b8825f-d2a6-4dc0-b2d3-c4d511f640ee",
   "metadata": {},
   "outputs": [],
   "source": [
    "# changed this feature to int since it did not have any fractional decimals in the values."
   ]
  },
  {
   "cell_type": "code",
   "execution_count": 28,
   "id": "f9cddd06-ea7d-4e97-9b35-3579ecd024d1",
   "metadata": {},
   "outputs": [
    {
     "data": {
      "text/plain": [
       "4          296425\n",
       "6          847770\n",
       "7          646760\n",
       "11           5328\n",
       "14           6920\n",
       "            ...  \n",
       "2152856    422400\n",
       "2152858    960756\n",
       "2152859    536061\n",
       "2152861    424353\n",
       "2152862    554009\n",
       "Name: taxvaluedollarcnt, Length: 2140235, dtype: int64"
      ]
     },
     "execution_count": 28,
     "metadata": {},
     "output_type": "execute_result"
    }
   ],
   "source": [
    "df.taxvaluedollarcnt = df.taxvaluedollarcnt.astype('int')\n",
    "df.taxvaluedollarcnt"
   ]
  },
  {
   "cell_type": "code",
   "execution_count": 29,
   "id": "80cfdcd8-4055-43e5-9fc5-b7823acf0ac0",
   "metadata": {},
   "outputs": [],
   "source": [
    "# I also changed square feet feature to an int; no decimal values after the ones place."
   ]
  },
  {
   "cell_type": "code",
   "execution_count": 30,
   "id": "c707d902-eeb3-4f89-93a0-b2639a3a3c43",
   "metadata": {},
   "outputs": [
    {
     "data": {
      "text/plain": [
       "4          3633\n",
       "6          1620\n",
       "7          2077\n",
       "11         1200\n",
       "14          171\n",
       "           ... \n",
       "2152856    4375\n",
       "2152858    2262\n",
       "2152859    3127\n",
       "2152861    1974\n",
       "2152862    2110\n",
       "Name: calculatedfinishedsquarefeet, Length: 2140235, dtype: int64"
      ]
     },
     "execution_count": 30,
     "metadata": {},
     "output_type": "execute_result"
    }
   ],
   "source": [
    "df.calculatedfinishedsquarefeet = df.calculatedfinishedsquarefeet.astype('int')\n",
    "df.calculatedfinishedsquarefeet"
   ]
  },
  {
   "cell_type": "code",
   "execution_count": 31,
   "id": "14e8ecff-5c6d-44c6-8ae3-e3de1570a27b",
   "metadata": {},
   "outputs": [],
   "source": [
    "# checked the first 5 columns and review observation ad feature cleanse. still needs work on the remaining features."
   ]
  },
  {
   "cell_type": "code",
   "execution_count": 32,
   "id": "1f32203e-a4a1-4d99-a15d-51103f9c1a2a",
   "metadata": {},
   "outputs": [
    {
     "data": {
      "text/html": [
       "<div>\n",
       "<style scoped>\n",
       "    .dataframe tbody tr th:only-of-type {\n",
       "        vertical-align: middle;\n",
       "    }\n",
       "\n",
       "    .dataframe tbody tr th {\n",
       "        vertical-align: top;\n",
       "    }\n",
       "\n",
       "    .dataframe thead th {\n",
       "        text-align: right;\n",
       "    }\n",
       "</style>\n",
       "<table border=\"1\" class=\"dataframe\">\n",
       "  <thead>\n",
       "    <tr style=\"text-align: right;\">\n",
       "      <th></th>\n",
       "      <th>bedroomcnt</th>\n",
       "      <th>bathroomcnt</th>\n",
       "      <th>calculatedfinishedsquarefeet</th>\n",
       "      <th>taxvaluedollarcnt</th>\n",
       "      <th>yearbuilt</th>\n",
       "      <th>taxamount</th>\n",
       "      <th>fips</th>\n",
       "    </tr>\n",
       "  </thead>\n",
       "  <tbody>\n",
       "    <tr>\n",
       "      <th>4</th>\n",
       "      <td>4.0</td>\n",
       "      <td>2.0</td>\n",
       "      <td>3633</td>\n",
       "      <td>296425</td>\n",
       "      <td>2005</td>\n",
       "      <td>6941.39</td>\n",
       "      <td>6037</td>\n",
       "    </tr>\n",
       "    <tr>\n",
       "      <th>6</th>\n",
       "      <td>3.0</td>\n",
       "      <td>4.0</td>\n",
       "      <td>1620</td>\n",
       "      <td>847770</td>\n",
       "      <td>2011</td>\n",
       "      <td>10244.94</td>\n",
       "      <td>6037</td>\n",
       "    </tr>\n",
       "    <tr>\n",
       "      <th>7</th>\n",
       "      <td>3.0</td>\n",
       "      <td>2.0</td>\n",
       "      <td>2077</td>\n",
       "      <td>646760</td>\n",
       "      <td>1926</td>\n",
       "      <td>7924.68</td>\n",
       "      <td>6037</td>\n",
       "    </tr>\n",
       "    <tr>\n",
       "      <th>11</th>\n",
       "      <td>0.0</td>\n",
       "      <td>0.0</td>\n",
       "      <td>1200</td>\n",
       "      <td>5328</td>\n",
       "      <td>1972</td>\n",
       "      <td>91.60</td>\n",
       "      <td>6037</td>\n",
       "    </tr>\n",
       "    <tr>\n",
       "      <th>14</th>\n",
       "      <td>0.0</td>\n",
       "      <td>0.0</td>\n",
       "      <td>171</td>\n",
       "      <td>6920</td>\n",
       "      <td>1973</td>\n",
       "      <td>255.17</td>\n",
       "      <td>6037</td>\n",
       "    </tr>\n",
       "  </tbody>\n",
       "</table>\n",
       "</div>"
      ],
      "text/plain": [
       "    bedroomcnt  bathroomcnt  calculatedfinishedsquarefeet  taxvaluedollarcnt  \\\n",
       "4          4.0          2.0                          3633             296425   \n",
       "6          3.0          4.0                          1620             847770   \n",
       "7          3.0          2.0                          2077             646760   \n",
       "11         0.0          0.0                          1200               5328   \n",
       "14         0.0          0.0                           171               6920   \n",
       "\n",
       "    yearbuilt  taxamount  fips  \n",
       "4        2005    6941.39  6037  \n",
       "6        2011   10244.94  6037  \n",
       "7        1926    7924.68  6037  \n",
       "11       1972      91.60  6037  \n",
       "14       1973     255.17  6037  "
      ]
     },
     "execution_count": 32,
     "metadata": {},
     "output_type": "execute_result"
    }
   ],
   "source": [
    "df.head()"
   ]
  },
  {
   "cell_type": "code",
   "execution_count": 33,
   "id": "e70f4240-8091-4f8f-b505-70fb58601a61",
   "metadata": {},
   "outputs": [],
   "source": [
    "# checked for half bathrooms and full plus half bathrooms counts i removed all properties with 0.0 bathrooms\n",
    "# it would not make sense for a single family residential properties with no bathroom."
   ]
  },
  {
   "cell_type": "code",
   "execution_count": 34,
   "id": "ffb44ec8-cbfb-4436-965c-002c3583f2f3",
   "metadata": {},
   "outputs": [
    {
     "data": {
      "text/html": [
       "<div>\n",
       "<style scoped>\n",
       "    .dataframe tbody tr th:only-of-type {\n",
       "        vertical-align: middle;\n",
       "    }\n",
       "\n",
       "    .dataframe tbody tr th {\n",
       "        vertical-align: top;\n",
       "    }\n",
       "\n",
       "    .dataframe thead th {\n",
       "        text-align: right;\n",
       "    }\n",
       "</style>\n",
       "<table border=\"1\" class=\"dataframe\">\n",
       "  <thead>\n",
       "    <tr style=\"text-align: right;\">\n",
       "      <th></th>\n",
       "      <th>bedroomcnt</th>\n",
       "      <th>bathroomcnt</th>\n",
       "      <th>calculatedfinishedsquarefeet</th>\n",
       "      <th>taxvaluedollarcnt</th>\n",
       "      <th>yearbuilt</th>\n",
       "      <th>taxamount</th>\n",
       "      <th>fips</th>\n",
       "    </tr>\n",
       "  </thead>\n",
       "  <tbody>\n",
       "    <tr>\n",
       "      <th>4</th>\n",
       "      <td>4.0</td>\n",
       "      <td>2.0</td>\n",
       "      <td>3633</td>\n",
       "      <td>296425</td>\n",
       "      <td>2005</td>\n",
       "      <td>6941.39</td>\n",
       "      <td>6037</td>\n",
       "    </tr>\n",
       "    <tr>\n",
       "      <th>6</th>\n",
       "      <td>3.0</td>\n",
       "      <td>4.0</td>\n",
       "      <td>1620</td>\n",
       "      <td>847770</td>\n",
       "      <td>2011</td>\n",
       "      <td>10244.94</td>\n",
       "      <td>6037</td>\n",
       "    </tr>\n",
       "    <tr>\n",
       "      <th>7</th>\n",
       "      <td>3.0</td>\n",
       "      <td>2.0</td>\n",
       "      <td>2077</td>\n",
       "      <td>646760</td>\n",
       "      <td>1926</td>\n",
       "      <td>7924.68</td>\n",
       "      <td>6037</td>\n",
       "    </tr>\n",
       "    <tr>\n",
       "      <th>18</th>\n",
       "      <td>3.0</td>\n",
       "      <td>1.0</td>\n",
       "      <td>1244</td>\n",
       "      <td>169471</td>\n",
       "      <td>1950</td>\n",
       "      <td>2532.88</td>\n",
       "      <td>6037</td>\n",
       "    </tr>\n",
       "    <tr>\n",
       "      <th>19</th>\n",
       "      <td>3.0</td>\n",
       "      <td>2.0</td>\n",
       "      <td>1300</td>\n",
       "      <td>233266</td>\n",
       "      <td>1950</td>\n",
       "      <td>3110.99</td>\n",
       "      <td>6037</td>\n",
       "    </tr>\n",
       "  </tbody>\n",
       "</table>\n",
       "</div>"
      ],
      "text/plain": [
       "    bedroomcnt  bathroomcnt  calculatedfinishedsquarefeet  taxvaluedollarcnt  \\\n",
       "4          4.0          2.0                          3633             296425   \n",
       "6          3.0          4.0                          1620             847770   \n",
       "7          3.0          2.0                          2077             646760   \n",
       "18         3.0          1.0                          1244             169471   \n",
       "19         3.0          2.0                          1300             233266   \n",
       "\n",
       "    yearbuilt  taxamount  fips  \n",
       "4        2005    6941.39  6037  \n",
       "6        2011   10244.94  6037  \n",
       "7        1926    7924.68  6037  \n",
       "18       1950    2532.88  6037  \n",
       "19       1950    3110.99  6037  "
      ]
     },
     "execution_count": 34,
     "metadata": {},
     "output_type": "execute_result"
    }
   ],
   "source": [
    "df = df[df.bathroomcnt != 0.0]\n",
    "df.head()"
   ]
  },
  {
   "cell_type": "code",
   "execution_count": 35,
   "id": "6d829968-6846-4e9d-ac59-34580a30f273",
   "metadata": {},
   "outputs": [],
   "source": [
    "# filtered out properties with no bedrooms for single family residential properties."
   ]
  },
  {
   "cell_type": "code",
   "execution_count": 36,
   "id": "97761ddc-21e2-4fd5-9a59-79fc2ff7179f",
   "metadata": {},
   "outputs": [
    {
     "data": {
      "text/html": [
       "<div>\n",
       "<style scoped>\n",
       "    .dataframe tbody tr th:only-of-type {\n",
       "        vertical-align: middle;\n",
       "    }\n",
       "\n",
       "    .dataframe tbody tr th {\n",
       "        vertical-align: top;\n",
       "    }\n",
       "\n",
       "    .dataframe thead th {\n",
       "        text-align: right;\n",
       "    }\n",
       "</style>\n",
       "<table border=\"1\" class=\"dataframe\">\n",
       "  <thead>\n",
       "    <tr style=\"text-align: right;\">\n",
       "      <th></th>\n",
       "      <th>bedroomcnt</th>\n",
       "      <th>bathroomcnt</th>\n",
       "      <th>calculatedfinishedsquarefeet</th>\n",
       "      <th>taxvaluedollarcnt</th>\n",
       "      <th>yearbuilt</th>\n",
       "      <th>taxamount</th>\n",
       "      <th>fips</th>\n",
       "    </tr>\n",
       "  </thead>\n",
       "  <tbody>\n",
       "    <tr>\n",
       "      <th>4</th>\n",
       "      <td>4.0</td>\n",
       "      <td>2.0</td>\n",
       "      <td>3633</td>\n",
       "      <td>296425</td>\n",
       "      <td>2005</td>\n",
       "      <td>6941.39</td>\n",
       "      <td>6037</td>\n",
       "    </tr>\n",
       "    <tr>\n",
       "      <th>6</th>\n",
       "      <td>3.0</td>\n",
       "      <td>4.0</td>\n",
       "      <td>1620</td>\n",
       "      <td>847770</td>\n",
       "      <td>2011</td>\n",
       "      <td>10244.94</td>\n",
       "      <td>6037</td>\n",
       "    </tr>\n",
       "    <tr>\n",
       "      <th>7</th>\n",
       "      <td>3.0</td>\n",
       "      <td>2.0</td>\n",
       "      <td>2077</td>\n",
       "      <td>646760</td>\n",
       "      <td>1926</td>\n",
       "      <td>7924.68</td>\n",
       "      <td>6037</td>\n",
       "    </tr>\n",
       "    <tr>\n",
       "      <th>18</th>\n",
       "      <td>3.0</td>\n",
       "      <td>1.0</td>\n",
       "      <td>1244</td>\n",
       "      <td>169471</td>\n",
       "      <td>1950</td>\n",
       "      <td>2532.88</td>\n",
       "      <td>6037</td>\n",
       "    </tr>\n",
       "    <tr>\n",
       "      <th>19</th>\n",
       "      <td>3.0</td>\n",
       "      <td>2.0</td>\n",
       "      <td>1300</td>\n",
       "      <td>233266</td>\n",
       "      <td>1950</td>\n",
       "      <td>3110.99</td>\n",
       "      <td>6037</td>\n",
       "    </tr>\n",
       "  </tbody>\n",
       "</table>\n",
       "</div>"
      ],
      "text/plain": [
       "    bedroomcnt  bathroomcnt  calculatedfinishedsquarefeet  taxvaluedollarcnt  \\\n",
       "4          4.0          2.0                          3633             296425   \n",
       "6          3.0          4.0                          1620             847770   \n",
       "7          3.0          2.0                          2077             646760   \n",
       "18         3.0          1.0                          1244             169471   \n",
       "19         3.0          2.0                          1300             233266   \n",
       "\n",
       "    yearbuilt  taxamount  fips  \n",
       "4        2005    6941.39  6037  \n",
       "6        2011   10244.94  6037  \n",
       "7        1926    7924.68  6037  \n",
       "18       1950    2532.88  6037  \n",
       "19       1950    3110.99  6037  "
      ]
     },
     "execution_count": 36,
     "metadata": {},
     "output_type": "execute_result"
    }
   ],
   "source": [
    "df = df[df.bedroomcnt != 0.0]\n",
    "df.head()"
   ]
  },
  {
   "cell_type": "code",
   "execution_count": 37,
   "id": "bd778fa6-9c1e-418f-8461-086822342391",
   "metadata": {},
   "outputs": [],
   "source": [
    "# after looking t the head() i left taxamount as float and moved on from there and looked at info to check the data"
   ]
  },
  {
   "cell_type": "code",
   "execution_count": 38,
   "id": "3cbbcc1a-5c41-430f-bddc-d43b92aa0579",
   "metadata": {},
   "outputs": [
    {
     "name": "stdout",
     "output_type": "stream",
     "text": [
      "<class 'pandas.core.frame.DataFrame'>\n",
      "Int64Index: 2134909 entries, 4 to 2152862\n",
      "Data columns (total 7 columns):\n",
      " #   Column                        Dtype  \n",
      "---  ------                        -----  \n",
      " 0   bedroomcnt                    float64\n",
      " 1   bathroomcnt                   float64\n",
      " 2   calculatedfinishedsquarefeet  int64  \n",
      " 3   taxvaluedollarcnt             int64  \n",
      " 4   yearbuilt                     int64  \n",
      " 5   taxamount                     float64\n",
      " 6   fips                          int64  \n",
      "dtypes: float64(3), int64(4)\n",
      "memory usage: 130.3 MB\n"
     ]
    }
   ],
   "source": [
    "df.info()"
   ]
  },
  {
   "cell_type": "code",
   "execution_count": 39,
   "id": "69435b8f-68d5-434f-889f-d93fadbb140d",
   "metadata": {},
   "outputs": [
    {
     "data": {
      "text/plain": [
       "(2134909, 7)"
      ]
     },
     "execution_count": 39,
     "metadata": {},
     "output_type": "execute_result"
    }
   ],
   "source": [
    "df.shape"
   ]
  },
  {
   "cell_type": "code",
   "execution_count": 40,
   "id": "49928ecf-9fc1-4ec9-bf3e-da7dd4473856",
   "metadata": {},
   "outputs": [
    {
     "data": {
      "text/html": [
       "<div>\n",
       "<style scoped>\n",
       "    .dataframe tbody tr th:only-of-type {\n",
       "        vertical-align: middle;\n",
       "    }\n",
       "\n",
       "    .dataframe tbody tr th {\n",
       "        vertical-align: top;\n",
       "    }\n",
       "\n",
       "    .dataframe thead th {\n",
       "        text-align: right;\n",
       "    }\n",
       "</style>\n",
       "<table border=\"1\" class=\"dataframe\">\n",
       "  <thead>\n",
       "    <tr style=\"text-align: right;\">\n",
       "      <th></th>\n",
       "      <th>bedroomcnt</th>\n",
       "      <th>bathroomcnt</th>\n",
       "      <th>calculatedfinishedsquarefeet</th>\n",
       "      <th>taxvaluedollarcnt</th>\n",
       "      <th>yearbuilt</th>\n",
       "      <th>taxamount</th>\n",
       "      <th>fips</th>\n",
       "    </tr>\n",
       "  </thead>\n",
       "  <tbody>\n",
       "    <tr>\n",
       "      <th>count</th>\n",
       "      <td>2.134909e+06</td>\n",
       "      <td>2.134909e+06</td>\n",
       "      <td>2.134909e+06</td>\n",
       "      <td>2.134909e+06</td>\n",
       "      <td>2.134909e+06</td>\n",
       "      <td>2.134909e+06</td>\n",
       "      <td>2.134909e+06</td>\n",
       "    </tr>\n",
       "    <tr>\n",
       "      <th>mean</th>\n",
       "      <td>3.308329e+00</td>\n",
       "      <td>2.245188e+00</td>\n",
       "      <td>1.864176e+03</td>\n",
       "      <td>4.608772e+05</td>\n",
       "      <td>1.960985e+03</td>\n",
       "      <td>5.619627e+03</td>\n",
       "      <td>6.048304e+03</td>\n",
       "    </tr>\n",
       "    <tr>\n",
       "      <th>std</th>\n",
       "      <td>9.211604e-01</td>\n",
       "      <td>9.858446e-01</td>\n",
       "      <td>1.162400e+03</td>\n",
       "      <td>6.746805e+05</td>\n",
       "      <td>2.213405e+01</td>\n",
       "      <td>7.784642e+03</td>\n",
       "      <td>2.032450e+01</td>\n",
       "    </tr>\n",
       "    <tr>\n",
       "      <th>min</th>\n",
       "      <td>1.000000e+00</td>\n",
       "      <td>5.000000e-01</td>\n",
       "      <td>1.000000e+00</td>\n",
       "      <td>2.200000e+01</td>\n",
       "      <td>1.801000e+03</td>\n",
       "      <td>1.648000e+01</td>\n",
       "      <td>6.037000e+03</td>\n",
       "    </tr>\n",
       "    <tr>\n",
       "      <th>25%</th>\n",
       "      <td>3.000000e+00</td>\n",
       "      <td>2.000000e+00</td>\n",
       "      <td>1.260000e+03</td>\n",
       "      <td>1.896280e+05</td>\n",
       "      <td>1.949000e+03</td>\n",
       "      <td>2.546700e+03</td>\n",
       "      <td>6.037000e+03</td>\n",
       "    </tr>\n",
       "    <tr>\n",
       "      <th>50%</th>\n",
       "      <td>3.000000e+00</td>\n",
       "      <td>2.000000e+00</td>\n",
       "      <td>1.624000e+03</td>\n",
       "      <td>3.288570e+05</td>\n",
       "      <td>1.958000e+03</td>\n",
       "      <td>4.116040e+03</td>\n",
       "      <td>6.037000e+03</td>\n",
       "    </tr>\n",
       "    <tr>\n",
       "      <th>75%</th>\n",
       "      <td>4.000000e+00</td>\n",
       "      <td>3.000000e+00</td>\n",
       "      <td>2.209000e+03</td>\n",
       "      <td>5.350000e+05</td>\n",
       "      <td>1.976000e+03</td>\n",
       "      <td>6.415760e+03</td>\n",
       "      <td>6.059000e+03</td>\n",
       "    </tr>\n",
       "    <tr>\n",
       "      <th>max</th>\n",
       "      <td>2.500000e+01</td>\n",
       "      <td>3.200000e+01</td>\n",
       "      <td>9.525760e+05</td>\n",
       "      <td>9.018846e+07</td>\n",
       "      <td>2.016000e+03</td>\n",
       "      <td>1.078102e+06</td>\n",
       "      <td>6.111000e+03</td>\n",
       "    </tr>\n",
       "  </tbody>\n",
       "</table>\n",
       "</div>"
      ],
      "text/plain": [
       "         bedroomcnt   bathroomcnt  calculatedfinishedsquarefeet  \\\n",
       "count  2.134909e+06  2.134909e+06                  2.134909e+06   \n",
       "mean   3.308329e+00  2.245188e+00                  1.864176e+03   \n",
       "std    9.211604e-01  9.858446e-01                  1.162400e+03   \n",
       "min    1.000000e+00  5.000000e-01                  1.000000e+00   \n",
       "25%    3.000000e+00  2.000000e+00                  1.260000e+03   \n",
       "50%    3.000000e+00  2.000000e+00                  1.624000e+03   \n",
       "75%    4.000000e+00  3.000000e+00                  2.209000e+03   \n",
       "max    2.500000e+01  3.200000e+01                  9.525760e+05   \n",
       "\n",
       "       taxvaluedollarcnt     yearbuilt     taxamount          fips  \n",
       "count       2.134909e+06  2.134909e+06  2.134909e+06  2.134909e+06  \n",
       "mean        4.608772e+05  1.960985e+03  5.619627e+03  6.048304e+03  \n",
       "std         6.746805e+05  2.213405e+01  7.784642e+03  2.032450e+01  \n",
       "min         2.200000e+01  1.801000e+03  1.648000e+01  6.037000e+03  \n",
       "25%         1.896280e+05  1.949000e+03  2.546700e+03  6.037000e+03  \n",
       "50%         3.288570e+05  1.958000e+03  4.116040e+03  6.037000e+03  \n",
       "75%         5.350000e+05  1.976000e+03  6.415760e+03  6.059000e+03  \n",
       "max         9.018846e+07  2.016000e+03  1.078102e+06  6.111000e+03  "
      ]
     },
     "execution_count": 40,
     "metadata": {},
     "output_type": "execute_result"
    }
   ],
   "source": [
    "df.describe()"
   ]
  },
  {
   "cell_type": "code",
   "execution_count": 41,
   "id": "4048931b-1bcc-4c0e-9508-3d6c90b2091c",
   "metadata": {},
   "outputs": [],
   "source": [
    "# decided to not plot and look at the distribution of the cleaned up data."
   ]
  },
  {
   "cell_type": "markdown",
   "id": "2e6fd129-e6dc-43f2-8397-2254d3966a4a",
   "metadata": {},
   "source": [
    "### 3. Store all of the necessary functions to automate your process from acquiring the data to returning a cleaned dataframe with no missing values in your *wrangle.py* file. Name your final function *wrangle_zillow*."
   ]
  },
  {
   "cell_type": "code",
   "execution_count": 42,
   "id": "fbc2ece0-b2ea-4dfa-87e6-ec9e956f64f1",
   "metadata": {},
   "outputs": [],
   "source": [
    "# used example from lesson for the function in retrieving the zillow data."
   ]
  },
  {
   "cell_type": "code",
   "execution_count": 43,
   "id": "de1607e5-0363-4e47-aa14-11c1e500a014",
   "metadata": {},
   "outputs": [],
   "source": [
    "def acquire_zillow():\n",
    "    '''\n",
    "    Read student_grades into a pandas DataFrame from mySQL,\n",
    "    drop student_id column, replace whitespaces with NaN values,\n",
    "    drop any rows with Null values, convert all columns to int64,\n",
    "    return cleaned student grades DataFrame.\n",
    "    '''\n",
    "\n",
    "    # Acquire data\n",
    "\n",
    "    filename = 'zillow_data_2017.csv'\n",
    "\n",
    "    if os.path.isfile(filename):\n",
    "        \n",
    "        return pd.read_csv(filename)\n",
    "        \n",
    "    else: \n",
    "\n",
    "        query = '''\n",
    "                SELECT \n",
    "                    bedroomcnt,\n",
    "                    bathroomcnt,\n",
    "                    calculatedfinishedsquarefeet,\n",
    "                    taxvaluedollarcnt,\n",
    "                    yearbuilt,\n",
    "                    taxamount,\n",
    "                    fips\n",
    "                FROM \n",
    "                    properties_2017\n",
    "                WHERE \n",
    "                    propertylandusetypeid = 261; -- 'Single Family Residential'\n",
    "                '''\n",
    "\n",
    "        url = get_connection('zillow')\n",
    "                \n",
    "        df = pd.read_sql(query, url)\n",
    "\n",
    "        return df \n"
   ]
  },
  {
   "cell_type": "code",
   "execution_count": 44,
   "id": "bfd838a9-eb77-471f-b09a-96b97d4cebbf",
   "metadata": {},
   "outputs": [],
   "source": [
    "# created celaning function of retrieved data."
   ]
  },
  {
   "cell_type": "code",
   "execution_count": 45,
   "id": "8a99f989-5e5a-47a1-97a1-bfdc352504bc",
   "metadata": {},
   "outputs": [],
   "source": [
    "def clean_zillow():\n",
    "    \n",
    "    df = acquire_zillow()\n",
    "    \n",
    "    # Drop rows with missing values in any column\n",
    "    df = df.dropna()\n",
    "\n",
    "    #rename cols\n",
    "    df = df.rename(columns= {'bedroomcnt': 'bedrooms', 'bathroomcnt': 'bathrooms', 'calculatedfinishedsquarefeet' : 'area', 'taxvaluedollarcnt': 'tax_value', 'yearbuilt': 'year_built', 'taxamount': 'tax_amount'})\n",
    "\n",
    "    # Convert selected columns to integer type\n",
    "    int_columns = ['fips', 'year_built', 'tax_value', 'area', 'bedrooms']\n",
    "    df[int_columns] = df[int_columns].astype(int)\n",
    "\n",
    "    # Remove rows where bathroomcnt or bedroomcnt is 0.0\n",
    "    # df = df[(df.bedrooms != 0.0) & (df.bathrooms != 0.0)]\n",
    "\n",
    "    initial_df = {'county': ['LOS ANGELES', 'ORANGE', 'VENTURA'], 'fips' : [6037, 6059, 6111]}\n",
    "    \n",
    "    df1=pd.DataFrame(initial_df)\n",
    "    \n",
    "    df=df1.merge(df)\n",
    "    \n",
    "    # df.set_index(df['fips'], inplace=True)\n",
    "\n",
    "    return df"
   ]
  },
  {
   "cell_type": "code",
   "execution_count": 46,
   "id": "49c24cac-b8de-46df-8408-571b689dc2ca",
   "metadata": {},
   "outputs": [],
   "source": [
    "df = clean_zillow()\n",
    "\n",
    "# df.to_csv('zillow_data.csv',index=False)"
   ]
  },
  {
   "cell_type": "code",
   "execution_count": 47,
   "id": "4ab40d00-d311-45b2-9234-47acbd50aaf8",
   "metadata": {},
   "outputs": [
    {
     "data": {
      "text/html": [
       "<div>\n",
       "<style scoped>\n",
       "    .dataframe tbody tr th:only-of-type {\n",
       "        vertical-align: middle;\n",
       "    }\n",
       "\n",
       "    .dataframe tbody tr th {\n",
       "        vertical-align: top;\n",
       "    }\n",
       "\n",
       "    .dataframe thead th {\n",
       "        text-align: right;\n",
       "    }\n",
       "</style>\n",
       "<table border=\"1\" class=\"dataframe\">\n",
       "  <thead>\n",
       "    <tr style=\"text-align: right;\">\n",
       "      <th></th>\n",
       "      <th>county</th>\n",
       "      <th>fips</th>\n",
       "      <th>bedrooms</th>\n",
       "      <th>bathrooms</th>\n",
       "      <th>area</th>\n",
       "      <th>tax_value</th>\n",
       "      <th>year_built</th>\n",
       "      <th>tax_amount</th>\n",
       "    </tr>\n",
       "  </thead>\n",
       "  <tbody>\n",
       "    <tr>\n",
       "      <th>0</th>\n",
       "      <td>LOS ANGELES</td>\n",
       "      <td>6037</td>\n",
       "      <td>4</td>\n",
       "      <td>2.0</td>\n",
       "      <td>3633</td>\n",
       "      <td>296425</td>\n",
       "      <td>2005</td>\n",
       "      <td>6941.39</td>\n",
       "    </tr>\n",
       "    <tr>\n",
       "      <th>1</th>\n",
       "      <td>LOS ANGELES</td>\n",
       "      <td>6037</td>\n",
       "      <td>3</td>\n",
       "      <td>4.0</td>\n",
       "      <td>1620</td>\n",
       "      <td>847770</td>\n",
       "      <td>2011</td>\n",
       "      <td>10244.94</td>\n",
       "    </tr>\n",
       "    <tr>\n",
       "      <th>2</th>\n",
       "      <td>LOS ANGELES</td>\n",
       "      <td>6037</td>\n",
       "      <td>3</td>\n",
       "      <td>2.0</td>\n",
       "      <td>2077</td>\n",
       "      <td>646760</td>\n",
       "      <td>1926</td>\n",
       "      <td>7924.68</td>\n",
       "    </tr>\n",
       "    <tr>\n",
       "      <th>3</th>\n",
       "      <td>LOS ANGELES</td>\n",
       "      <td>6037</td>\n",
       "      <td>0</td>\n",
       "      <td>0.0</td>\n",
       "      <td>1200</td>\n",
       "      <td>5328</td>\n",
       "      <td>1972</td>\n",
       "      <td>91.60</td>\n",
       "    </tr>\n",
       "    <tr>\n",
       "      <th>4</th>\n",
       "      <td>LOS ANGELES</td>\n",
       "      <td>6037</td>\n",
       "      <td>0</td>\n",
       "      <td>0.0</td>\n",
       "      <td>171</td>\n",
       "      <td>6920</td>\n",
       "      <td>1973</td>\n",
       "      <td>255.17</td>\n",
       "    </tr>\n",
       "  </tbody>\n",
       "</table>\n",
       "</div>"
      ],
      "text/plain": [
       "        county  fips  bedrooms  bathrooms  area  tax_value  year_built  \\\n",
       "0  LOS ANGELES  6037         4        2.0  3633     296425        2005   \n",
       "1  LOS ANGELES  6037         3        4.0  1620     847770        2011   \n",
       "2  LOS ANGELES  6037         3        2.0  2077     646760        1926   \n",
       "3  LOS ANGELES  6037         0        0.0  1200       5328        1972   \n",
       "4  LOS ANGELES  6037         0        0.0   171       6920        1973   \n",
       "\n",
       "   tax_amount  \n",
       "0     6941.39  \n",
       "1    10244.94  \n",
       "2     7924.68  \n",
       "3       91.60  \n",
       "4      255.17  "
      ]
     },
     "execution_count": 47,
     "metadata": {},
     "output_type": "execute_result"
    }
   ],
   "source": [
    "df.head()"
   ]
  },
  {
   "cell_type": "code",
   "execution_count": 48,
   "id": "274c5b8a-961d-4101-9238-479a6a26ee5e",
   "metadata": {},
   "outputs": [
    {
     "name": "stdout",
     "output_type": "stream",
     "text": [
      "<class 'pandas.core.frame.DataFrame'>\n",
      "Int64Index: 2140235 entries, 0 to 2140234\n",
      "Data columns (total 8 columns):\n",
      " #   Column      Dtype  \n",
      "---  ------      -----  \n",
      " 0   county      object \n",
      " 1   fips        int64  \n",
      " 2   bedrooms    int64  \n",
      " 3   bathrooms   float64\n",
      " 4   area        int64  \n",
      " 5   tax_value   int64  \n",
      " 6   year_built  int64  \n",
      " 7   tax_amount  float64\n",
      "dtypes: float64(2), int64(5), object(1)\n",
      "memory usage: 147.0+ MB\n"
     ]
    }
   ],
   "source": [
    "df.info()"
   ]
  },
  {
   "cell_type": "code",
   "execution_count": 49,
   "id": "5017bbd5-81dd-4998-80a8-875e487371b9",
   "metadata": {},
   "outputs": [
    {
     "data": {
      "text/plain": [
       "county        0\n",
       "fips          0\n",
       "bedrooms      0\n",
       "bathrooms     0\n",
       "area          0\n",
       "tax_value     0\n",
       "year_built    0\n",
       "tax_amount    0\n",
       "dtype: int64"
      ]
     },
     "execution_count": 49,
     "metadata": {},
     "output_type": "execute_result"
    }
   ],
   "source": [
    "df.isnull().sum()"
   ]
  }
 ],
 "metadata": {
  "kernelspec": {
   "display_name": "Python 3 (ipykernel)",
   "language": "python",
   "name": "python3"
  },
  "language_info": {
   "codemirror_mode": {
    "name": "ipython",
    "version": 3
   },
   "file_extension": ".py",
   "mimetype": "text/x-python",
   "name": "python",
   "nbconvert_exporter": "python",
   "pygments_lexer": "ipython3",
   "version": "3.10.9"
  }
 },
 "nbformat": 4,
 "nbformat_minor": 5
}
