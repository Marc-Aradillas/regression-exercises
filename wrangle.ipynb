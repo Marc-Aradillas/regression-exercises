{
 "cells": [
  {
   "cell_type": "markdown",
   "id": "e32beec5-9c79-4b0e-a59e-bf7738b0f268",
   "metadata": {},
   "source": [
    "Exercises I\n",
    "\n",
    "Let's review the steps we take at the beginning of each new module.\n",
    "\n",
    "1. Create a new repository named regression-exercises in your GitHub; all of your Regression work will be housed here.\n",
    "\n",
    "# ✔️\n",
    "\n",
    "2. Clone this repository within your local codeup-data-science directory.\n",
    "\n",
    "# ✔️\n",
    "\n",
    "3. Create a .gitignore and make sure your list of 'files to ignore' includes your env.py file.\n",
    "\n",
    "# ✔️\n",
    "\n",
    "4. Create a README.md file that outlines the contents and purpose of your repository.\n",
    "\n",
    "# ✔️\n",
    "\n",
    "5. Add, commit, and push these two files.\n",
    "\n",
    "# ✔️\n",
    "\n",
    "6. Now you can add your env.py file to this repository to access the Codeup database server.\n",
    "\n",
    "# ✔️\n",
    "\n",
    "7. For these exercises, you will create wrangle.ipynb and wrangle.py files to hold necessary functions.\n",
    "\n",
    "# ✔️\n",
    "\n",
    "8. As always, add, commit, and push your work often.\n",
    "\n",
    "# ✔️\n",
    "\n",
    "\n",
    "Exercises II\n",
    "Let's set up an example scenario as perspective for our regression exercises using the Zillow dataset.\n",
    "\n",
    "As a Codeup data science graduate, you want to show off your skills to the Zillow data science team in hopes of getting an interview for a position you saw pop up on LinkedIn. You thought it might look impressive to build an end-to-end project in which you use some of their Kaggle data to predict property values using some of their available features; who knows, you might even do some feature engineering to blow them away. Your goal is to predict the values of single unit properties using the obervations from 2017.\n",
    "\n",
    "In these exercises, you will complete the first step toward the above goal: acquire and prepare the necessary Zillow data from the zillow database in the Codeup database server.\n",
    "\n",
    "1. Acquire *bedroomcnt*, *bathroomcnt*, *calculatedfinishedsquarefeet*, *taxvaluedollarcnt*, *yearbuilt*, *taxamount*, and *fips* from the *zillow* database for all 'Single Family Residential' properties.\n",
    "\n",
    "2. Using your acquired Zillow data, walk through the summarization and cleaning steps in your *wrangle.ipynb* file like we did above. You may handle the missing values however you feel is appropriate and meaningful; remember to document your process and decisions using markdown and code commenting where helpful.\n",
    "\n",
    "3. Store all of the necessary functions to automate your process from acquiring the data to returning a cleaned dataframe with no missing values in your *wrangle.py* file. Name your final function *wrangle_zillow*."
   ]
  }
 ],
 "metadata": {
  "kernelspec": {
   "display_name": "Python 3 (ipykernel)",
   "language": "python",
   "name": "python3"
  },
  "language_info": {
   "codemirror_mode": {
    "name": "ipython",
    "version": 3
   },
   "file_extension": ".py",
   "mimetype": "text/x-python",
   "name": "python",
   "nbconvert_exporter": "python",
   "pygments_lexer": "ipython3",
   "version": "3.10.9"
  }
 },
 "nbformat": 4,
 "nbformat_minor": 5
}
